{
  "nbformat": 4,
  "nbformat_minor": 0,
  "metadata": {
    "colab": {
      "name": "Cardiovascular Risk Prediction- Sheikh Mohsin Kader.ipynb",
      "provenance": [],
      "mount_file_id": "1uICv0OJwGhYrY6YGFwRjGc0pqHKTD7CI",
      "authorship_tag": "ABX9TyNqjYIYWK7xMKser73Vk1+v",
      "include_colab_link": true
    },
    "kernelspec": {
      "name": "python3",
      "display_name": "Python 3"
    },
    "language_info": {
      "name": "python"
    }
  },
  "cells": [
    {
      "cell_type": "markdown",
      "metadata": {
        "id": "view-in-github",
        "colab_type": "text"
      },
      "source": [
        "<a href=\"https://colab.research.google.com/github/smkmohsin/Cardiovascular-Risk-Prediction/blob/main/Cardiovascular_Risk_Prediction_Sheikh_Mohsin_Kader.ipynb\" target=\"_parent\"><img src=\"https://colab.research.google.com/assets/colab-badge.svg\" alt=\"Open In Colab\"/></a>"
      ]
    },
    {
      "cell_type": "markdown",
      "metadata": {
        "id": "48CZUk17HZTd"
      },
      "source": [
        "# <b>The dataset is from an ongoing cardiovascular study on residents of the town of Framingham, Massachusetts. The classification goal is to predict whether the patient has a 10-year risk of future coronary heart disease (CHD). The dataset provides the patients’ information. It includes over 4,000 records and 15 attributes. \n",
        "# <b>Each attribute is a potential risk factor. There are both demographic, behavioral, and medical risk factors. "
      ]
    },
    {
      "cell_type": "markdown",
      "metadata": {
        "id": "4kyajR8IHyb9"
      },
      "source": [
        "# <b><u> Data Description </u></b>\n",
        "###Demographic: \n",
        "\n",
        "• **Sex**: male or female(\"M\" or \"F\") \n",
        "\n",
        "• **Age**: Age of the patient;(Continuous - Although the recorded ages have been truncated to whole numbers, the concept of age is continuous) \n",
        "###Behavioral \n",
        "• **is_smoking**: whether or not the patient is a current smoker (\"YES\" or \"NO\") \n",
        "\n",
        "• **Cigs Per Day**: the number of cigarettes that the person smoked on average in one day.(can be considered continuous as one can have any number of cigarettes, even half a cigarette.) \n",
        "\n",
        "###Medical( history) \n",
        "• **BP Meds**: whether or not the patient was on blood pressure medication (Nominal) \n",
        "\n",
        "• **Prevalent Stroke**: whether or not the patient had previously had a stroke (Nominal) \n",
        "\n",
        "• **Prevalent Hyp**: whether or not the patient was hypertensive (Nominal) \n",
        "\n",
        "• **Diabetes**: whether or not the patient had diabetes (Nominal) \n",
        "\n",
        "###Medical(current) \n",
        "• **Tot Chol**: total cholesterol level (Continuous) \n",
        "\n",
        "• **Sys BP**: systolic blood pressure (Continuous) \n",
        "\n",
        "• **Dia BP**: diastolic blood pressure (Continuous) \n",
        "\n",
        "• **BMI**: Body Mass Index (Continuous) \n",
        "\n",
        "• **Heart Rate**: heart rate (Continuous - In medical research, variables such as heart rate though in fact discrete, yet are considered continuous because of large number of possible values.) \n",
        "\n",
        "• **Glucose**: glucose level (Continuous) \n",
        "\n",
        "###Predict variable (desired target) \n",
        "• **CHD**: 10-year risk of coronary heart disease (binary: “1”, means “Yes”, “0” means “No”) - DV"
      ]
    },
    {
      "cell_type": "markdown",
      "metadata": {
        "id": "vRunvFooLptL"
      },
      "source": [
        "# <b>Importing Libaries "
      ]
    },
    {
      "cell_type": "code",
      "metadata": {
        "id": "wVpP0fJrJK_Z"
      },
      "source": [
        "%matplotlib inline\n",
        "import pandas as pd\n",
        "import matplotlib.pyplot as plt\n",
        "import seaborn as sns\n",
        "import numpy as np\n",
        "\n",
        "from scipy.stats import norm\n",
        "from scipy import stats\n",
        "from sklearn.metrics import confusion_matrix, accuracy_score, roc_auc_score, classification_report\n",
        "from sklearn.model_selection import GridSearchCV\n",
        "\n",
        "import warnings\n",
        "warnings.filterwarnings('ignore')\n",
        "\n",
        "plt.rcParams['figure.figsize'] = (10, 6)"
      ],
      "execution_count": 480,
      "outputs": []
    },
    {
      "cell_type": "code",
      "metadata": {
        "id": "SlzyzOF5L_hE",
        "colab": {
          "base_uri": "https://localhost:8080/"
        },
        "outputId": "7f74f72a-1682-417d-e87a-f7435379f124"
      },
      "source": [
        "from google.colab import drive\n",
        "drive.mount('/content/drive')"
      ],
      "execution_count": 481,
      "outputs": [
        {
          "output_type": "stream",
          "name": "stdout",
          "text": [
            "Drive already mounted at /content/drive; to attempt to forcibly remount, call drive.mount(\"/content/drive\", force_remount=True).\n"
          ]
        }
      ]
    },
    {
      "cell_type": "code",
      "metadata": {
        "id": "sU117ARRMB0K"
      },
      "source": [
        "# Importing Dataset\n",
        "dataset = pd.read_csv('/content/drive/MyDrive/Almabetter/Module 4/Capstone Project 2/data_cardiovascular_risk.csv')"
      ],
      "execution_count": 482,
      "outputs": []
    },
    {
      "cell_type": "markdown",
      "metadata": {
        "id": "XILhe-MuMvON"
      },
      "source": [
        "# <b> Data Inspection"
      ]
    },
    {
      "cell_type": "code",
      "metadata": {
        "colab": {
          "base_uri": "https://localhost:8080/",
          "height": 0
        },
        "id": "laOYvBzvMKZa",
        "outputId": "63e20dc1-e4f7-4846-c175-cef810564c0c"
      },
      "source": [
        "dataset.head()"
      ],
      "execution_count": 483,
      "outputs": [
        {
          "output_type": "execute_result",
          "data": {
            "text/html": [
              "<div>\n",
              "<style scoped>\n",
              "    .dataframe tbody tr th:only-of-type {\n",
              "        vertical-align: middle;\n",
              "    }\n",
              "\n",
              "    .dataframe tbody tr th {\n",
              "        vertical-align: top;\n",
              "    }\n",
              "\n",
              "    .dataframe thead th {\n",
              "        text-align: right;\n",
              "    }\n",
              "</style>\n",
              "<table border=\"1\" class=\"dataframe\">\n",
              "  <thead>\n",
              "    <tr style=\"text-align: right;\">\n",
              "      <th></th>\n",
              "      <th>id</th>\n",
              "      <th>age</th>\n",
              "      <th>education</th>\n",
              "      <th>sex</th>\n",
              "      <th>is_smoking</th>\n",
              "      <th>cigsPerDay</th>\n",
              "      <th>BPMeds</th>\n",
              "      <th>prevalentStroke</th>\n",
              "      <th>prevalentHyp</th>\n",
              "      <th>diabetes</th>\n",
              "      <th>totChol</th>\n",
              "      <th>sysBP</th>\n",
              "      <th>diaBP</th>\n",
              "      <th>BMI</th>\n",
              "      <th>heartRate</th>\n",
              "      <th>glucose</th>\n",
              "      <th>TenYearCHD</th>\n",
              "    </tr>\n",
              "  </thead>\n",
              "  <tbody>\n",
              "    <tr>\n",
              "      <th>0</th>\n",
              "      <td>0</td>\n",
              "      <td>64</td>\n",
              "      <td>2.0</td>\n",
              "      <td>F</td>\n",
              "      <td>YES</td>\n",
              "      <td>3.0</td>\n",
              "      <td>0.0</td>\n",
              "      <td>0</td>\n",
              "      <td>0</td>\n",
              "      <td>0</td>\n",
              "      <td>221.0</td>\n",
              "      <td>148.0</td>\n",
              "      <td>85.0</td>\n",
              "      <td>NaN</td>\n",
              "      <td>90.0</td>\n",
              "      <td>80.0</td>\n",
              "      <td>1</td>\n",
              "    </tr>\n",
              "    <tr>\n",
              "      <th>1</th>\n",
              "      <td>1</td>\n",
              "      <td>36</td>\n",
              "      <td>4.0</td>\n",
              "      <td>M</td>\n",
              "      <td>NO</td>\n",
              "      <td>0.0</td>\n",
              "      <td>0.0</td>\n",
              "      <td>0</td>\n",
              "      <td>1</td>\n",
              "      <td>0</td>\n",
              "      <td>212.0</td>\n",
              "      <td>168.0</td>\n",
              "      <td>98.0</td>\n",
              "      <td>29.77</td>\n",
              "      <td>72.0</td>\n",
              "      <td>75.0</td>\n",
              "      <td>0</td>\n",
              "    </tr>\n",
              "    <tr>\n",
              "      <th>2</th>\n",
              "      <td>2</td>\n",
              "      <td>46</td>\n",
              "      <td>1.0</td>\n",
              "      <td>F</td>\n",
              "      <td>YES</td>\n",
              "      <td>10.0</td>\n",
              "      <td>0.0</td>\n",
              "      <td>0</td>\n",
              "      <td>0</td>\n",
              "      <td>0</td>\n",
              "      <td>250.0</td>\n",
              "      <td>116.0</td>\n",
              "      <td>71.0</td>\n",
              "      <td>20.35</td>\n",
              "      <td>88.0</td>\n",
              "      <td>94.0</td>\n",
              "      <td>0</td>\n",
              "    </tr>\n",
              "    <tr>\n",
              "      <th>3</th>\n",
              "      <td>3</td>\n",
              "      <td>50</td>\n",
              "      <td>1.0</td>\n",
              "      <td>M</td>\n",
              "      <td>YES</td>\n",
              "      <td>20.0</td>\n",
              "      <td>0.0</td>\n",
              "      <td>0</td>\n",
              "      <td>1</td>\n",
              "      <td>0</td>\n",
              "      <td>233.0</td>\n",
              "      <td>158.0</td>\n",
              "      <td>88.0</td>\n",
              "      <td>28.26</td>\n",
              "      <td>68.0</td>\n",
              "      <td>94.0</td>\n",
              "      <td>1</td>\n",
              "    </tr>\n",
              "    <tr>\n",
              "      <th>4</th>\n",
              "      <td>4</td>\n",
              "      <td>64</td>\n",
              "      <td>1.0</td>\n",
              "      <td>F</td>\n",
              "      <td>YES</td>\n",
              "      <td>30.0</td>\n",
              "      <td>0.0</td>\n",
              "      <td>0</td>\n",
              "      <td>0</td>\n",
              "      <td>0</td>\n",
              "      <td>241.0</td>\n",
              "      <td>136.5</td>\n",
              "      <td>85.0</td>\n",
              "      <td>26.42</td>\n",
              "      <td>70.0</td>\n",
              "      <td>77.0</td>\n",
              "      <td>0</td>\n",
              "    </tr>\n",
              "  </tbody>\n",
              "</table>\n",
              "</div>"
            ],
            "text/plain": [
              "   id  age  education sex  ...    BMI  heartRate  glucose  TenYearCHD\n",
              "0   0   64        2.0   F  ...    NaN       90.0     80.0           1\n",
              "1   1   36        4.0   M  ...  29.77       72.0     75.0           0\n",
              "2   2   46        1.0   F  ...  20.35       88.0     94.0           0\n",
              "3   3   50        1.0   M  ...  28.26       68.0     94.0           1\n",
              "4   4   64        1.0   F  ...  26.42       70.0     77.0           0\n",
              "\n",
              "[5 rows x 17 columns]"
            ]
          },
          "metadata": {},
          "execution_count": 483
        }
      ]
    },
    {
      "cell_type": "code",
      "metadata": {
        "colab": {
          "base_uri": "https://localhost:8080/"
        },
        "id": "j3D5em3SM07c",
        "outputId": "62944275-8bd9-4fcb-ea11-f253c787ba10"
      },
      "source": [
        "dataset.shape"
      ],
      "execution_count": 484,
      "outputs": [
        {
          "output_type": "execute_result",
          "data": {
            "text/plain": [
              "(3390, 17)"
            ]
          },
          "metadata": {},
          "execution_count": 484
        }
      ]
    },
    {
      "cell_type": "code",
      "metadata": {
        "colab": {
          "base_uri": "https://localhost:8080/"
        },
        "id": "Xr34A5tpNwn0",
        "outputId": "46771163-c4fb-4654-9eec-90484390a1cc"
      },
      "source": [
        "dataset.info()"
      ],
      "execution_count": 485,
      "outputs": [
        {
          "output_type": "stream",
          "name": "stdout",
          "text": [
            "<class 'pandas.core.frame.DataFrame'>\n",
            "RangeIndex: 3390 entries, 0 to 3389\n",
            "Data columns (total 17 columns):\n",
            " #   Column           Non-Null Count  Dtype  \n",
            "---  ------           --------------  -----  \n",
            " 0   id               3390 non-null   int64  \n",
            " 1   age              3390 non-null   int64  \n",
            " 2   education        3303 non-null   float64\n",
            " 3   sex              3390 non-null   object \n",
            " 4   is_smoking       3390 non-null   object \n",
            " 5   cigsPerDay       3368 non-null   float64\n",
            " 6   BPMeds           3346 non-null   float64\n",
            " 7   prevalentStroke  3390 non-null   int64  \n",
            " 8   prevalentHyp     3390 non-null   int64  \n",
            " 9   diabetes         3390 non-null   int64  \n",
            " 10  totChol          3352 non-null   float64\n",
            " 11  sysBP            3390 non-null   float64\n",
            " 12  diaBP            3390 non-null   float64\n",
            " 13  BMI              3376 non-null   float64\n",
            " 14  heartRate        3389 non-null   float64\n",
            " 15  glucose          3086 non-null   float64\n",
            " 16  TenYearCHD       3390 non-null   int64  \n",
            "dtypes: float64(9), int64(6), object(2)\n",
            "memory usage: 450.4+ KB\n"
          ]
        }
      ]
    },
    {
      "cell_type": "code",
      "metadata": {
        "colab": {
          "base_uri": "https://localhost:8080/",
          "height": 0
        },
        "id": "TBO-wxXCNcI7",
        "outputId": "8ddcc8b7-59a2-4e42-b475-169d1aec67a3"
      },
      "source": [
        "dataset.describe()"
      ],
      "execution_count": 486,
      "outputs": [
        {
          "output_type": "execute_result",
          "data": {
            "text/html": [
              "<div>\n",
              "<style scoped>\n",
              "    .dataframe tbody tr th:only-of-type {\n",
              "        vertical-align: middle;\n",
              "    }\n",
              "\n",
              "    .dataframe tbody tr th {\n",
              "        vertical-align: top;\n",
              "    }\n",
              "\n",
              "    .dataframe thead th {\n",
              "        text-align: right;\n",
              "    }\n",
              "</style>\n",
              "<table border=\"1\" class=\"dataframe\">\n",
              "  <thead>\n",
              "    <tr style=\"text-align: right;\">\n",
              "      <th></th>\n",
              "      <th>id</th>\n",
              "      <th>age</th>\n",
              "      <th>education</th>\n",
              "      <th>cigsPerDay</th>\n",
              "      <th>BPMeds</th>\n",
              "      <th>prevalentStroke</th>\n",
              "      <th>prevalentHyp</th>\n",
              "      <th>diabetes</th>\n",
              "      <th>totChol</th>\n",
              "      <th>sysBP</th>\n",
              "      <th>diaBP</th>\n",
              "      <th>BMI</th>\n",
              "      <th>heartRate</th>\n",
              "      <th>glucose</th>\n",
              "      <th>TenYearCHD</th>\n",
              "    </tr>\n",
              "  </thead>\n",
              "  <tbody>\n",
              "    <tr>\n",
              "      <th>count</th>\n",
              "      <td>3390.000000</td>\n",
              "      <td>3390.000000</td>\n",
              "      <td>3303.000000</td>\n",
              "      <td>3368.000000</td>\n",
              "      <td>3346.000000</td>\n",
              "      <td>3390.000000</td>\n",
              "      <td>3390.000000</td>\n",
              "      <td>3390.000000</td>\n",
              "      <td>3352.000000</td>\n",
              "      <td>3390.00000</td>\n",
              "      <td>3390.000000</td>\n",
              "      <td>3376.000000</td>\n",
              "      <td>3389.000000</td>\n",
              "      <td>3086.000000</td>\n",
              "      <td>3390.000000</td>\n",
              "    </tr>\n",
              "    <tr>\n",
              "      <th>mean</th>\n",
              "      <td>1694.500000</td>\n",
              "      <td>49.542183</td>\n",
              "      <td>1.970936</td>\n",
              "      <td>9.069477</td>\n",
              "      <td>0.029886</td>\n",
              "      <td>0.006490</td>\n",
              "      <td>0.315339</td>\n",
              "      <td>0.025664</td>\n",
              "      <td>237.074284</td>\n",
              "      <td>132.60118</td>\n",
              "      <td>82.883038</td>\n",
              "      <td>25.794964</td>\n",
              "      <td>75.977279</td>\n",
              "      <td>82.086520</td>\n",
              "      <td>0.150737</td>\n",
              "    </tr>\n",
              "    <tr>\n",
              "      <th>std</th>\n",
              "      <td>978.753033</td>\n",
              "      <td>8.592878</td>\n",
              "      <td>1.019081</td>\n",
              "      <td>11.879078</td>\n",
              "      <td>0.170299</td>\n",
              "      <td>0.080309</td>\n",
              "      <td>0.464719</td>\n",
              "      <td>0.158153</td>\n",
              "      <td>45.247430</td>\n",
              "      <td>22.29203</td>\n",
              "      <td>12.023581</td>\n",
              "      <td>4.115449</td>\n",
              "      <td>11.971868</td>\n",
              "      <td>24.244753</td>\n",
              "      <td>0.357846</td>\n",
              "    </tr>\n",
              "    <tr>\n",
              "      <th>min</th>\n",
              "      <td>0.000000</td>\n",
              "      <td>32.000000</td>\n",
              "      <td>1.000000</td>\n",
              "      <td>0.000000</td>\n",
              "      <td>0.000000</td>\n",
              "      <td>0.000000</td>\n",
              "      <td>0.000000</td>\n",
              "      <td>0.000000</td>\n",
              "      <td>107.000000</td>\n",
              "      <td>83.50000</td>\n",
              "      <td>48.000000</td>\n",
              "      <td>15.960000</td>\n",
              "      <td>45.000000</td>\n",
              "      <td>40.000000</td>\n",
              "      <td>0.000000</td>\n",
              "    </tr>\n",
              "    <tr>\n",
              "      <th>25%</th>\n",
              "      <td>847.250000</td>\n",
              "      <td>42.000000</td>\n",
              "      <td>1.000000</td>\n",
              "      <td>0.000000</td>\n",
              "      <td>0.000000</td>\n",
              "      <td>0.000000</td>\n",
              "      <td>0.000000</td>\n",
              "      <td>0.000000</td>\n",
              "      <td>206.000000</td>\n",
              "      <td>117.00000</td>\n",
              "      <td>74.500000</td>\n",
              "      <td>23.020000</td>\n",
              "      <td>68.000000</td>\n",
              "      <td>71.000000</td>\n",
              "      <td>0.000000</td>\n",
              "    </tr>\n",
              "    <tr>\n",
              "      <th>50%</th>\n",
              "      <td>1694.500000</td>\n",
              "      <td>49.000000</td>\n",
              "      <td>2.000000</td>\n",
              "      <td>0.000000</td>\n",
              "      <td>0.000000</td>\n",
              "      <td>0.000000</td>\n",
              "      <td>0.000000</td>\n",
              "      <td>0.000000</td>\n",
              "      <td>234.000000</td>\n",
              "      <td>128.50000</td>\n",
              "      <td>82.000000</td>\n",
              "      <td>25.380000</td>\n",
              "      <td>75.000000</td>\n",
              "      <td>78.000000</td>\n",
              "      <td>0.000000</td>\n",
              "    </tr>\n",
              "    <tr>\n",
              "      <th>75%</th>\n",
              "      <td>2541.750000</td>\n",
              "      <td>56.000000</td>\n",
              "      <td>3.000000</td>\n",
              "      <td>20.000000</td>\n",
              "      <td>0.000000</td>\n",
              "      <td>0.000000</td>\n",
              "      <td>1.000000</td>\n",
              "      <td>0.000000</td>\n",
              "      <td>264.000000</td>\n",
              "      <td>144.00000</td>\n",
              "      <td>90.000000</td>\n",
              "      <td>28.040000</td>\n",
              "      <td>83.000000</td>\n",
              "      <td>87.000000</td>\n",
              "      <td>0.000000</td>\n",
              "    </tr>\n",
              "    <tr>\n",
              "      <th>max</th>\n",
              "      <td>3389.000000</td>\n",
              "      <td>70.000000</td>\n",
              "      <td>4.000000</td>\n",
              "      <td>70.000000</td>\n",
              "      <td>1.000000</td>\n",
              "      <td>1.000000</td>\n",
              "      <td>1.000000</td>\n",
              "      <td>1.000000</td>\n",
              "      <td>696.000000</td>\n",
              "      <td>295.00000</td>\n",
              "      <td>142.500000</td>\n",
              "      <td>56.800000</td>\n",
              "      <td>143.000000</td>\n",
              "      <td>394.000000</td>\n",
              "      <td>1.000000</td>\n",
              "    </tr>\n",
              "  </tbody>\n",
              "</table>\n",
              "</div>"
            ],
            "text/plain": [
              "                id          age  ...      glucose   TenYearCHD\n",
              "count  3390.000000  3390.000000  ...  3086.000000  3390.000000\n",
              "mean   1694.500000    49.542183  ...    82.086520     0.150737\n",
              "std     978.753033     8.592878  ...    24.244753     0.357846\n",
              "min       0.000000    32.000000  ...    40.000000     0.000000\n",
              "25%     847.250000    42.000000  ...    71.000000     0.000000\n",
              "50%    1694.500000    49.000000  ...    78.000000     0.000000\n",
              "75%    2541.750000    56.000000  ...    87.000000     0.000000\n",
              "max    3389.000000    70.000000  ...   394.000000     1.000000\n",
              "\n",
              "[8 rows x 15 columns]"
            ]
          },
          "metadata": {},
          "execution_count": 486
        }
      ]
    },
    {
      "cell_type": "code",
      "metadata": {
        "colab": {
          "base_uri": "https://localhost:8080/"
        },
        "id": "cG3Q9gj6N_0B",
        "outputId": "6546dcb4-132a-4074-bddb-4f660a8cede2"
      },
      "source": [
        "dataset.columns"
      ],
      "execution_count": 487,
      "outputs": [
        {
          "output_type": "execute_result",
          "data": {
            "text/plain": [
              "Index(['id', 'age', 'education', 'sex', 'is_smoking', 'cigsPerDay', 'BPMeds',\n",
              "       'prevalentStroke', 'prevalentHyp', 'diabetes', 'totChol', 'sysBP',\n",
              "       'diaBP', 'BMI', 'heartRate', 'glucose', 'TenYearCHD'],\n",
              "      dtype='object')"
            ]
          },
          "metadata": {},
          "execution_count": 487
        }
      ]
    },
    {
      "cell_type": "code",
      "metadata": {
        "colab": {
          "base_uri": "https://localhost:8080/",
          "height": 0
        },
        "id": "ExfRh6XK-Ibc",
        "outputId": "da733699-9cd9-462c-b0ce-54dfcc087644"
      },
      "source": [
        "# visualize the target variable\n",
        "g = sns.countplot(dataset['TenYearCHD'])\n",
        "g.set_xticklabels(['No Risk of CHD','Risk of CHD'])\n",
        "plt.show()"
      ],
      "execution_count": 488,
      "outputs": [
        {
          "output_type": "display_data",
          "data": {
            "image/png": "[encoded data removed]",
            "text/plain": [
              "<Figure size 720x432 with 1 Axes>"
            ]
          },
          "metadata": {
            "needs_background": "light"
          }
        }
      ]
    },
    {
      "cell_type": "markdown",
      "metadata": {
        "id": "YFl_p-sGJCxv"
      },
      "source": [
        "As we can see from the above figure, data set is **imbalanced!** Using simpler metrics like accuracy score can be misleading. In a dataset with highly unbalanced classes, the classifier will always “predict” the most common class without performing any analysis of the features and it will have a high accuracy rate, obviously not the correct one."
      ]
    },
    {
      "cell_type": "markdown",
      "metadata": {
        "id": "j3r5v5IgJbM2"
      },
      "source": [
        "Let's see how our models peform with this imbalanced data and also after balancing the data"
      ]
    },
    {
      "cell_type": "markdown",
      "metadata": {
        "id": "AAyq82nBPD1a"
      },
      "source": [
        "# <b> Data Cleansing"
      ]
    },
    {
      "cell_type": "markdown",
      "metadata": {
        "id": "gol4-UlAVq-s"
      },
      "source": [
        "> ## Removing unnecessary Column"
      ]
    },
    {
      "cell_type": "markdown",
      "metadata": {
        "id": "TRLeoIfaWFLh"
      },
      "source": [
        "'id' & 'education' column will not help predicting coronary heart disease"
      ]
    },
    {
      "cell_type": "code",
      "metadata": {
        "id": "zQgH8zfEPbUC"
      },
      "source": [
        "dataset.drop(['id', 'education'], inplace=True, axis=1)"
      ],
      "execution_count": 489,
      "outputs": []
    },
    {
      "cell_type": "code",
      "metadata": {
        "colab": {
          "base_uri": "https://localhost:8080/"
        },
        "id": "bHcgcY9HXVL_",
        "outputId": "f7615281-d650-4859-edda-2e07ee235c87"
      },
      "source": [
        "dataset.shape"
      ],
      "execution_count": 490,
      "outputs": [
        {
          "output_type": "execute_result",
          "data": {
            "text/plain": [
              "(3390, 15)"
            ]
          },
          "metadata": {},
          "execution_count": 490
        }
      ]
    },
    {
      "cell_type": "markdown",
      "metadata": {
        "id": "eW5vQgH40q86"
      },
      "source": [
        "> ## Handling Missing Data"
      ]
    },
    {
      "cell_type": "markdown",
      "metadata": {
        "id": "y6AYQSTOZoIe"
      },
      "source": [
        "\n",
        "From the entry totals above, many of the features are missing a significant amount of data. Explore these columns further to determine the best approach for each."
      ]
    },
    {
      "cell_type": "code",
      "metadata": {
        "colab": {
          "base_uri": "https://localhost:8080/"
        },
        "id": "pJ_n4vfTOS6p",
        "outputId": "6d5a9547-fe10-4c2c-e8f4-fe13a31c54bf"
      },
      "source": [
        "# Missing Value Count Function\n",
        "def show_missing():\n",
        "    missing = dataset.columns[dataset.isnull().any()].tolist()\n",
        "    return missing\n",
        "\n",
        "# Missing data counts and percentage\n",
        "print('Missing Data Count')\n",
        "print(dataset[show_missing()].isnull().sum().sort_values(ascending = False))\n",
        "print('--'*50)\n",
        "print('Missing Data Percentage')\n",
        "print(round(dataset[show_missing()].isnull().sum().sort_values(ascending = False)/len(dataset)*100,2))"
      ],
      "execution_count": 491,
      "outputs": [
        {
          "output_type": "stream",
          "name": "stdout",
          "text": [
            "Missing Data Count\n",
            "glucose       304\n",
            "BPMeds         44\n",
            "totChol        38\n",
            "cigsPerDay     22\n",
            "BMI            14\n",
            "heartRate       1\n",
            "dtype: int64\n",
            "----------------------------------------------------------------------------------------------------\n",
            "Missing Data Percentage\n",
            "glucose       8.97\n",
            "BPMeds        1.30\n",
            "totChol       1.12\n",
            "cigsPerDay    0.65\n",
            "BMI           0.41\n",
            "heartRate     0.03\n",
            "dtype: float64\n"
          ]
        }
      ]
    },
    {
      "cell_type": "code",
      "metadata": {
        "id": "oK56XV77ZnzY",
        "colab": {
          "base_uri": "https://localhost:8080/"
        },
        "outputId": "8b85d77f-c9a5-4e21-e05b-9f5920414f86"
      },
      "source": [
        "print(len(dataset[dataset['cigsPerDay'].isna()][['is_smoking','cigsPerDay']]))"
      ],
      "execution_count": 492,
      "outputs": [
        {
          "output_type": "stream",
          "name": "stdout",
          "text": [
            "22\n"
          ]
        }
      ]
    },
    {
      "cell_type": "markdown",
      "metadata": {
        "id": "5CGGniitDwee"
      },
      "source": [
        ">### Feature Glucose"
      ]
    },
    {
      "cell_type": "code",
      "metadata": {
        "id": "ljoaPe73azY1",
        "colab": {
          "base_uri": "https://localhost:8080/",
          "height": 0
        },
        "outputId": "a5067417-478b-4896-ce95-ffce3ca607ba"
      },
      "source": [
        "sns.distplot(dataset['glucose'].dropna())"
      ],
      "execution_count": 493,
      "outputs": [
        {
          "output_type": "execute_result",
          "data": {
            "text/plain": [
              "<matplotlib.axes._subplots.AxesSubplot at 0x7f35b11d4190>"
            ]
          },
          "metadata": {},
          "execution_count": 493
        },
        {
          "output_type": "display_data",
          "data": {
            "image/png": "[encoded data removed]",
            "text/plain": [
              "<Figure size 720x432 with 1 Axes>"
            ]
          },
          "metadata": {
            "needs_background": "light"
          }
        }
      ]
    },
    {
      "cell_type": "markdown",
      "metadata": {
        "id": "ICDUs3pHZoIi"
      },
      "source": [
        "#### Positively Skewed - So we will impute it with Median"
      ]
    },
    {
      "cell_type": "code",
      "metadata": {
        "id": "L_DISh3mZoIi",
        "colab": {
          "base_uri": "https://localhost:8080/"
        },
        "outputId": "c4d0f630-7b69-4342-cc53-85eb89902cc7"
      },
      "source": [
        "dataset['glucose'] = dataset['glucose'].fillna(dataset['glucose'].median())\n",
        "print('Glucose value missing after filling with median:', dataset['glucose'].isnull().sum())"
      ],
      "execution_count": 494,
      "outputs": [
        {
          "output_type": "stream",
          "name": "stdout",
          "text": [
            "Glucose value missing after filling with median: 0\n"
          ]
        }
      ]
    },
    {
      "cell_type": "markdown",
      "metadata": {
        "id": "xJ_je-EaGJN0"
      },
      "source": [
        ">### Feature BPMeds, totChol, cigsPerDay, BMI, heartRate"
      ]
    },
    {
      "cell_type": "markdown",
      "metadata": {
        "id": "207T6yGdGv0E"
      },
      "source": [
        "As missing data is less than 2% so well drop the rows with missing value"
      ]
    },
    {
      "cell_type": "code",
      "metadata": {
        "id": "cpkYswcOc81u"
      },
      "source": [
        "dataset.dropna(axis=0, inplace=True)"
      ],
      "execution_count": 495,
      "outputs": []
    },
    {
      "cell_type": "code",
      "metadata": {
        "colab": {
          "base_uri": "https://localhost:8080/"
        },
        "id": "0RPuGfc8HSj8",
        "outputId": "322f958e-6363-4f2b-cb0b-91b6fd6beb1b"
      },
      "source": [
        "dataset.info()"
      ],
      "execution_count": 496,
      "outputs": [
        {
          "output_type": "stream",
          "name": "stdout",
          "text": [
            "<class 'pandas.core.frame.DataFrame'>\n",
            "Int64Index: 3272 entries, 1 to 3389\n",
            "Data columns (total 15 columns):\n",
            " #   Column           Non-Null Count  Dtype  \n",
            "---  ------           --------------  -----  \n",
            " 0   age              3272 non-null   int64  \n",
            " 1   sex              3272 non-null   object \n",
            " 2   is_smoking       3272 non-null   object \n",
            " 3   cigsPerDay       3272 non-null   float64\n",
            " 4   BPMeds           3272 non-null   float64\n",
            " 5   prevalentStroke  3272 non-null   int64  \n",
            " 6   prevalentHyp     3272 non-null   int64  \n",
            " 7   diabetes         3272 non-null   int64  \n",
            " 8   totChol          3272 non-null   float64\n",
            " 9   sysBP            3272 non-null   float64\n",
            " 10  diaBP            3272 non-null   float64\n",
            " 11  BMI              3272 non-null   float64\n",
            " 12  heartRate        3272 non-null   float64\n",
            " 13  glucose          3272 non-null   float64\n",
            " 14  TenYearCHD       3272 non-null   int64  \n",
            "dtypes: float64(8), int64(5), object(2)\n",
            "memory usage: 409.0+ KB\n"
          ]
        }
      ]
    },
    {
      "cell_type": "code",
      "metadata": {
        "id": "0Lj6q1SwHUyi",
        "colab": {
          "base_uri": "https://localhost:8080/"
        },
        "outputId": "c46ee805-7bd6-4adb-a838-926f5f3c5d5a"
      },
      "source": [
        "dataset.shape"
      ],
      "execution_count": 497,
      "outputs": [
        {
          "output_type": "execute_result",
          "data": {
            "text/plain": [
              "(3272, 15)"
            ]
          },
          "metadata": {},
          "execution_count": 497
        }
      ]
    },
    {
      "cell_type": "code",
      "metadata": {
        "colab": {
          "base_uri": "https://localhost:8080/",
          "height": 0
        },
        "id": "0XPmnZ4lyHuf",
        "outputId": "2e9ee5e6-1ec4-4c98-cb5c-099fe2e11c95"
      },
      "source": [
        "dataset.head()"
      ],
      "execution_count": 498,
      "outputs": [
        {
          "output_type": "execute_result",
          "data": {
            "text/html": [
              "<div>\n",
              "<style scoped>\n",
              "    .dataframe tbody tr th:only-of-type {\n",
              "        vertical-align: middle;\n",
              "    }\n",
              "\n",
              "    .dataframe tbody tr th {\n",
              "        vertical-align: top;\n",
              "    }\n",
              "\n",
              "    .dataframe thead th {\n",
              "        text-align: right;\n",
              "    }\n",
              "</style>\n",
              "<table border=\"1\" class=\"dataframe\">\n",
              "  <thead>\n",
              "    <tr style=\"text-align: right;\">\n",
              "      <th></th>\n",
              "      <th>age</th>\n",
              "      <th>sex</th>\n",
              "      <th>is_smoking</th>\n",
              "      <th>cigsPerDay</th>\n",
              "      <th>BPMeds</th>\n",
              "      <th>prevalentStroke</th>\n",
              "      <th>prevalentHyp</th>\n",
              "      <th>diabetes</th>\n",
              "      <th>totChol</th>\n",
              "      <th>sysBP</th>\n",
              "      <th>diaBP</th>\n",
              "      <th>BMI</th>\n",
              "      <th>heartRate</th>\n",
              "      <th>glucose</th>\n",
              "      <th>TenYearCHD</th>\n",
              "    </tr>\n",
              "  </thead>\n",
              "  <tbody>\n",
              "    <tr>\n",
              "      <th>1</th>\n",
              "      <td>36</td>\n",
              "      <td>M</td>\n",
              "      <td>NO</td>\n",
              "      <td>0.0</td>\n",
              "      <td>0.0</td>\n",
              "      <td>0</td>\n",
              "      <td>1</td>\n",
              "      <td>0</td>\n",
              "      <td>212.0</td>\n",
              "      <td>168.0</td>\n",
              "      <td>98.0</td>\n",
              "      <td>29.77</td>\n",
              "      <td>72.0</td>\n",
              "      <td>75.0</td>\n",
              "      <td>0</td>\n",
              "    </tr>\n",
              "    <tr>\n",
              "      <th>2</th>\n",
              "      <td>46</td>\n",
              "      <td>F</td>\n",
              "      <td>YES</td>\n",
              "      <td>10.0</td>\n",
              "      <td>0.0</td>\n",
              "      <td>0</td>\n",
              "      <td>0</td>\n",
              "      <td>0</td>\n",
              "      <td>250.0</td>\n",
              "      <td>116.0</td>\n",
              "      <td>71.0</td>\n",
              "      <td>20.35</td>\n",
              "      <td>88.0</td>\n",
              "      <td>94.0</td>\n",
              "      <td>0</td>\n",
              "    </tr>\n",
              "    <tr>\n",
              "      <th>3</th>\n",
              "      <td>50</td>\n",
              "      <td>M</td>\n",
              "      <td>YES</td>\n",
              "      <td>20.0</td>\n",
              "      <td>0.0</td>\n",
              "      <td>0</td>\n",
              "      <td>1</td>\n",
              "      <td>0</td>\n",
              "      <td>233.0</td>\n",
              "      <td>158.0</td>\n",
              "      <td>88.0</td>\n",
              "      <td>28.26</td>\n",
              "      <td>68.0</td>\n",
              "      <td>94.0</td>\n",
              "      <td>1</td>\n",
              "    </tr>\n",
              "    <tr>\n",
              "      <th>4</th>\n",
              "      <td>64</td>\n",
              "      <td>F</td>\n",
              "      <td>YES</td>\n",
              "      <td>30.0</td>\n",
              "      <td>0.0</td>\n",
              "      <td>0</td>\n",
              "      <td>0</td>\n",
              "      <td>0</td>\n",
              "      <td>241.0</td>\n",
              "      <td>136.5</td>\n",
              "      <td>85.0</td>\n",
              "      <td>26.42</td>\n",
              "      <td>70.0</td>\n",
              "      <td>77.0</td>\n",
              "      <td>0</td>\n",
              "    </tr>\n",
              "    <tr>\n",
              "      <th>5</th>\n",
              "      <td>61</td>\n",
              "      <td>F</td>\n",
              "      <td>NO</td>\n",
              "      <td>0.0</td>\n",
              "      <td>0.0</td>\n",
              "      <td>0</td>\n",
              "      <td>1</td>\n",
              "      <td>0</td>\n",
              "      <td>272.0</td>\n",
              "      <td>182.0</td>\n",
              "      <td>121.0</td>\n",
              "      <td>32.80</td>\n",
              "      <td>85.0</td>\n",
              "      <td>65.0</td>\n",
              "      <td>1</td>\n",
              "    </tr>\n",
              "  </tbody>\n",
              "</table>\n",
              "</div>"
            ],
            "text/plain": [
              "   age sex is_smoking  cigsPerDay  ...    BMI  heartRate  glucose  TenYearCHD\n",
              "1   36   M         NO         0.0  ...  29.77       72.0     75.0           0\n",
              "2   46   F        YES        10.0  ...  20.35       88.0     94.0           0\n",
              "3   50   M        YES        20.0  ...  28.26       68.0     94.0           1\n",
              "4   64   F        YES        30.0  ...  26.42       70.0     77.0           0\n",
              "5   61   F         NO         0.0  ...  32.80       85.0     65.0           1\n",
              "\n",
              "[5 rows x 15 columns]"
            ]
          },
          "metadata": {},
          "execution_count": 498
        }
      ]
    },
    {
      "cell_type": "markdown",
      "metadata": {
        "id": "Nzd5Al_7ZoIp"
      },
      "source": [
        ">## Handling Outliers"
      ]
    },
    {
      "cell_type": "code",
      "metadata": {
        "id": "aLR82XyIZoIp",
        "colab": {
          "base_uri": "https://localhost:8080/"
        },
        "outputId": "d78a13be-be03-45b3-b63c-dc70443c5eef"
      },
      "source": [
        "# find categorical variables\n",
        "categorical = [var for var in dataset.columns if dataset[var].dtype=='O']\n",
        "print('There are {} categorical variables'.format(len(categorical)))"
      ],
      "execution_count": 499,
      "outputs": [
        {
          "output_type": "stream",
          "name": "stdout",
          "text": [
            "There are 2 categorical variables\n"
          ]
        }
      ]
    },
    {
      "cell_type": "code",
      "metadata": {
        "id": "NyRGPTkPZoIp",
        "colab": {
          "base_uri": "https://localhost:8080/"
        },
        "outputId": "61d8d8e2-9caa-402e-a9dd-c9ee861f83ad"
      },
      "source": [
        "# find Numerical variables\n",
        "numerical = [var for var in dataset.columns if dataset[var].dtype!='O']\n",
        "print('There are {} numerical variables'.format(len(numerical)))"
      ],
      "execution_count": 500,
      "outputs": [
        {
          "output_type": "stream",
          "name": "stdout",
          "text": [
            "There are 13 numerical variables\n"
          ]
        }
      ]
    },
    {
      "cell_type": "code",
      "metadata": {
        "id": "bxQRAAyzZoIp",
        "colab": {
          "base_uri": "https://localhost:8080/"
        },
        "outputId": "ba9fdde9-59d5-46f0-ef87-e4fd0ee3c83f"
      },
      "source": [
        "discrete = []\n",
        "for var in numerical:\n",
        "    if len(dataset[var].unique())<20:\n",
        "        print(var, ' values: ', dataset[var].unique())\n",
        "        discrete.append(var)\n",
        "        \n",
        "print('There are {} discrete variables'.format(len(discrete)))"
      ],
      "execution_count": 501,
      "outputs": [
        {
          "output_type": "stream",
          "name": "stdout",
          "text": [
            "BPMeds  values:  [0. 1.]\n",
            "prevalentStroke  values:  [0 1]\n",
            "prevalentHyp  values:  [1 0]\n",
            "diabetes  values:  [0 1]\n",
            "TenYearCHD  values:  [0 1]\n",
            "There are 5 discrete variables\n"
          ]
        }
      ]
    },
    {
      "cell_type": "code",
      "metadata": {
        "id": "aPQM665_ZoIq"
      },
      "source": [
        "continuous = [var for var in numerical if var not in discrete and var not in ['TenYearCHD']]"
      ],
      "execution_count": 502,
      "outputs": []
    },
    {
      "cell_type": "code",
      "metadata": {
        "id": "zfboes3aZoIq",
        "colab": {
          "base_uri": "https://localhost:8080/",
          "height": 0
        },
        "outputId": "19879fdd-32a1-42e5-8fec-b2969799873a"
      },
      "source": [
        "for var in continuous:\n",
        "    plt.figure(figsize=(15,6))\n",
        "    plt.subplot(1, 2, 1)\n",
        "    fig = sns.boxplot(y=dataset[var])\n",
        "    fig.set_title('')\n",
        "    fig.set_ylabel(var)\n",
        "    \n",
        "    plt.subplot(1, 2, 2)\n",
        "    fig = sns.distplot(dataset[var].dropna())\n",
        "    fig.set_ylabel('Count')\n",
        "    fig.set_xlabel(var)\n",
        "\n",
        "    plt.show()"
      ],
      "execution_count": 503,
      "outputs": [
        {
          "output_type": "display_data",
          "data": {
            "image/png": "[encoded data removed]",
            "text/plain": [
              "<Figure size 1080x432 with 2 Axes>"
            ]
          },
          "metadata": {
            "needs_background": "light"
          }
        },
        {
          "output_type": "display_data",
          "data": {
            "image/png": "[encoded data removed]",
            "text/plain": [
              "<Figure size 1080x432 with 2 Axes>"
            ]
          },
          "metadata": {
            "needs_background": "light"
          }
        },
        {
          "output_type": "display_data",
          "data": {
            "image/png": "[encoded data removed]",
            "text/plain": [
              "<Figure size 1080x432 with 2 Axes>"
            ]
          },
          "metadata": {
            "needs_background": "light"
          }
        },
        {
          "output_type": "display_data",
          "data": {
            "image/png": "[encoded data removed]",
            "text/plain": [
              "<Figure size 1080x432 with 2 Axes>"
            ]
          },
          "metadata": {
            "needs_background": "light"
          }
        },
        {
          "output_type": "display_data",
          "data": {
            "image/png": "[encoded data removed]",
            "text/plain": [
              "<Figure size 1080x432 with 2 Axes>"
            ]
          },
          "metadata": {
            "needs_background": "light"
          }
        },
        {
          "output_type": "display_data",
          "data": {
            "image/png": "[encoded data removed]",
            "text/plain": [
              "<Figure size 1080x432 with 2 Axes>"
            ]
          },
          "metadata": {
            "needs_background": "light"
          }
        },
        {
          "output_type": "display_data",
          "data": {
            "image/png": "[encoded data removed]",
            "text/plain": [
              "<Figure size 1080x432 with 2 Axes>"
            ]
          },
          "metadata": {
            "needs_background": "light"
          }
        },
        {
          "output_type": "display_data",
          "data": {
            "image/png": "[encoded data removed]",
            "text/plain": [
              "<Figure size 1080x432 with 2 Axes>"
            ]
          },
          "metadata": {
            "needs_background": "light"
          }
        }
      ]
    },
    {
      "cell_type": "markdown",
      "metadata": {
        "id": "ix2qb1bFq-eE"
      },
      "source": [
        "There are outlier but these outliers will help us to predict CHD"
      ]
    },
    {
      "cell_type": "code",
      "metadata": {
        "colab": {
          "base_uri": "https://localhost:8080/"
        },
        "id": "d6HFFkNCrb35",
        "outputId": "3251de7f-2405-4d55-92f2-a8af92366d29"
      },
      "source": [
        "dataset.shape"
      ],
      "execution_count": 504,
      "outputs": [
        {
          "output_type": "execute_result",
          "data": {
            "text/plain": [
              "(3272, 15)"
            ]
          },
          "metadata": {},
          "execution_count": 504
        }
      ]
    },
    {
      "cell_type": "markdown",
      "metadata": {
        "id": "fvUfDq9IZoIt"
      },
      "source": [
        ">## Feature Encoding"
      ]
    },
    {
      "cell_type": "code",
      "metadata": {
        "id": "EddrbTFZuB5G"
      },
      "source": [
        "# Encode Categorical Variables\n",
        "dataset['is_smoking'] = dataset['is_smoking'].map({'NO':0,'YES':1})"
      ],
      "execution_count": 505,
      "outputs": []
    },
    {
      "cell_type": "code",
      "metadata": {
        "id": "NJGkGgoP30uh"
      },
      "source": [
        "# One hot encoding\n",
        "dataset = pd.get_dummies(dataset, columns=['sex'])"
      ],
      "execution_count": 506,
      "outputs": []
    },
    {
      "cell_type": "code",
      "metadata": {
        "colab": {
          "base_uri": "https://localhost:8080/",
          "height": 0
        },
        "id": "XKInHQ-v4Fvk",
        "outputId": "ff86313a-d89d-4db4-9a49-0fd700e84768"
      },
      "source": [
        "dataset"
      ],
      "execution_count": 507,
      "outputs": [
        {
          "output_type": "execute_result",
          "data": {
            "text/html": [
              "<div>\n",
              "<style scoped>\n",
              "    .dataframe tbody tr th:only-of-type {\n",
              "        vertical-align: middle;\n",
              "    }\n",
              "\n",
              "    .dataframe tbody tr th {\n",
              "        vertical-align: top;\n",
              "    }\n",
              "\n",
              "    .dataframe thead th {\n",
              "        text-align: right;\n",
              "    }\n",
              "</style>\n",
              "<table border=\"1\" class=\"dataframe\">\n",
              "  <thead>\n",
              "    <tr style=\"text-align: right;\">\n",
              "      <th></th>\n",
              "      <th>age</th>\n",
              "      <th>is_smoking</th>\n",
              "      <th>cigsPerDay</th>\n",
              "      <th>BPMeds</th>\n",
              "      <th>prevalentStroke</th>\n",
              "      <th>prevalentHyp</th>\n",
              "      <th>diabetes</th>\n",
              "      <th>totChol</th>\n",
              "      <th>sysBP</th>\n",
              "      <th>diaBP</th>\n",
              "      <th>BMI</th>\n",
              "      <th>heartRate</th>\n",
              "      <th>glucose</th>\n",
              "      <th>TenYearCHD</th>\n",
              "      <th>sex_F</th>\n",
              "      <th>sex_M</th>\n",
              "    </tr>\n",
              "  </thead>\n",
              "  <tbody>\n",
              "    <tr>\n",
              "      <th>1</th>\n",
              "      <td>36</td>\n",
              "      <td>0</td>\n",
              "      <td>0.0</td>\n",
              "      <td>0.0</td>\n",
              "      <td>0</td>\n",
              "      <td>1</td>\n",
              "      <td>0</td>\n",
              "      <td>212.0</td>\n",
              "      <td>168.0</td>\n",
              "      <td>98.0</td>\n",
              "      <td>29.77</td>\n",
              "      <td>72.0</td>\n",
              "      <td>75.0</td>\n",
              "      <td>0</td>\n",
              "      <td>0</td>\n",
              "      <td>1</td>\n",
              "    </tr>\n",
              "    <tr>\n",
              "      <th>2</th>\n",
              "      <td>46</td>\n",
              "      <td>1</td>\n",
              "      <td>10.0</td>\n",
              "      <td>0.0</td>\n",
              "      <td>0</td>\n",
              "      <td>0</td>\n",
              "      <td>0</td>\n",
              "      <td>250.0</td>\n",
              "      <td>116.0</td>\n",
              "      <td>71.0</td>\n",
              "      <td>20.35</td>\n",
              "      <td>88.0</td>\n",
              "      <td>94.0</td>\n",
              "      <td>0</td>\n",
              "      <td>1</td>\n",
              "      <td>0</td>\n",
              "    </tr>\n",
              "    <tr>\n",
              "      <th>3</th>\n",
              "      <td>50</td>\n",
              "      <td>1</td>\n",
              "      <td>20.0</td>\n",
              "      <td>0.0</td>\n",
              "      <td>0</td>\n",
              "      <td>1</td>\n",
              "      <td>0</td>\n",
              "      <td>233.0</td>\n",
              "      <td>158.0</td>\n",
              "      <td>88.0</td>\n",
              "      <td>28.26</td>\n",
              "      <td>68.0</td>\n",
              "      <td>94.0</td>\n",
              "      <td>1</td>\n",
              "      <td>0</td>\n",
              "      <td>1</td>\n",
              "    </tr>\n",
              "    <tr>\n",
              "      <th>4</th>\n",
              "      <td>64</td>\n",
              "      <td>1</td>\n",
              "      <td>30.0</td>\n",
              "      <td>0.0</td>\n",
              "      <td>0</td>\n",
              "      <td>0</td>\n",
              "      <td>0</td>\n",
              "      <td>241.0</td>\n",
              "      <td>136.5</td>\n",
              "      <td>85.0</td>\n",
              "      <td>26.42</td>\n",
              "      <td>70.0</td>\n",
              "      <td>77.0</td>\n",
              "      <td>0</td>\n",
              "      <td>1</td>\n",
              "      <td>0</td>\n",
              "    </tr>\n",
              "    <tr>\n",
              "      <th>5</th>\n",
              "      <td>61</td>\n",
              "      <td>0</td>\n",
              "      <td>0.0</td>\n",
              "      <td>0.0</td>\n",
              "      <td>0</td>\n",
              "      <td>1</td>\n",
              "      <td>0</td>\n",
              "      <td>272.0</td>\n",
              "      <td>182.0</td>\n",
              "      <td>121.0</td>\n",
              "      <td>32.80</td>\n",
              "      <td>85.0</td>\n",
              "      <td>65.0</td>\n",
              "      <td>1</td>\n",
              "      <td>1</td>\n",
              "      <td>0</td>\n",
              "    </tr>\n",
              "    <tr>\n",
              "      <th>...</th>\n",
              "      <td>...</td>\n",
              "      <td>...</td>\n",
              "      <td>...</td>\n",
              "      <td>...</td>\n",
              "      <td>...</td>\n",
              "      <td>...</td>\n",
              "      <td>...</td>\n",
              "      <td>...</td>\n",
              "      <td>...</td>\n",
              "      <td>...</td>\n",
              "      <td>...</td>\n",
              "      <td>...</td>\n",
              "      <td>...</td>\n",
              "      <td>...</td>\n",
              "      <td>...</td>\n",
              "      <td>...</td>\n",
              "    </tr>\n",
              "    <tr>\n",
              "      <th>3384</th>\n",
              "      <td>61</td>\n",
              "      <td>0</td>\n",
              "      <td>0.0</td>\n",
              "      <td>0.0</td>\n",
              "      <td>0</td>\n",
              "      <td>1</td>\n",
              "      <td>0</td>\n",
              "      <td>217.0</td>\n",
              "      <td>182.0</td>\n",
              "      <td>86.0</td>\n",
              "      <td>26.98</td>\n",
              "      <td>105.0</td>\n",
              "      <td>113.0</td>\n",
              "      <td>0</td>\n",
              "      <td>1</td>\n",
              "      <td>0</td>\n",
              "    </tr>\n",
              "    <tr>\n",
              "      <th>3385</th>\n",
              "      <td>60</td>\n",
              "      <td>0</td>\n",
              "      <td>0.0</td>\n",
              "      <td>0.0</td>\n",
              "      <td>0</td>\n",
              "      <td>0</td>\n",
              "      <td>0</td>\n",
              "      <td>261.0</td>\n",
              "      <td>123.5</td>\n",
              "      <td>79.0</td>\n",
              "      <td>29.28</td>\n",
              "      <td>70.0</td>\n",
              "      <td>103.0</td>\n",
              "      <td>0</td>\n",
              "      <td>1</td>\n",
              "      <td>0</td>\n",
              "    </tr>\n",
              "    <tr>\n",
              "      <th>3386</th>\n",
              "      <td>46</td>\n",
              "      <td>0</td>\n",
              "      <td>0.0</td>\n",
              "      <td>0.0</td>\n",
              "      <td>0</td>\n",
              "      <td>0</td>\n",
              "      <td>0</td>\n",
              "      <td>199.0</td>\n",
              "      <td>102.0</td>\n",
              "      <td>56.0</td>\n",
              "      <td>21.96</td>\n",
              "      <td>80.0</td>\n",
              "      <td>84.0</td>\n",
              "      <td>0</td>\n",
              "      <td>1</td>\n",
              "      <td>0</td>\n",
              "    </tr>\n",
              "    <tr>\n",
              "      <th>3387</th>\n",
              "      <td>44</td>\n",
              "      <td>1</td>\n",
              "      <td>3.0</td>\n",
              "      <td>0.0</td>\n",
              "      <td>0</td>\n",
              "      <td>1</td>\n",
              "      <td>0</td>\n",
              "      <td>352.0</td>\n",
              "      <td>164.0</td>\n",
              "      <td>119.0</td>\n",
              "      <td>28.92</td>\n",
              "      <td>73.0</td>\n",
              "      <td>72.0</td>\n",
              "      <td>1</td>\n",
              "      <td>0</td>\n",
              "      <td>1</td>\n",
              "    </tr>\n",
              "    <tr>\n",
              "      <th>3389</th>\n",
              "      <td>54</td>\n",
              "      <td>0</td>\n",
              "      <td>0.0</td>\n",
              "      <td>0.0</td>\n",
              "      <td>0</td>\n",
              "      <td>0</td>\n",
              "      <td>0</td>\n",
              "      <td>288.0</td>\n",
              "      <td>124.0</td>\n",
              "      <td>77.0</td>\n",
              "      <td>29.88</td>\n",
              "      <td>79.0</td>\n",
              "      <td>92.0</td>\n",
              "      <td>0</td>\n",
              "      <td>1</td>\n",
              "      <td>0</td>\n",
              "    </tr>\n",
              "  </tbody>\n",
              "</table>\n",
              "<p>3272 rows × 16 columns</p>\n",
              "</div>"
            ],
            "text/plain": [
              "      age  is_smoking  cigsPerDay  BPMeds  ...  glucose  TenYearCHD  sex_F  sex_M\n",
              "1      36           0         0.0     0.0  ...     75.0           0      0      1\n",
              "2      46           1        10.0     0.0  ...     94.0           0      1      0\n",
              "3      50           1        20.0     0.0  ...     94.0           1      0      1\n",
              "4      64           1        30.0     0.0  ...     77.0           0      1      0\n",
              "5      61           0         0.0     0.0  ...     65.0           1      1      0\n",
              "...   ...         ...         ...     ...  ...      ...         ...    ...    ...\n",
              "3384   61           0         0.0     0.0  ...    113.0           0      1      0\n",
              "3385   60           0         0.0     0.0  ...    103.0           0      1      0\n",
              "3386   46           0         0.0     0.0  ...     84.0           0      1      0\n",
              "3387   44           1         3.0     0.0  ...     72.0           1      0      1\n",
              "3389   54           0         0.0     0.0  ...     92.0           0      1      0\n",
              "\n",
              "[3272 rows x 16 columns]"
            ]
          },
          "metadata": {},
          "execution_count": 507
        }
      ]
    },
    {
      "cell_type": "code",
      "metadata": {
        "colab": {
          "base_uri": "https://localhost:8080/"
        },
        "id": "N44bmR-mvHZ2",
        "outputId": "c5285a09-f4dc-426a-dcf6-cec252d4f5b3"
      },
      "source": [
        "dataset.shape"
      ],
      "execution_count": 508,
      "outputs": [
        {
          "output_type": "execute_result",
          "data": {
            "text/plain": [
              "(3272, 16)"
            ]
          },
          "metadata": {},
          "execution_count": 508
        }
      ]
    },
    {
      "cell_type": "code",
      "metadata": {
        "colab": {
          "base_uri": "https://localhost:8080/"
        },
        "id": "-ARqvjChvVD9",
        "outputId": "24f7e7e9-fe8a-446c-c018-abc7eb456b51"
      },
      "source": [
        "dataset.info()"
      ],
      "execution_count": 509,
      "outputs": [
        {
          "output_type": "stream",
          "name": "stdout",
          "text": [
            "<class 'pandas.core.frame.DataFrame'>\n",
            "Int64Index: 3272 entries, 1 to 3389\n",
            "Data columns (total 16 columns):\n",
            " #   Column           Non-Null Count  Dtype  \n",
            "---  ------           --------------  -----  \n",
            " 0   age              3272 non-null   int64  \n",
            " 1   is_smoking       3272 non-null   int64  \n",
            " 2   cigsPerDay       3272 non-null   float64\n",
            " 3   BPMeds           3272 non-null   float64\n",
            " 4   prevalentStroke  3272 non-null   int64  \n",
            " 5   prevalentHyp     3272 non-null   int64  \n",
            " 6   diabetes         3272 non-null   int64  \n",
            " 7   totChol          3272 non-null   float64\n",
            " 8   sysBP            3272 non-null   float64\n",
            " 9   diaBP            3272 non-null   float64\n",
            " 10  BMI              3272 non-null   float64\n",
            " 11  heartRate        3272 non-null   float64\n",
            " 12  glucose          3272 non-null   float64\n",
            " 13  TenYearCHD       3272 non-null   int64  \n",
            " 14  sex_F            3272 non-null   uint8  \n",
            " 15  sex_M            3272 non-null   uint8  \n",
            "dtypes: float64(8), int64(6), uint8(2)\n",
            "memory usage: 389.8 KB\n"
          ]
        }
      ]
    },
    {
      "cell_type": "code",
      "metadata": {
        "colab": {
          "base_uri": "https://localhost:8080/"
        },
        "id": "xLE2Kf4N5ynh",
        "outputId": "c3709d21-7d3b-4f9e-b255-5f42a694077f"
      },
      "source": [
        "dataset.columns.values"
      ],
      "execution_count": 510,
      "outputs": [
        {
          "output_type": "execute_result",
          "data": {
            "text/plain": [
              "array(['age', 'is_smoking', 'cigsPerDay', 'BPMeds', 'prevalentStroke',\n",
              "       'prevalentHyp', 'diabetes', 'totChol', 'sysBP', 'diaBP', 'BMI',\n",
              "       'heartRate', 'glucose', 'TenYearCHD', 'sex_F', 'sex_M'],\n",
              "      dtype=object)"
            ]
          },
          "metadata": {},
          "execution_count": 510
        }
      ]
    },
    {
      "cell_type": "code",
      "metadata": {
        "id": "P8BZUBSL5dio"
      },
      "source": [
        "# Move the Dependent Variable in the last place\n",
        "dataset = dataset[['age', 'is_smoking', 'cigsPerDay', 'BPMeds', 'prevalentStroke',\n",
        "       'prevalentHyp', 'diabetes', 'totChol', 'sysBP', 'diaBP', 'BMI',\n",
        "       'heartRate', 'glucose', 'sex_F', 'sex_M','TenYearCHD']]"
      ],
      "execution_count": 511,
      "outputs": []
    },
    {
      "cell_type": "code",
      "metadata": {
        "id": "xeQLqNdB57fQ",
        "colab": {
          "base_uri": "https://localhost:8080/",
          "height": 0
        },
        "outputId": "a0711c36-4b40-4c0d-d574-6b803be709f3"
      },
      "source": [
        "dataset.head()"
      ],
      "execution_count": 512,
      "outputs": [
        {
          "output_type": "execute_result",
          "data": {
            "text/html": [
              "<div>\n",
              "<style scoped>\n",
              "    .dataframe tbody tr th:only-of-type {\n",
              "        vertical-align: middle;\n",
              "    }\n",
              "\n",
              "    .dataframe tbody tr th {\n",
              "        vertical-align: top;\n",
              "    }\n",
              "\n",
              "    .dataframe thead th {\n",
              "        text-align: right;\n",
              "    }\n",
              "</style>\n",
              "<table border=\"1\" class=\"dataframe\">\n",
              "  <thead>\n",
              "    <tr style=\"text-align: right;\">\n",
              "      <th></th>\n",
              "      <th>age</th>\n",
              "      <th>is_smoking</th>\n",
              "      <th>cigsPerDay</th>\n",
              "      <th>BPMeds</th>\n",
              "      <th>prevalentStroke</th>\n",
              "      <th>prevalentHyp</th>\n",
              "      <th>diabetes</th>\n",
              "      <th>totChol</th>\n",
              "      <th>sysBP</th>\n",
              "      <th>diaBP</th>\n",
              "      <th>BMI</th>\n",
              "      <th>heartRate</th>\n",
              "      <th>glucose</th>\n",
              "      <th>sex_F</th>\n",
              "      <th>sex_M</th>\n",
              "      <th>TenYearCHD</th>\n",
              "    </tr>\n",
              "  </thead>\n",
              "  <tbody>\n",
              "    <tr>\n",
              "      <th>1</th>\n",
              "      <td>36</td>\n",
              "      <td>0</td>\n",
              "      <td>0.0</td>\n",
              "      <td>0.0</td>\n",
              "      <td>0</td>\n",
              "      <td>1</td>\n",
              "      <td>0</td>\n",
              "      <td>212.0</td>\n",
              "      <td>168.0</td>\n",
              "      <td>98.0</td>\n",
              "      <td>29.77</td>\n",
              "      <td>72.0</td>\n",
              "      <td>75.0</td>\n",
              "      <td>0</td>\n",
              "      <td>1</td>\n",
              "      <td>0</td>\n",
              "    </tr>\n",
              "    <tr>\n",
              "      <th>2</th>\n",
              "      <td>46</td>\n",
              "      <td>1</td>\n",
              "      <td>10.0</td>\n",
              "      <td>0.0</td>\n",
              "      <td>0</td>\n",
              "      <td>0</td>\n",
              "      <td>0</td>\n",
              "      <td>250.0</td>\n",
              "      <td>116.0</td>\n",
              "      <td>71.0</td>\n",
              "      <td>20.35</td>\n",
              "      <td>88.0</td>\n",
              "      <td>94.0</td>\n",
              "      <td>1</td>\n",
              "      <td>0</td>\n",
              "      <td>0</td>\n",
              "    </tr>\n",
              "    <tr>\n",
              "      <th>3</th>\n",
              "      <td>50</td>\n",
              "      <td>1</td>\n",
              "      <td>20.0</td>\n",
              "      <td>0.0</td>\n",
              "      <td>0</td>\n",
              "      <td>1</td>\n",
              "      <td>0</td>\n",
              "      <td>233.0</td>\n",
              "      <td>158.0</td>\n",
              "      <td>88.0</td>\n",
              "      <td>28.26</td>\n",
              "      <td>68.0</td>\n",
              "      <td>94.0</td>\n",
              "      <td>0</td>\n",
              "      <td>1</td>\n",
              "      <td>1</td>\n",
              "    </tr>\n",
              "    <tr>\n",
              "      <th>4</th>\n",
              "      <td>64</td>\n",
              "      <td>1</td>\n",
              "      <td>30.0</td>\n",
              "      <td>0.0</td>\n",
              "      <td>0</td>\n",
              "      <td>0</td>\n",
              "      <td>0</td>\n",
              "      <td>241.0</td>\n",
              "      <td>136.5</td>\n",
              "      <td>85.0</td>\n",
              "      <td>26.42</td>\n",
              "      <td>70.0</td>\n",
              "      <td>77.0</td>\n",
              "      <td>1</td>\n",
              "      <td>0</td>\n",
              "      <td>0</td>\n",
              "    </tr>\n",
              "    <tr>\n",
              "      <th>5</th>\n",
              "      <td>61</td>\n",
              "      <td>0</td>\n",
              "      <td>0.0</td>\n",
              "      <td>0.0</td>\n",
              "      <td>0</td>\n",
              "      <td>1</td>\n",
              "      <td>0</td>\n",
              "      <td>272.0</td>\n",
              "      <td>182.0</td>\n",
              "      <td>121.0</td>\n",
              "      <td>32.80</td>\n",
              "      <td>85.0</td>\n",
              "      <td>65.0</td>\n",
              "      <td>1</td>\n",
              "      <td>0</td>\n",
              "      <td>1</td>\n",
              "    </tr>\n",
              "  </tbody>\n",
              "</table>\n",
              "</div>"
            ],
            "text/plain": [
              "   age  is_smoking  cigsPerDay  BPMeds  ...  glucose  sex_F  sex_M  TenYearCHD\n",
              "1   36           0         0.0     0.0  ...     75.0      0      1           0\n",
              "2   46           1        10.0     0.0  ...     94.0      1      0           0\n",
              "3   50           1        20.0     0.0  ...     94.0      0      1           1\n",
              "4   64           1        30.0     0.0  ...     77.0      1      0           0\n",
              "5   61           0         0.0     0.0  ...     65.0      1      0           1\n",
              "\n",
              "[5 rows x 16 columns]"
            ]
          },
          "metadata": {},
          "execution_count": 512
        }
      ]
    },
    {
      "cell_type": "code",
      "metadata": {
        "id": "yfhncJT159Km"
      },
      "source": [
        ""
      ],
      "execution_count": 512,
      "outputs": []
    },
    {
      "cell_type": "markdown",
      "metadata": {
        "id": "eshUOjpbAG56"
      },
      "source": [
        "# <b> Creating Independent and Dependent variables"
      ]
    },
    {
      "cell_type": "code",
      "metadata": {
        "id": "M52QDmyzhh9s"
      },
      "source": [
        "X = dataset.iloc[:, :-1]\n",
        "y = dataset.iloc[:, -1]"
      ],
      "execution_count": 513,
      "outputs": []
    },
    {
      "cell_type": "markdown",
      "metadata": {
        "id": "YvxIPVyMhmKp"
      },
      "source": [
        "# <b>Splitting the dataset into the Training set and Test set"
      ]
    },
    {
      "cell_type": "code",
      "metadata": {
        "id": "AVzJWAXIhxoC"
      },
      "source": [
        "from sklearn.model_selection import train_test_split\n",
        "X_train, X_test, y_train, y_test = train_test_split(X, y, test_size = 0.2, random_state = 0)"
      ],
      "execution_count": 514,
      "outputs": []
    },
    {
      "cell_type": "code",
      "metadata": {
        "colab": {
          "base_uri": "https://localhost:8080/"
        },
        "id": "lz6IGBCpMyJP",
        "outputId": "2655e600-0a70-4c7f-ea35-653130363fc6"
      },
      "source": [
        "print(\"Distribution of classes of dependent variable in train :\")\n",
        "print(y_train.value_counts())\n",
        "\n",
        "print(\"\\n Distribution of classes of dependent variable in test :\")\n",
        "print(y_test.value_counts())"
      ],
      "execution_count": 515,
      "outputs": [
        {
          "output_type": "stream",
          "name": "stdout",
          "text": [
            "Distribution of classes of dependent variable in train :\n",
            "0    2212\n",
            "1     405\n",
            "Name: TenYearCHD, dtype: int64\n",
            "\n",
            " Distribution of classes of dependent variable in test :\n",
            "0    572\n",
            "1     83\n",
            "Name: TenYearCHD, dtype: int64\n"
          ]
        }
      ]
    },
    {
      "cell_type": "markdown",
      "metadata": {
        "id": "kW3c7UYih0hT"
      },
      "source": [
        "# <b>Feature Scaling"
      ]
    },
    {
      "cell_type": "code",
      "metadata": {
        "id": "9fQlDPKCh8sc"
      },
      "source": [
        "from sklearn.preprocessing import StandardScaler\n",
        "sc = StandardScaler()\n",
        "X_train = sc.fit_transform(X_train)\n",
        "X_test = sc.transform(X_test)"
      ],
      "execution_count": 516,
      "outputs": []
    },
    {
      "cell_type": "markdown",
      "metadata": {
        "id": "pTjfAcx8Kt9t"
      },
      "source": [
        "# <b> Balancing the data"
      ]
    },
    {
      "cell_type": "markdown",
      "metadata": {
        "id": "0zywdohJ8OGJ"
      },
      "source": [
        "Let’s implement this with the credit card fraud detection example.\n",
        "\n",
        "We will start by separating the class that will be 0 and class 1."
      ]
    },
    {
      "cell_type": "code",
      "metadata": {
        "colab": {
          "base_uri": "https://localhost:8080/"
        },
        "id": "-D_aOBCJ8NwF",
        "outputId": "abd7d3d2-6be7-4cf8-ed17-fede212be429"
      },
      "source": [
        "# Class count\n",
        "class_count_0, class_count_1 = dataset['TenYearCHD'].value_counts()\n",
        "\n",
        "# Separate class\n",
        "class_0 = dataset[dataset['TenYearCHD'] == 0]\n",
        "class_1 = dataset[dataset['TenYearCHD'] == 1]\n",
        "print('class 0:', class_0.shape)\n",
        "print('class 1:', class_1.shape)"
      ],
      "execution_count": 517,
      "outputs": [
        {
          "output_type": "stream",
          "name": "stdout",
          "text": [
            "class 0: (2784, 16)\n",
            "class 1: (488, 16)\n"
          ]
        }
      ]
    },
    {
      "cell_type": "markdown",
      "metadata": {
        "id": "r-e1Fo3JPUoH"
      },
      "source": [
        ">## Synthetic Minority Oversampling Technique (SMOTE)"
      ]
    },
    {
      "cell_type": "code",
      "metadata": {
        "colab": {
          "base_uri": "https://localhost:8080/"
        },
        "id": "l_u8XnZRPB95",
        "outputId": "68d53e61-fdc9-4eb1-ac3c-851864c9f590"
      },
      "source": [
        "from imblearn.over_sampling import SMOTE\n",
        "\n",
        "smote = SMOTE()\n",
        "\n",
        "# fit predictor and target variable\n",
        "x_train_smote, y_train_smote = smote.fit_resample(dataset.iloc[:,0:-1], dataset['TenYearCHD'])\n",
        "\n",
        "print('Original dataset shape', len(dataset))\n",
        "print('Resampled dataset shape', len(y_train_smote))"
      ],
      "execution_count": 518,
      "outputs": [
        {
          "output_type": "stream",
          "name": "stdout",
          "text": [
            "Original dataset shape 3272\n",
            "Resampled dataset shape 5568\n"
          ]
        }
      ]
    },
    {
      "cell_type": "markdown",
      "metadata": {
        "id": "RbVogncLT_ax"
      },
      "source": [
        "## Feature Scaling on balanced data"
      ]
    },
    {
      "cell_type": "code",
      "metadata": {
        "id": "2uP1tg2ET_ay"
      },
      "source": [
        "x_train_smote = sc.fit_transform(x_train_smote)"
      ],
      "execution_count": 519,
      "outputs": []
    },
    {
      "cell_type": "markdown",
      "metadata": {
        "id": "a1JdJcYzfaKy"
      },
      "source": [
        "# <b> Model Testing"
      ]
    },
    {
      "cell_type": "markdown",
      "metadata": {
        "id": "TXqpR_3Qf-bb"
      },
      "source": [
        ">## <b>Logistic Regression model"
      ]
    },
    {
      "cell_type": "markdown",
      "metadata": {
        "id": "A28l6m10g6J6"
      },
      "source": [
        ">### Training the Logistic Regression model on the Training set"
      ]
    },
    {
      "cell_type": "code",
      "metadata": {
        "colab": {
          "base_uri": "https://localhost:8080/"
        },
        "id": "SHnT-pfwg6J9",
        "outputId": "d5d00c1f-e6af-4989-f0dc-cb25b0e1e9c7"
      },
      "source": [
        "from sklearn.linear_model import LogisticRegression\n",
        "classifier = LogisticRegression(random_state = 0)\n",
        "classifier.fit(X_train, y_train)"
      ],
      "execution_count": 520,
      "outputs": [
        {
          "output_type": "execute_result",
          "data": {
            "text/plain": [
              "LogisticRegression(C=1.0, class_weight=None, dual=False, fit_intercept=True,\n",
              "                   intercept_scaling=1, l1_ratio=None, max_iter=100,\n",
              "                   multi_class='auto', n_jobs=None, penalty='l2',\n",
              "                   random_state=0, solver='lbfgs', tol=0.0001, verbose=0,\n",
              "                   warm_start=False)"
            ]
          },
          "metadata": {},
          "execution_count": 520
        }
      ]
    },
    {
      "cell_type": "markdown",
      "metadata": {
        "id": "rfaTXnOpUcX1"
      },
      "source": [
        ">### Training the Logistic Regression model on the Training set (Balanced Data)"
      ]
    },
    {
      "cell_type": "code",
      "metadata": {
        "colab": {
          "base_uri": "https://localhost:8080/"
        },
        "id": "x6PQq8yeUcX2",
        "outputId": "f8193de8-4e96-47e7-d37b-ac6b83f71f1a"
      },
      "source": [
        "from sklearn.linear_model import LogisticRegression\n",
        "classifier_smote = LogisticRegression(random_state = 0)\n",
        "classifier_smote.fit(x_train_smote, y_train_smote)"
      ],
      "execution_count": 521,
      "outputs": [
        {
          "output_type": "execute_result",
          "data": {
            "text/plain": [
              "LogisticRegression(C=1.0, class_weight=None, dual=False, fit_intercept=True,\n",
              "                   intercept_scaling=1, l1_ratio=None, max_iter=100,\n",
              "                   multi_class='auto', n_jobs=None, penalty='l2',\n",
              "                   random_state=0, solver='lbfgs', tol=0.0001, verbose=0,\n",
              "                   warm_start=False)"
            ]
          },
          "metadata": {},
          "execution_count": 521
        }
      ]
    },
    {
      "cell_type": "markdown",
      "metadata": {
        "id": "1Ha_VQD7X-yq"
      },
      "source": [
        ">Function for fetching confusion matrix of imbalance and balanced data"
      ]
    },
    {
      "cell_type": "markdown",
      "metadata": {
        "id": "BHYqPn5XMoy8"
      },
      "source": [
        ">### Evaluating the Model Performance"
      ]
    },
    {
      "cell_type": "code",
      "metadata": {
        "id": "sO3E_7f2Pf4i"
      },
      "source": [
        "# Function for fetching confusion matrix of imbalance and balanced data\n",
        "def model_evolution(X_test,y_test,y_pred,y_pred_smote):\n",
        "  y_pred = classifier.predict(X_test)\n",
        "  cm = confusion_matrix(y_test, y_pred)\n",
        "  print(\"Confusion Matrix on Imbalanced Data:\")\n",
        "  print(cm)\n",
        "\n",
        "  y_pred_smote = classifier_smote.predict(X_test)\n",
        "  cm_smote = confusion_matrix(y_test, y_pred_smote)\n",
        "  print()\n",
        "  print(\"Confusion Matrix on Balanced Data:\")\n",
        "  print(cm_smote)\n",
        "  print()\n",
        "  print('=====================================================')\n",
        "  print()\n",
        "  print(\"Imbalanced Data :\")\n",
        "  print(classification_report(y_test, y_pred))\n",
        "  print()\n",
        "  print(\"Balanced Data:\")\n",
        "  print(classification_report(y_test, y_pred_smote))\n",
        "  print()\n",
        "  print('=====================================================')\n",
        "  print()\n",
        "  # Calculate roc_auc score on test set\n",
        "  print(\"Imbalanced Data :\")\n",
        "  print(\"ROC-AUC Score:\",round(roc_auc_score(y_test, y_pred), 2))\n",
        "  print()\n",
        "  print(\"Balanced Data:\")\n",
        "  print(\"ROC-AUC Score:\",round(roc_auc_score(y_test, y_pred_smote), 2))\n",
        "  return"
      ],
      "execution_count": 522,
      "outputs": []
    },
    {
      "cell_type": "code",
      "metadata": {
        "colab": {
          "base_uri": "https://localhost:8080/"
        },
        "id": "SSG_Dfb1Moy6",
        "outputId": "58866c24-e164-4a64-bc71-dc1e048a1600"
      },
      "source": [
        "model_evolution(X_test,y_test,y_pred,y_pred_smote)"
      ],
      "execution_count": 523,
      "outputs": [
        {
          "output_type": "stream",
          "name": "stdout",
          "text": [
            "Confusion Matrix on Imbalanced Data:\n",
            "[[567   5]\n",
            " [ 79   4]]\n",
            "\n",
            "Confusion Matrix on Balanced Data:\n",
            "[[335 237]\n",
            " [ 15  68]]\n",
            "\n",
            "=====================================================\n",
            "\n",
            "Imbalanced Data :\n",
            "              precision    recall  f1-score   support\n",
            "\n",
            "           0       0.88      0.99      0.93       572\n",
            "           1       0.44      0.05      0.09        83\n",
            "\n",
            "    accuracy                           0.87       655\n",
            "   macro avg       0.66      0.52      0.51       655\n",
            "weighted avg       0.82      0.87      0.82       655\n",
            "\n",
            "\n",
            "Balanced Data:\n",
            "              precision    recall  f1-score   support\n",
            "\n",
            "           0       0.96      0.59      0.73       572\n",
            "           1       0.22      0.82      0.35        83\n",
            "\n",
            "    accuracy                           0.62       655\n",
            "   macro avg       0.59      0.70      0.54       655\n",
            "weighted avg       0.86      0.62      0.68       655\n",
            "\n",
            "\n",
            "=====================================================\n",
            "\n",
            "Imbalanced Data :\n",
            "ROC-AUC Score: 0.52\n",
            "\n",
            "Balanced Data:\n",
            "ROC-AUC Score: 0.7\n"
          ]
        }
      ]
    },
    {
      "cell_type": "markdown",
      "metadata": {
        "id": "c5BxK1w_BCnF"
      },
      "source": [
        ">## <b>Decision Tree Classification model"
      ]
    },
    {
      "cell_type": "markdown",
      "metadata": {
        "id": "bb6jCOCQiAmP"
      },
      "source": [
        ">### Training the Decision Tree Classification model on the Training set"
      ]
    },
    {
      "cell_type": "code",
      "metadata": {
        "id": "e0pFVAmciHQs",
        "colab": {
          "base_uri": "https://localhost:8080/"
        },
        "outputId": "2239b724-c9d2-4246-ff52-422072170853"
      },
      "source": [
        "from sklearn.tree import DecisionTreeClassifier\n",
        "classifier = DecisionTreeClassifier(criterion = 'entropy', random_state = 0)\n",
        "classifier.fit(X_train, y_train)"
      ],
      "execution_count": 524,
      "outputs": [
        {
          "output_type": "execute_result",
          "data": {
            "text/plain": [
              "DecisionTreeClassifier(ccp_alpha=0.0, class_weight=None, criterion='entropy',\n",
              "                       max_depth=None, max_features=None, max_leaf_nodes=None,\n",
              "                       min_impurity_decrease=0.0, min_impurity_split=None,\n",
              "                       min_samples_leaf=1, min_samples_split=2,\n",
              "                       min_weight_fraction_leaf=0.0, presort='deprecated',\n",
              "                       random_state=0, splitter='best')"
            ]
          },
          "metadata": {},
          "execution_count": 524
        }
      ]
    },
    {
      "cell_type": "markdown",
      "metadata": {
        "id": "0B9gMh8ZZT20"
      },
      "source": [
        ">### Training the Decision Tree Classifier model on the Training set (Balanced Data)"
      ]
    },
    {
      "cell_type": "code",
      "metadata": {
        "colab": {
          "base_uri": "https://localhost:8080/"
        },
        "id": "T4LFlAUBZT21",
        "outputId": "8e3915c7-e71b-48fd-e21d-5eea8b1a5988"
      },
      "source": [
        "from sklearn.linear_model import LogisticRegression\n",
        "classifier_smote = DecisionTreeClassifier(criterion = 'entropy', random_state = 0)\n",
        "classifier_smote.fit(x_train_smote, y_train_smote)"
      ],
      "execution_count": 525,
      "outputs": [
        {
          "output_type": "execute_result",
          "data": {
            "text/plain": [
              "DecisionTreeClassifier(ccp_alpha=0.0, class_weight=None, criterion='entropy',\n",
              "                       max_depth=None, max_features=None, max_leaf_nodes=None,\n",
              "                       min_impurity_decrease=0.0, min_impurity_split=None,\n",
              "                       min_samples_leaf=1, min_samples_split=2,\n",
              "                       min_weight_fraction_leaf=0.0, presort='deprecated',\n",
              "                       random_state=0, splitter='best')"
            ]
          },
          "metadata": {},
          "execution_count": 525
        }
      ]
    },
    {
      "cell_type": "markdown",
      "metadata": {
        "id": "lqOdYvftRPlf"
      },
      "source": [
        ">### Evaluating the Model Performance"
      ]
    },
    {
      "cell_type": "code",
      "metadata": {
        "colab": {
          "base_uri": "https://localhost:8080/"
        },
        "id": "9hQG4t49RPli",
        "outputId": "ba24b016-28d0-4a2b-e255-a3e195ab4d20"
      },
      "source": [
        "model_evolution(X_test,y_test,y_pred,y_pred_smote)"
      ],
      "execution_count": 526,
      "outputs": [
        {
          "output_type": "stream",
          "name": "stdout",
          "text": [
            "Confusion Matrix on Imbalanced Data:\n",
            "[[486  86]\n",
            " [ 56  27]]\n",
            "\n",
            "Confusion Matrix on Balanced Data:\n",
            "[[ 87 485]\n",
            " [  0  83]]\n",
            "\n",
            "=====================================================\n",
            "\n",
            "Imbalanced Data :\n",
            "              precision    recall  f1-score   support\n",
            "\n",
            "           0       0.90      0.85      0.87       572\n",
            "           1       0.24      0.33      0.28        83\n",
            "\n",
            "    accuracy                           0.78       655\n",
            "   macro avg       0.57      0.59      0.57       655\n",
            "weighted avg       0.81      0.78      0.80       655\n",
            "\n",
            "\n",
            "Balanced Data:\n",
            "              precision    recall  f1-score   support\n",
            "\n",
            "           0       1.00      0.15      0.26       572\n",
            "           1       0.15      1.00      0.25        83\n",
            "\n",
            "    accuracy                           0.26       655\n",
            "   macro avg       0.57      0.58      0.26       655\n",
            "weighted avg       0.89      0.26      0.26       655\n",
            "\n",
            "\n",
            "=====================================================\n",
            "\n",
            "Imbalanced Data :\n",
            "ROC-AUC Score: 0.59\n",
            "\n",
            "Balanced Data:\n",
            "ROC-AUC Score: 0.58\n"
          ]
        }
      ]
    },
    {
      "cell_type": "markdown",
      "metadata": {
        "id": "Xe8zyw1XBe1_"
      },
      "source": [
        ">## <b>Random Forest Classification model"
      ]
    },
    {
      "cell_type": "markdown",
      "metadata": {
        "id": "e1MIOeVnBxeL"
      },
      "source": [
        ">### Training the Random Forest Classification model on the Training set"
      ]
    },
    {
      "cell_type": "code",
      "metadata": {
        "colab": {
          "base_uri": "https://localhost:8080/"
        },
        "id": "mmmPyTkPBxeN",
        "outputId": "8e2c8f63-ffa9-4170-837c-a6a51813f312"
      },
      "source": [
        "from sklearn.ensemble import RandomForestClassifier, GradientBoostingClassifier\n",
        "classifier = RandomForestClassifier(n_estimators = 10, random_state = 0)\n",
        "classifier.fit(X_train, y_train)"
      ],
      "execution_count": 527,
      "outputs": [
        {
          "output_type": "execute_result",
          "data": {
            "text/plain": [
              "RandomForestClassifier(bootstrap=True, ccp_alpha=0.0, class_weight=None,\n",
              "                       criterion='gini', max_depth=None, max_features='auto',\n",
              "                       max_leaf_nodes=None, max_samples=None,\n",
              "                       min_impurity_decrease=0.0, min_impurity_split=None,\n",
              "                       min_samples_leaf=1, min_samples_split=2,\n",
              "                       min_weight_fraction_leaf=0.0, n_estimators=10,\n",
              "                       n_jobs=None, oob_score=False, random_state=0, verbose=0,\n",
              "                       warm_start=False)"
            ]
          },
          "metadata": {},
          "execution_count": 527
        }
      ]
    },
    {
      "cell_type": "markdown",
      "metadata": {
        "id": "gX2Wj5w7ZVIX"
      },
      "source": [
        ">### Training the Random Forest Classification on the Training set (Balanced Data)"
      ]
    },
    {
      "cell_type": "code",
      "metadata": {
        "colab": {
          "base_uri": "https://localhost:8080/"
        },
        "id": "4uOCZG2IZVIZ",
        "outputId": "53e8d023-7424-47cf-e50f-9ca6c51531d2"
      },
      "source": [
        "from sklearn.linear_model import LogisticRegression\n",
        "classifier_smote = RandomForestClassifier(n_estimators = 10, random_state = 0)\n",
        "classifier_smote.fit(x_train_smote, y_train_smote)"
      ],
      "execution_count": 528,
      "outputs": [
        {
          "output_type": "execute_result",
          "data": {
            "text/plain": [
              "RandomForestClassifier(bootstrap=True, ccp_alpha=0.0, class_weight=None,\n",
              "                       criterion='gini', max_depth=None, max_features='auto',\n",
              "                       max_leaf_nodes=None, max_samples=None,\n",
              "                       min_impurity_decrease=0.0, min_impurity_split=None,\n",
              "                       min_samples_leaf=1, min_samples_split=2,\n",
              "                       min_weight_fraction_leaf=0.0, n_estimators=10,\n",
              "                       n_jobs=None, oob_score=False, random_state=0, verbose=0,\n",
              "                       warm_start=False)"
            ]
          },
          "metadata": {},
          "execution_count": 528
        }
      ]
    },
    {
      "cell_type": "markdown",
      "metadata": {
        "id": "p4iZmHWQRRrS"
      },
      "source": [
        ">### Evaluating the Model Performance"
      ]
    },
    {
      "cell_type": "code",
      "metadata": {
        "colab": {
          "base_uri": "https://localhost:8080/"
        },
        "id": "M4Ex8jhPRRrU",
        "outputId": "c0e579e0-eb7a-4988-c93e-1fd914602431"
      },
      "source": [
        "model_evolution(X_test,y_test,y_pred,y_pred_smote)"
      ],
      "execution_count": 529,
      "outputs": [
        {
          "output_type": "stream",
          "name": "stdout",
          "text": [
            "Confusion Matrix on Imbalanced Data:\n",
            "[[562  10]\n",
            " [ 73  10]]\n",
            "\n",
            "Confusion Matrix on Balanced Data:\n",
            "[[ 90 482]\n",
            " [  1  82]]\n",
            "\n",
            "=====================================================\n",
            "\n",
            "Imbalanced Data :\n",
            "              precision    recall  f1-score   support\n",
            "\n",
            "           0       0.89      0.98      0.93       572\n",
            "           1       0.50      0.12      0.19        83\n",
            "\n",
            "    accuracy                           0.87       655\n",
            "   macro avg       0.69      0.55      0.56       655\n",
            "weighted avg       0.84      0.87      0.84       655\n",
            "\n",
            "\n",
            "Balanced Data:\n",
            "              precision    recall  f1-score   support\n",
            "\n",
            "           0       0.99      0.16      0.27       572\n",
            "           1       0.15      0.99      0.25        83\n",
            "\n",
            "    accuracy                           0.26       655\n",
            "   macro avg       0.57      0.57      0.26       655\n",
            "weighted avg       0.88      0.26      0.27       655\n",
            "\n",
            "\n",
            "=====================================================\n",
            "\n",
            "Imbalanced Data :\n",
            "ROC-AUC Score: 0.55\n",
            "\n",
            "Balanced Data:\n",
            "ROC-AUC Score: 0.57\n"
          ]
        }
      ]
    },
    {
      "cell_type": "markdown",
      "metadata": {
        "id": "1VjD15pbhXb4"
      },
      "source": [
        ">## <b>K-Nearest Neighbor model"
      ]
    },
    {
      "cell_type": "markdown",
      "metadata": {
        "id": "A3YDTgZviSZD"
      },
      "source": [
        ">### Training the K-NN model on the Training set"
      ]
    },
    {
      "cell_type": "code",
      "metadata": {
        "id": "6q_hd8zHiSZg",
        "colab": {
          "base_uri": "https://localhost:8080/"
        },
        "outputId": "aabc0115-84b6-4863-9234-2ceb9070bbae"
      },
      "source": [
        "from sklearn.neighbors import KNeighborsClassifier\n",
        "classifier = KNeighborsClassifier(n_neighbors = 5, metric = 'minkowski', p = 2)\n",
        "classifier.fit(X_train, y_train)"
      ],
      "execution_count": 530,
      "outputs": [
        {
          "output_type": "execute_result",
          "data": {
            "text/plain": [
              "KNeighborsClassifier(algorithm='auto', leaf_size=30, metric='minkowski',\n",
              "                     metric_params=None, n_jobs=None, n_neighbors=5, p=2,\n",
              "                     weights='uniform')"
            ]
          },
          "metadata": {},
          "execution_count": 530
        }
      ]
    },
    {
      "cell_type": "markdown",
      "metadata": {
        "id": "f-5n34WuZWDN"
      },
      "source": [
        ">### Training the K-NN model model on the Training set (Balanced Data)"
      ]
    },
    {
      "cell_type": "code",
      "metadata": {
        "colab": {
          "base_uri": "https://localhost:8080/"
        },
        "id": "eM4xsMW9ZWDO",
        "outputId": "61c2c2b5-9aad-43d0-a32b-4cd3f9bc2c69"
      },
      "source": [
        "from sklearn.linear_model import LogisticRegression\n",
        "classifier_smote = KNeighborsClassifier(n_neighbors = 5, metric = 'minkowski', p = 2)\n",
        "classifier_smote.fit(x_train_smote, y_train_smote)"
      ],
      "execution_count": 531,
      "outputs": [
        {
          "output_type": "execute_result",
          "data": {
            "text/plain": [
              "KNeighborsClassifier(algorithm='auto', leaf_size=30, metric='minkowski',\n",
              "                     metric_params=None, n_jobs=None, n_neighbors=5, p=2,\n",
              "                     weights='uniform')"
            ]
          },
          "metadata": {},
          "execution_count": 531
        }
      ]
    },
    {
      "cell_type": "markdown",
      "metadata": {
        "id": "mUjOq1fSRUka"
      },
      "source": [
        ">### Evaluating the Model Performance"
      ]
    },
    {
      "cell_type": "code",
      "metadata": {
        "colab": {
          "base_uri": "https://localhost:8080/"
        },
        "id": "pvjgPxV5RUkc",
        "outputId": "8995136e-4721-45de-bcc9-1d5eddc7ed56"
      },
      "source": [
        "model_evolution(X_test,y_test,y_pred,y_pred_smote)"
      ],
      "execution_count": 532,
      "outputs": [
        {
          "output_type": "stream",
          "name": "stdout",
          "text": [
            "Confusion Matrix on Imbalanced Data:\n",
            "[[555  17]\n",
            " [ 74   9]]\n",
            "\n",
            "Confusion Matrix on Balanced Data:\n",
            "[[442 130]\n",
            " [  2  81]]\n",
            "\n",
            "=====================================================\n",
            "\n",
            "Imbalanced Data :\n",
            "              precision    recall  f1-score   support\n",
            "\n",
            "           0       0.88      0.97      0.92       572\n",
            "           1       0.35      0.11      0.17        83\n",
            "\n",
            "    accuracy                           0.86       655\n",
            "   macro avg       0.61      0.54      0.54       655\n",
            "weighted avg       0.81      0.86      0.83       655\n",
            "\n",
            "\n",
            "Balanced Data:\n",
            "              precision    recall  f1-score   support\n",
            "\n",
            "           0       1.00      0.77      0.87       572\n",
            "           1       0.38      0.98      0.55        83\n",
            "\n",
            "    accuracy                           0.80       655\n",
            "   macro avg       0.69      0.87      0.71       655\n",
            "weighted avg       0.92      0.80      0.83       655\n",
            "\n",
            "\n",
            "=====================================================\n",
            "\n",
            "Imbalanced Data :\n",
            "ROC-AUC Score: 0.54\n",
            "\n",
            "Balanced Data:\n",
            "ROC-AUC Score: 0.87\n"
          ]
        }
      ]
    },
    {
      "cell_type": "markdown",
      "metadata": {
        "id": "gNTdGI02hXmf"
      },
      "source": [
        ">## <b>Naive Bayes Classifier model"
      ]
    },
    {
      "cell_type": "markdown",
      "metadata": {
        "id": "EGq9jsA8ijQG"
      },
      "source": [
        ">### Training the Naive Bayes model on the Training set"
      ]
    },
    {
      "cell_type": "code",
      "metadata": {
        "id": "twUvQnhWijQI",
        "colab": {
          "base_uri": "https://localhost:8080/"
        },
        "outputId": "940dbac6-9618-4509-823e-872d84ef0c50"
      },
      "source": [
        "from sklearn.naive_bayes import GaussianNB\n",
        "classifier = GaussianNB()\n",
        "classifier.fit(X_train, y_train)"
      ],
      "execution_count": 533,
      "outputs": [
        {
          "output_type": "execute_result",
          "data": {
            "text/plain": [
              "GaussianNB(priors=None, var_smoothing=1e-09)"
            ]
          },
          "metadata": {},
          "execution_count": 533
        }
      ]
    },
    {
      "cell_type": "markdown",
      "metadata": {
        "id": "5FOopvIAZXEe"
      },
      "source": [
        ">### Training the Naive Bayes model on the Training set (Balanced Data)"
      ]
    },
    {
      "cell_type": "code",
      "metadata": {
        "colab": {
          "base_uri": "https://localhost:8080/"
        },
        "id": "D3bDi-5YZXEi",
        "outputId": "70939b3b-d4fb-4546-f222-65d44057cbea"
      },
      "source": [
        "from sklearn.linear_model import LogisticRegression\n",
        "classifier_smote = GaussianNB()\n",
        "classifier_smote.fit(x_train_smote, y_train_smote)"
      ],
      "execution_count": 534,
      "outputs": [
        {
          "output_type": "execute_result",
          "data": {
            "text/plain": [
              "GaussianNB(priors=None, var_smoothing=1e-09)"
            ]
          },
          "metadata": {},
          "execution_count": 534
        }
      ]
    },
    {
      "cell_type": "markdown",
      "metadata": {
        "id": "y20omnbkRWzS"
      },
      "source": [
        ">### Evaluating the Model Performance"
      ]
    },
    {
      "cell_type": "code",
      "metadata": {
        "colab": {
          "base_uri": "https://localhost:8080/"
        },
        "id": "CrgFgROWRWzU",
        "outputId": "10207239-2dba-4483-f17f-41f931442f97"
      },
      "source": [
        "model_evolution(X_test,y_test,y_pred,y_pred_smote)"
      ],
      "execution_count": 535,
      "outputs": [
        {
          "output_type": "stream",
          "name": "stdout",
          "text": [
            "Confusion Matrix on Imbalanced Data:\n",
            "[[545  27]\n",
            " [ 64  19]]\n",
            "\n",
            "Confusion Matrix on Balanced Data:\n",
            "[[473  99]\n",
            " [ 37  46]]\n",
            "\n",
            "=====================================================\n",
            "\n",
            "Imbalanced Data :\n",
            "              precision    recall  f1-score   support\n",
            "\n",
            "           0       0.89      0.95      0.92       572\n",
            "           1       0.41      0.23      0.29        83\n",
            "\n",
            "    accuracy                           0.86       655\n",
            "   macro avg       0.65      0.59      0.61       655\n",
            "weighted avg       0.83      0.86      0.84       655\n",
            "\n",
            "\n",
            "Balanced Data:\n",
            "              precision    recall  f1-score   support\n",
            "\n",
            "           0       0.93      0.83      0.87       572\n",
            "           1       0.32      0.55      0.40        83\n",
            "\n",
            "    accuracy                           0.79       655\n",
            "   macro avg       0.62      0.69      0.64       655\n",
            "weighted avg       0.85      0.79      0.81       655\n",
            "\n",
            "\n",
            "=====================================================\n",
            "\n",
            "Imbalanced Data :\n",
            "ROC-AUC Score: 0.59\n",
            "\n",
            "Balanced Data:\n",
            "ROC-AUC Score: 0.69\n"
          ]
        }
      ]
    },
    {
      "cell_type": "markdown",
      "metadata": {
        "id": "97jxnjJChX3N"
      },
      "source": [
        ">## <b>Support Vector Machine model"
      ]
    },
    {
      "cell_type": "markdown",
      "metadata": {
        "id": "kOjUEOM4iyLc"
      },
      "source": [
        ">### Training the SVM (Linear) model on the Training set"
      ]
    },
    {
      "cell_type": "code",
      "metadata": {
        "id": "VYEdReQRiyLg",
        "colab": {
          "base_uri": "https://localhost:8080/"
        },
        "outputId": "163a8d3b-3ac0-43fd-8b84-42059b173700"
      },
      "source": [
        "from sklearn.svm import SVC\n",
        "classifier = SVC(kernel = 'linear', random_state = 0)\n",
        "classifier.fit(X_train, y_train)"
      ],
      "execution_count": 536,
      "outputs": [
        {
          "output_type": "execute_result",
          "data": {
            "text/plain": [
              "SVC(C=1.0, break_ties=False, cache_size=200, class_weight=None, coef0=0.0,\n",
              "    decision_function_shape='ovr', degree=3, gamma='scale', kernel='linear',\n",
              "    max_iter=-1, probability=False, random_state=0, shrinking=True, tol=0.001,\n",
              "    verbose=False)"
            ]
          },
          "metadata": {},
          "execution_count": 536
        }
      ]
    },
    {
      "cell_type": "markdown",
      "metadata": {
        "id": "hPcLf1DhZYNB"
      },
      "source": [
        ">### Training the SVM (Linear) model on the Training set (Balanced Data)\n",
        "\n"
      ]
    },
    {
      "cell_type": "code",
      "metadata": {
        "colab": {
          "base_uri": "https://localhost:8080/"
        },
        "id": "Bh9FC3poZYND",
        "outputId": "a759dda6-d60a-45e8-ff43-4b2fa4147079"
      },
      "source": [
        "from sklearn.linear_model import LogisticRegression\n",
        "classifier_smote = SVC(kernel = 'linear', random_state = 0)\n",
        "classifier_smote.fit(x_train_smote, y_train_smote)"
      ],
      "execution_count": 537,
      "outputs": [
        {
          "output_type": "execute_result",
          "data": {
            "text/plain": [
              "SVC(C=1.0, break_ties=False, cache_size=200, class_weight=None, coef0=0.0,\n",
              "    decision_function_shape='ovr', degree=3, gamma='scale', kernel='linear',\n",
              "    max_iter=-1, probability=False, random_state=0, shrinking=True, tol=0.001,\n",
              "    verbose=False)"
            ]
          },
          "metadata": {},
          "execution_count": 537
        }
      ]
    },
    {
      "cell_type": "markdown",
      "metadata": {
        "id": "1jczsVq4RZVN"
      },
      "source": [
        ">### Evaluating the Model Performance"
      ]
    },
    {
      "cell_type": "code",
      "metadata": {
        "colab": {
          "base_uri": "https://localhost:8080/"
        },
        "id": "IKo--wZ4RZVP",
        "outputId": "6f41464c-6a88-4700-86b7-73930e8874ee"
      },
      "source": [
        "model_evolution(X_test,y_test,y_pred,y_pred_smote)"
      ],
      "execution_count": 538,
      "outputs": [
        {
          "output_type": "stream",
          "name": "stdout",
          "text": [
            "Confusion Matrix on Imbalanced Data:\n",
            "[[572   0]\n",
            " [ 83   0]]\n",
            "\n",
            "Confusion Matrix on Balanced Data:\n",
            "[[316 256]\n",
            " [ 13  70]]\n",
            "\n",
            "=====================================================\n",
            "\n",
            "Imbalanced Data :\n",
            "              precision    recall  f1-score   support\n",
            "\n",
            "           0       0.87      1.00      0.93       572\n",
            "           1       0.00      0.00      0.00        83\n",
            "\n",
            "    accuracy                           0.87       655\n",
            "   macro avg       0.44      0.50      0.47       655\n",
            "weighted avg       0.76      0.87      0.81       655\n",
            "\n",
            "\n",
            "Balanced Data:\n",
            "              precision    recall  f1-score   support\n",
            "\n",
            "           0       0.96      0.55      0.70       572\n",
            "           1       0.21      0.84      0.34        83\n",
            "\n",
            "    accuracy                           0.59       655\n",
            "   macro avg       0.59      0.70      0.52       655\n",
            "weighted avg       0.87      0.59      0.66       655\n",
            "\n",
            "\n",
            "=====================================================\n",
            "\n",
            "Imbalanced Data :\n",
            "ROC-AUC Score: 0.5\n",
            "\n",
            "Balanced Data:\n",
            "ROC-AUC Score: 0.7\n"
          ]
        }
      ]
    },
    {
      "cell_type": "markdown",
      "metadata": {
        "id": "Ibu9pZN8iyoF"
      },
      "source": [
        ">### Training the SVM (rbf) model on the Training set"
      ]
    },
    {
      "cell_type": "code",
      "metadata": {
        "id": "I3Py6RK_iyoJ",
        "colab": {
          "base_uri": "https://localhost:8080/"
        },
        "outputId": "743be2c6-4b02-46b1-bda5-4153cb72fc02"
      },
      "source": [
        "from sklearn.svm import SVC\n",
        "classifier = SVC(kernel = 'rbf', random_state = 0)\n",
        "classifier.fit(X_train, y_train)"
      ],
      "execution_count": 539,
      "outputs": [
        {
          "output_type": "execute_result",
          "data": {
            "text/plain": [
              "SVC(C=1.0, break_ties=False, cache_size=200, class_weight=None, coef0=0.0,\n",
              "    decision_function_shape='ovr', degree=3, gamma='scale', kernel='rbf',\n",
              "    max_iter=-1, probability=False, random_state=0, shrinking=True, tol=0.001,\n",
              "    verbose=False)"
            ]
          },
          "metadata": {},
          "execution_count": 539
        }
      ]
    },
    {
      "cell_type": "markdown",
      "metadata": {
        "id": "cU7J1Gx2aqAZ"
      },
      "source": [
        ">### Training the SVM (rbf) model on the Training set (Balanced Data)\n",
        "\n"
      ]
    },
    {
      "cell_type": "code",
      "metadata": {
        "colab": {
          "base_uri": "https://localhost:8080/"
        },
        "id": "gNfeYsxpaqAd",
        "outputId": "2854af72-b0ca-4744-cd10-91990f32f782"
      },
      "source": [
        "from sklearn.linear_model import LogisticRegression\n",
        "classifier_smote = SVC(kernel = 'rbf', random_state = 0)\n",
        "classifier_smote.fit(x_train_smote, y_train_smote)"
      ],
      "execution_count": 540,
      "outputs": [
        {
          "output_type": "execute_result",
          "data": {
            "text/plain": [
              "SVC(C=1.0, break_ties=False, cache_size=200, class_weight=None, coef0=0.0,\n",
              "    decision_function_shape='ovr', degree=3, gamma='scale', kernel='rbf',\n",
              "    max_iter=-1, probability=False, random_state=0, shrinking=True, tol=0.001,\n",
              "    verbose=False)"
            ]
          },
          "metadata": {},
          "execution_count": 540
        }
      ]
    },
    {
      "cell_type": "markdown",
      "metadata": {
        "id": "LZ-wBkukRdag"
      },
      "source": [
        ">### Evaluating the Model Performance"
      ]
    },
    {
      "cell_type": "code",
      "metadata": {
        "colab": {
          "base_uri": "https://localhost:8080/"
        },
        "id": "9vqOPgkFRdaj",
        "outputId": "5a691720-ba99-482a-b53f-f73477d749df"
      },
      "source": [
        "model_evolution(X_test,y_test,y_pred,y_pred_smote)"
      ],
      "execution_count": 541,
      "outputs": [
        {
          "output_type": "stream",
          "name": "stdout",
          "text": [
            "Confusion Matrix on Imbalanced Data:\n",
            "[[571   1]\n",
            " [ 83   0]]\n",
            "\n",
            "Confusion Matrix on Balanced Data:\n",
            "[[413 159]\n",
            " [ 21  62]]\n",
            "\n",
            "=====================================================\n",
            "\n",
            "Imbalanced Data :\n",
            "              precision    recall  f1-score   support\n",
            "\n",
            "           0       0.87      1.00      0.93       572\n",
            "           1       0.00      0.00      0.00        83\n",
            "\n",
            "    accuracy                           0.87       655\n",
            "   macro avg       0.44      0.50      0.47       655\n",
            "weighted avg       0.76      0.87      0.81       655\n",
            "\n",
            "\n",
            "Balanced Data:\n",
            "              precision    recall  f1-score   support\n",
            "\n",
            "           0       0.95      0.72      0.82       572\n",
            "           1       0.28      0.75      0.41        83\n",
            "\n",
            "    accuracy                           0.73       655\n",
            "   macro avg       0.62      0.73      0.61       655\n",
            "weighted avg       0.87      0.73      0.77       655\n",
            "\n",
            "\n",
            "=====================================================\n",
            "\n",
            "Imbalanced Data :\n",
            "ROC-AUC Score: 0.5\n",
            "\n",
            "Balanced Data:\n",
            "ROC-AUC Score: 0.73\n"
          ]
        }
      ]
    },
    {
      "cell_type": "markdown",
      "metadata": {
        "id": "1O6DDUrdC3qa"
      },
      "source": [
        ">### Hyperparameter tuning\n"
      ]
    },
    {
      "cell_type": "code",
      "metadata": {
        "id": "rBNGUTILC3qf"
      },
      "source": [
        "# defining parameter range\n",
        "param_grid = {'C': [0.1, 1, 10, 100, 1000], \n",
        "              'gamma': [1, 0.1, 0.01, 0.001, 0.0001],\n",
        "              'kernel': ['linear','rbf']} "
      ],
      "execution_count": 542,
      "outputs": []
    },
    {
      "cell_type": "code",
      "metadata": {
        "colab": {
          "base_uri": "https://localhost:8080/"
        },
        "id": "gzEehwmnC3qt",
        "outputId": "5be87321-d1e7-4159-930f-4bd8a527ec48"
      },
      "source": [
        "# Create an instance of the RandomForestClassifier\n",
        "svc_model = SVC()\n",
        "# Grid search\n",
        "svc_grid = GridSearchCV(svc_model, param_grid, refit = True, verbose = 3)\n",
        "\n",
        "# fitting the model for grid search\n",
        "svc_grid.fit(x_train_smote,y_train_smote)"
      ],
      "execution_count": null,
      "outputs": [
        {
          "output_type": "stream",
          "name": "stdout",
          "text": [
            "Fitting 5 folds for each of 50 candidates, totalling 250 fits\n",
            "[CV] C=0.1, gamma=1, kernel=linear ...................................\n"
          ]
        },
        {
          "output_type": "stream",
          "name": "stderr",
          "text": [
            "[Parallel(n_jobs=1)]: Using backend SequentialBackend with 1 concurrent workers.\n"
          ]
        },
        {
          "output_type": "stream",
          "name": "stdout",
          "text": [
            "[CV] ....... C=0.1, gamma=1, kernel=linear, score=0.680, total=   0.7s\n",
            "[CV] C=0.1, gamma=1, kernel=linear ...................................\n"
          ]
        },
        {
          "output_type": "stream",
          "name": "stderr",
          "text": [
            "[Parallel(n_jobs=1)]: Done   1 out of   1 | elapsed:    0.7s remaining:    0.0s\n"
          ]
        },
        {
          "output_type": "stream",
          "name": "stdout",
          "text": [
            "[CV] ....... C=0.1, gamma=1, kernel=linear, score=0.662, total=   0.7s\n",
            "[CV] C=0.1, gamma=1, kernel=linear ...................................\n"
          ]
        },
        {
          "output_type": "stream",
          "name": "stderr",
          "text": [
            "[Parallel(n_jobs=1)]: Done   2 out of   2 | elapsed:    1.4s remaining:    0.0s\n"
          ]
        },
        {
          "output_type": "stream",
          "name": "stdout",
          "text": [
            "[CV] ....... C=0.1, gamma=1, kernel=linear, score=0.709, total=   0.7s\n",
            "[CV] C=0.1, gamma=1, kernel=linear ...................................\n",
            "[CV] ....... C=0.1, gamma=1, kernel=linear, score=0.675, total=   0.7s\n",
            "[CV] C=0.1, gamma=1, kernel=linear ...................................\n",
            "[CV] ....... C=0.1, gamma=1, kernel=linear, score=0.678, total=   0.7s\n",
            "[CV] C=0.1, gamma=1, kernel=rbf ......................................\n",
            "[CV] .......... C=0.1, gamma=1, kernel=rbf, score=0.737, total=   1.4s\n",
            "[CV] C=0.1, gamma=1, kernel=rbf ......................................\n",
            "[CV] .......... C=0.1, gamma=1, kernel=rbf, score=0.696, total=   1.4s\n",
            "[CV] C=0.1, gamma=1, kernel=rbf ......................................\n",
            "[CV] .......... C=0.1, gamma=1, kernel=rbf, score=0.792, total=   1.5s\n",
            "[CV] C=0.1, gamma=1, kernel=rbf ......................................\n",
            "[CV] .......... C=0.1, gamma=1, kernel=rbf, score=0.712, total=   1.4s\n",
            "[CV] C=0.1, gamma=1, kernel=rbf ......................................\n",
            "[CV] .......... C=0.1, gamma=1, kernel=rbf, score=0.715, total=   1.4s\n",
            "[CV] C=0.1, gamma=0.1, kernel=linear .................................\n",
            "[CV] ..... C=0.1, gamma=0.1, kernel=linear, score=0.680, total=   0.7s\n",
            "[CV] C=0.1, gamma=0.1, kernel=linear .................................\n",
            "[CV] ..... C=0.1, gamma=0.1, kernel=linear, score=0.662, total=   0.7s\n",
            "[CV] C=0.1, gamma=0.1, kernel=linear .................................\n",
            "[CV] ..... C=0.1, gamma=0.1, kernel=linear, score=0.709, total=   0.7s\n",
            "[CV] C=0.1, gamma=0.1, kernel=linear .................................\n",
            "[CV] ..... C=0.1, gamma=0.1, kernel=linear, score=0.675, total=   0.7s\n",
            "[CV] C=0.1, gamma=0.1, kernel=linear .................................\n",
            "[CV] ..... C=0.1, gamma=0.1, kernel=linear, score=0.678, total=   0.7s\n",
            "[CV] C=0.1, gamma=0.1, kernel=rbf ....................................\n",
            "[CV] ........ C=0.1, gamma=0.1, kernel=rbf, score=0.688, total=   1.1s\n",
            "[CV] C=0.1, gamma=0.1, kernel=rbf ....................................\n",
            "[CV] ........ C=0.1, gamma=0.1, kernel=rbf, score=0.712, total=   1.2s\n",
            "[CV] C=0.1, gamma=0.1, kernel=rbf ....................................\n",
            "[CV] ........ C=0.1, gamma=0.1, kernel=rbf, score=0.738, total=   1.2s\n",
            "[CV] C=0.1, gamma=0.1, kernel=rbf ....................................\n",
            "[CV] ........ C=0.1, gamma=0.1, kernel=rbf, score=0.721, total=   1.1s\n",
            "[CV] C=0.1, gamma=0.1, kernel=rbf ....................................\n",
            "[CV] ........ C=0.1, gamma=0.1, kernel=rbf, score=0.733, total=   1.1s\n",
            "[CV] C=0.1, gamma=0.01, kernel=linear ................................\n",
            "[CV] .... C=0.1, gamma=0.01, kernel=linear, score=0.680, total=   0.7s\n",
            "[CV] C=0.1, gamma=0.01, kernel=linear ................................\n",
            "[CV] .... C=0.1, gamma=0.01, kernel=linear, score=0.662, total=   0.7s\n",
            "[CV] C=0.1, gamma=0.01, kernel=linear ................................\n",
            "[CV] .... C=0.1, gamma=0.01, kernel=linear, score=0.709, total=   0.7s\n",
            "[CV] C=0.1, gamma=0.01, kernel=linear ................................\n",
            "[CV] .... C=0.1, gamma=0.01, kernel=linear, score=0.675, total=   0.7s\n",
            "[CV] C=0.1, gamma=0.01, kernel=linear ................................\n",
            "[CV] .... C=0.1, gamma=0.01, kernel=linear, score=0.678, total=   0.7s\n",
            "[CV] C=0.1, gamma=0.01, kernel=rbf ...................................\n",
            "[CV] ....... C=0.1, gamma=0.01, kernel=rbf, score=0.670, total=   1.2s\n",
            "[CV] C=0.1, gamma=0.01, kernel=rbf ...................................\n",
            "[CV] ....... C=0.1, gamma=0.01, kernel=rbf, score=0.673, total=   1.1s\n",
            "[CV] C=0.1, gamma=0.01, kernel=rbf ...................................\n",
            "[CV] ....... C=0.1, gamma=0.01, kernel=rbf, score=0.720, total=   1.1s\n",
            "[CV] C=0.1, gamma=0.01, kernel=rbf ...................................\n",
            "[CV] ....... C=0.1, gamma=0.01, kernel=rbf, score=0.686, total=   1.1s\n",
            "[CV] C=0.1, gamma=0.01, kernel=rbf ...................................\n",
            "[CV] ....... C=0.1, gamma=0.01, kernel=rbf, score=0.693, total=   1.2s\n",
            "[CV] C=0.1, gamma=0.001, kernel=linear ...............................\n",
            "[CV] ... C=0.1, gamma=0.001, kernel=linear, score=0.680, total=   0.7s\n",
            "[CV] C=0.1, gamma=0.001, kernel=linear ...............................\n",
            "[CV] ... C=0.1, gamma=0.001, kernel=linear, score=0.662, total=   0.7s\n",
            "[CV] C=0.1, gamma=0.001, kernel=linear ...............................\n",
            "[CV] ... C=0.1, gamma=0.001, kernel=linear, score=0.709, total=   0.7s\n",
            "[CV] C=0.1, gamma=0.001, kernel=linear ...............................\n",
            "[CV] ... C=0.1, gamma=0.001, kernel=linear, score=0.675, total=   0.7s\n",
            "[CV] C=0.1, gamma=0.001, kernel=linear ...............................\n",
            "[CV] ... C=0.1, gamma=0.001, kernel=linear, score=0.678, total=   0.7s\n",
            "[CV] C=0.1, gamma=0.001, kernel=rbf ..................................\n",
            "[CV] ...... C=0.1, gamma=0.001, kernel=rbf, score=0.660, total=   1.4s\n",
            "[CV] C=0.1, gamma=0.001, kernel=rbf ..................................\n",
            "[CV] ...... C=0.1, gamma=0.001, kernel=rbf, score=0.648, total=   1.4s\n",
            "[CV] C=0.1, gamma=0.001, kernel=rbf ..................................\n",
            "[CV] ...... C=0.1, gamma=0.001, kernel=rbf, score=0.674, total=   1.5s\n",
            "[CV] C=0.1, gamma=0.001, kernel=rbf ..................................\n",
            "[CV] ...... C=0.1, gamma=0.001, kernel=rbf, score=0.666, total=   1.5s\n",
            "[CV] C=0.1, gamma=0.001, kernel=rbf ..................................\n",
            "[CV] ...... C=0.1, gamma=0.001, kernel=rbf, score=0.645, total=   1.4s\n",
            "[CV] C=0.1, gamma=0.0001, kernel=linear ..............................\n",
            "[CV] .. C=0.1, gamma=0.0001, kernel=linear, score=0.680, total=   0.7s\n",
            "[CV] C=0.1, gamma=0.0001, kernel=linear ..............................\n",
            "[CV] .. C=0.1, gamma=0.0001, kernel=linear, score=0.662, total=   0.7s\n",
            "[CV] C=0.1, gamma=0.0001, kernel=linear ..............................\n",
            "[CV] .. C=0.1, gamma=0.0001, kernel=linear, score=0.709, total=   0.7s\n",
            "[CV] C=0.1, gamma=0.0001, kernel=linear ..............................\n",
            "[CV] .. C=0.1, gamma=0.0001, kernel=linear, score=0.675, total=   0.7s\n",
            "[CV] C=0.1, gamma=0.0001, kernel=linear ..............................\n",
            "[CV] .. C=0.1, gamma=0.0001, kernel=linear, score=0.678, total=   0.7s\n",
            "[CV] C=0.1, gamma=0.0001, kernel=rbf .................................\n",
            "[CV] ..... C=0.1, gamma=0.0001, kernel=rbf, score=0.586, total=   1.6s\n",
            "[CV] C=0.1, gamma=0.0001, kernel=rbf .................................\n",
            "[CV] ..... C=0.1, gamma=0.0001, kernel=rbf, score=0.550, total=   1.5s\n",
            "[CV] C=0.1, gamma=0.0001, kernel=rbf .................................\n",
            "[CV] ..... C=0.1, gamma=0.0001, kernel=rbf, score=0.589, total=   1.6s\n",
            "[CV] C=0.1, gamma=0.0001, kernel=rbf .................................\n",
            "[CV] ..... C=0.1, gamma=0.0001, kernel=rbf, score=0.500, total=   1.5s\n",
            "[CV] C=0.1, gamma=0.0001, kernel=rbf .................................\n",
            "[CV] ..... C=0.1, gamma=0.0001, kernel=rbf, score=0.500, total=   1.6s\n",
            "[CV] C=1, gamma=1, kernel=linear .....................................\n",
            "[CV] ......... C=1, gamma=1, kernel=linear, score=0.680, total=   1.3s\n",
            "[CV] C=1, gamma=1, kernel=linear .....................................\n",
            "[CV] ......... C=1, gamma=1, kernel=linear, score=0.662, total=   1.2s\n",
            "[CV] C=1, gamma=1, kernel=linear .....................................\n",
            "[CV] ......... C=1, gamma=1, kernel=linear, score=0.708, total=   1.2s\n",
            "[CV] C=1, gamma=1, kernel=linear .....................................\n",
            "[CV] ......... C=1, gamma=1, kernel=linear, score=0.675, total=   1.3s\n",
            "[CV] C=1, gamma=1, kernel=linear .....................................\n",
            "[CV] ......... C=1, gamma=1, kernel=linear, score=0.677, total=   1.2s\n",
            "[CV] C=1, gamma=1, kernel=rbf ........................................\n",
            "[CV] ............ C=1, gamma=1, kernel=rbf, score=0.892, total=   1.6s\n",
            "[CV] C=1, gamma=1, kernel=rbf ........................................\n",
            "[CV] ............ C=1, gamma=1, kernel=rbf, score=0.919, total=   1.6s\n",
            "[CV] C=1, gamma=1, kernel=rbf ........................................\n",
            "[CV] ............ C=1, gamma=1, kernel=rbf, score=0.929, total=   1.6s\n",
            "[CV] C=1, gamma=1, kernel=rbf ........................................\n",
            "[CV] ............ C=1, gamma=1, kernel=rbf, score=0.916, total=   1.5s\n",
            "[CV] C=1, gamma=1, kernel=rbf ........................................\n",
            "[CV] ............ C=1, gamma=1, kernel=rbf, score=0.929, total=   1.5s\n",
            "[CV] C=1, gamma=0.1, kernel=linear ...................................\n",
            "[CV] ....... C=1, gamma=0.1, kernel=linear, score=0.680, total=   1.3s\n",
            "[CV] C=1, gamma=0.1, kernel=linear ...................................\n",
            "[CV] ....... C=1, gamma=0.1, kernel=linear, score=0.662, total=   1.2s\n",
            "[CV] C=1, gamma=0.1, kernel=linear ...................................\n",
            "[CV] ....... C=1, gamma=0.1, kernel=linear, score=0.708, total=   1.2s\n",
            "[CV] C=1, gamma=0.1, kernel=linear ...................................\n",
            "[CV] ....... C=1, gamma=0.1, kernel=linear, score=0.675, total=   1.3s\n",
            "[CV] C=1, gamma=0.1, kernel=linear ...................................\n",
            "[CV] ....... C=1, gamma=0.1, kernel=linear, score=0.677, total=   1.2s\n",
            "[CV] C=1, gamma=0.1, kernel=rbf ......................................\n"
          ]
        }
      ]
    },
    {
      "cell_type": "code",
      "metadata": {
        "id": "TcTq2URFC3qx"
      },
      "source": [
        "svc_grid.best_estimator_"
      ],
      "execution_count": null,
      "outputs": []
    },
    {
      "cell_type": "code",
      "metadata": {
        "id": "RjFISxlkC3qz"
      },
      "source": [
        "svc_optimal_model = svc_grid.best_estimator_"
      ],
      "execution_count": null,
      "outputs": []
    },
    {
      "cell_type": "code",
      "metadata": {
        "id": "PuimNK9tC3q2"
      },
      "source": [
        "svc_grid.best_params_"
      ],
      "execution_count": null,
      "outputs": []
    },
    {
      "cell_type": "code",
      "metadata": {
        "id": "kQVeooPWC3q5"
      },
      "source": [
        "# Making predictions on train and test data\n",
        "\n",
        "train_class_preds = rf_optimal_model.predict(x_train_smote)\n",
        "y_pred = rf_optimal_model.predict(X_test)"
      ],
      "execution_count": null,
      "outputs": []
    },
    {
      "cell_type": "markdown",
      "metadata": {
        "id": "yF4Z2WiKRf8-"
      },
      "source": [
        ">### Evaluating the Model Performance"
      ]
    },
    {
      "cell_type": "code",
      "metadata": {
        "id": "GRZQ85YtRf9A"
      },
      "source": [
        "model_evolution(X_test,y_test,y_pred,y_pred_smote)"
      ],
      "execution_count": null,
      "outputs": []
    }
  ]
}