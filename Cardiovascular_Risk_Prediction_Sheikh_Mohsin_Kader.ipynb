{
  "nbformat": 4,
  "nbformat_minor": 0,
  "metadata": {
    "colab": {
      "name": "Cardiovascular Risk Prediction- Sheikh Mohsin Kader.ipynb",
      "provenance": [],
      "mount_file_id": "1uICv0OJwGhYrY6YGFwRjGc0pqHKTD7CI",
      "authorship_tag": "ABX9TyPWeUUAlInRsHi2/P357Kuf",
      "include_colab_link": true
    },
    "kernelspec": {
      "name": "python3",
      "display_name": "Python 3"
    },
    "language_info": {
      "name": "python"
    }
  },
  "cells": [
    {
      "cell_type": "markdown",
      "metadata": {
        "id": "view-in-github",
        "colab_type": "text"
      },
      "source": [
        "<a href=\"https://colab.research.google.com/github/smkmohsin/Cardiovascular-Risk-Prediction/blob/main/Cardiovascular_Risk_Prediction_Sheikh_Mohsin_Kader.ipynb\" target=\"_parent\"><img src=\"https://colab.research.google.com/assets/colab-badge.svg\" alt=\"Open In Colab\"/></a>"
      ]
    },
    {
      "cell_type": "markdown",
      "metadata": {
        "id": "48CZUk17HZTd"
      },
      "source": [
        "# <b>The dataset is from an ongoing cardiovascular study on residents of the town of Framingham, Massachusetts. The classification goal is to predict whether the patient has a 10-year risk of future coronary heart disease (CHD). The dataset provides the patients’ information. It includes over 4,000 records and 15 attributes. \n",
        "# <b>Each attribute is a potential risk factor. There are both demographic, behavioral, and medical risk factors. "
      ]
    },
    {
      "cell_type": "markdown",
      "metadata": {
        "id": "4kyajR8IHyb9"
      },
      "source": [
        "# <b><u> Data Description </u></b>\n",
        "###Demographic: \n",
        "\n",
        "• **Sex**: male or female(\"M\" or \"F\") \n",
        "\n",
        "• **Age**: Age of the patient;(Continuous - Although the recorded ages have been truncated to whole numbers, the concept of age is continuous) \n",
        "###Behavioral \n",
        "• **is_smoking**: whether or not the patient is a current smoker (\"YES\" or \"NO\") \n",
        "\n",
        "• **Cigs Per Day**: the number of cigarettes that the person smoked on average in one day.(can be considered continuous as one can have any number of cigarettes, even half a cigarette.) \n",
        "\n",
        "###Medical( history) \n",
        "• **BP Meds**: whether or not the patient was on blood pressure medication (Nominal) \n",
        "\n",
        "• **Prevalent Stroke**: whether or not the patient had previously had a stroke (Nominal) \n",
        "\n",
        "• **Prevalent Hyp**: whether or not the patient was hypertensive (Nominal) \n",
        "\n",
        "• **Diabetes**: whether or not the patient had diabetes (Nominal) \n",
        "\n",
        "###Medical(current) \n",
        "• **Tot Chol**: total cholesterol level (Continuous) \n",
        "\n",
        "• **Sys BP**: systolic blood pressure (Continuous) \n",
        "\n",
        "• **Dia BP**: diastolic blood pressure (Continuous) \n",
        "\n",
        "• **BMI**: Body Mass Index (Continuous) \n",
        "\n",
        "• **Heart Rate**: heart rate (Continuous - In medical research, variables such as heart rate though in fact discrete, yet are considered continuous because of large number of possible values.) \n",
        "\n",
        "• **Glucose**: glucose level (Continuous) \n",
        "\n",
        "###Predict variable (desired target) \n",
        "• **CHD**: 10-year risk of coronary heart disease (binary: “1”, means “Yes”, “0” means “No”) - DV"
      ]
    },
    {
      "cell_type": "markdown",
      "metadata": {
        "id": "vRunvFooLptL"
      },
      "source": [
        "# <b>Importing Libaries "
      ]
    },
    {
      "cell_type": "code",
      "metadata": {
        "id": "wVpP0fJrJK_Z"
      },
      "source": [
        "%matplotlib inline\n",
        "import pandas as pd\n",
        "import matplotlib.pyplot as plt\n",
        "import seaborn as sns\n",
        "import numpy as np\n",
        "\n",
        "from scipy.stats import norm\n",
        "from scipy import stats\n",
        "from sklearn.metrics import confusion_matrix, accuracy_score, roc_auc_score, classification_report, plot_confusion_matrix\n",
        "from sklearn.model_selection import GridSearchCV\n",
        "from matplotlib import rcParams\n",
        "\n",
        "import warnings\n",
        "warnings.filterwarnings('ignore')\n",
        "\n",
        "plt.rcParams['figure.figsize'] = (10, 6)\n",
        "rcParams['figure.figsize'] = 10,6"
      ],
      "execution_count": 961,
      "outputs": []
    },
    {
      "cell_type": "code",
      "metadata": {
        "id": "SlzyzOF5L_hE",
        "colab": {
          "base_uri": "https://localhost:8080/"
        },
        "outputId": "6329a3bb-ab35-4ced-ad40-9c2d40a3fcb1"
      },
      "source": [
        "from google.colab import drive\n",
        "drive.mount('/content/drive')"
      ],
      "execution_count": 962,
      "outputs": [
        {
          "output_type": "stream",
          "name": "stdout",
          "text": [
            "Drive already mounted at /content/drive; to attempt to forcibly remount, call drive.mount(\"/content/drive\", force_remount=True).\n"
          ]
        }
      ]
    },
    {
      "cell_type": "code",
      "metadata": {
        "id": "sU117ARRMB0K"
      },
      "source": [
        "# Importing Dataset\n",
        "dataset = pd.read_csv('/content/drive/MyDrive/Almabetter/Module 4/Capstone Project 2/data_cardiovascular_risk.csv')"
      ],
      "execution_count": 963,
      "outputs": []
    },
    {
      "cell_type": "markdown",
      "metadata": {
        "id": "XILhe-MuMvON"
      },
      "source": [
        "# <b> Data Inspection"
      ]
    },
    {
      "cell_type": "code",
      "metadata": {
        "colab": {
          "base_uri": "https://localhost:8080/",
          "height": 206
        },
        "id": "laOYvBzvMKZa",
        "outputId": "8934aacc-e504-438a-dd6c-35d46ff6564e"
      },
      "source": [
        "dataset.head()"
      ],
      "execution_count": 964,
      "outputs": [
        {
          "output_type": "execute_result",
          "data": {
            "text/html": [
              "<div>\n",
              "<style scoped>\n",
              "    .dataframe tbody tr th:only-of-type {\n",
              "        vertical-align: middle;\n",
              "    }\n",
              "\n",
              "    .dataframe tbody tr th {\n",
              "        vertical-align: top;\n",
              "    }\n",
              "\n",
              "    .dataframe thead th {\n",
              "        text-align: right;\n",
              "    }\n",
              "</style>\n",
              "<table border=\"1\" class=\"dataframe\">\n",
              "  <thead>\n",
              "    <tr style=\"text-align: right;\">\n",
              "      <th></th>\n",
              "      <th>id</th>\n",
              "      <th>age</th>\n",
              "      <th>education</th>\n",
              "      <th>sex</th>\n",
              "      <th>is_smoking</th>\n",
              "      <th>cigsPerDay</th>\n",
              "      <th>BPMeds</th>\n",
              "      <th>prevalentStroke</th>\n",
              "      <th>prevalentHyp</th>\n",
              "      <th>diabetes</th>\n",
              "      <th>totChol</th>\n",
              "      <th>sysBP</th>\n",
              "      <th>diaBP</th>\n",
              "      <th>BMI</th>\n",
              "      <th>heartRate</th>\n",
              "      <th>glucose</th>\n",
              "      <th>TenYearCHD</th>\n",
              "    </tr>\n",
              "  </thead>\n",
              "  <tbody>\n",
              "    <tr>\n",
              "      <th>0</th>\n",
              "      <td>0</td>\n",
              "      <td>64</td>\n",
              "      <td>2.0</td>\n",
              "      <td>F</td>\n",
              "      <td>YES</td>\n",
              "      <td>3.0</td>\n",
              "      <td>0.0</td>\n",
              "      <td>0</td>\n",
              "      <td>0</td>\n",
              "      <td>0</td>\n",
              "      <td>221.0</td>\n",
              "      <td>148.0</td>\n",
              "      <td>85.0</td>\n",
              "      <td>NaN</td>\n",
              "      <td>90.0</td>\n",
              "      <td>80.0</td>\n",
              "      <td>1</td>\n",
              "    </tr>\n",
              "    <tr>\n",
              "      <th>1</th>\n",
              "      <td>1</td>\n",
              "      <td>36</td>\n",
              "      <td>4.0</td>\n",
              "      <td>M</td>\n",
              "      <td>NO</td>\n",
              "      <td>0.0</td>\n",
              "      <td>0.0</td>\n",
              "      <td>0</td>\n",
              "      <td>1</td>\n",
              "      <td>0</td>\n",
              "      <td>212.0</td>\n",
              "      <td>168.0</td>\n",
              "      <td>98.0</td>\n",
              "      <td>29.77</td>\n",
              "      <td>72.0</td>\n",
              "      <td>75.0</td>\n",
              "      <td>0</td>\n",
              "    </tr>\n",
              "    <tr>\n",
              "      <th>2</th>\n",
              "      <td>2</td>\n",
              "      <td>46</td>\n",
              "      <td>1.0</td>\n",
              "      <td>F</td>\n",
              "      <td>YES</td>\n",
              "      <td>10.0</td>\n",
              "      <td>0.0</td>\n",
              "      <td>0</td>\n",
              "      <td>0</td>\n",
              "      <td>0</td>\n",
              "      <td>250.0</td>\n",
              "      <td>116.0</td>\n",
              "      <td>71.0</td>\n",
              "      <td>20.35</td>\n",
              "      <td>88.0</td>\n",
              "      <td>94.0</td>\n",
              "      <td>0</td>\n",
              "    </tr>\n",
              "    <tr>\n",
              "      <th>3</th>\n",
              "      <td>3</td>\n",
              "      <td>50</td>\n",
              "      <td>1.0</td>\n",
              "      <td>M</td>\n",
              "      <td>YES</td>\n",
              "      <td>20.0</td>\n",
              "      <td>0.0</td>\n",
              "      <td>0</td>\n",
              "      <td>1</td>\n",
              "      <td>0</td>\n",
              "      <td>233.0</td>\n",
              "      <td>158.0</td>\n",
              "      <td>88.0</td>\n",
              "      <td>28.26</td>\n",
              "      <td>68.0</td>\n",
              "      <td>94.0</td>\n",
              "      <td>1</td>\n",
              "    </tr>\n",
              "    <tr>\n",
              "      <th>4</th>\n",
              "      <td>4</td>\n",
              "      <td>64</td>\n",
              "      <td>1.0</td>\n",
              "      <td>F</td>\n",
              "      <td>YES</td>\n",
              "      <td>30.0</td>\n",
              "      <td>0.0</td>\n",
              "      <td>0</td>\n",
              "      <td>0</td>\n",
              "      <td>0</td>\n",
              "      <td>241.0</td>\n",
              "      <td>136.5</td>\n",
              "      <td>85.0</td>\n",
              "      <td>26.42</td>\n",
              "      <td>70.0</td>\n",
              "      <td>77.0</td>\n",
              "      <td>0</td>\n",
              "    </tr>\n",
              "  </tbody>\n",
              "</table>\n",
              "</div>"
            ],
            "text/plain": [
              "   id  age  education sex  ...    BMI  heartRate  glucose  TenYearCHD\n",
              "0   0   64        2.0   F  ...    NaN       90.0     80.0           1\n",
              "1   1   36        4.0   M  ...  29.77       72.0     75.0           0\n",
              "2   2   46        1.0   F  ...  20.35       88.0     94.0           0\n",
              "3   3   50        1.0   M  ...  28.26       68.0     94.0           1\n",
              "4   4   64        1.0   F  ...  26.42       70.0     77.0           0\n",
              "\n",
              "[5 rows x 17 columns]"
            ]
          },
          "metadata": {},
          "execution_count": 964
        }
      ]
    },
    {
      "cell_type": "code",
      "metadata": {
        "colab": {
          "base_uri": "https://localhost:8080/"
        },
        "id": "j3D5em3SM07c",
        "outputId": "a834baaf-f0cf-458e-d3e0-6a7bbb859cfa"
      },
      "source": [
        "dataset.shape"
      ],
      "execution_count": 965,
      "outputs": [
        {
          "output_type": "execute_result",
          "data": {
            "text/plain": [
              "(3390, 17)"
            ]
          },
          "metadata": {},
          "execution_count": 965
        }
      ]
    },
    {
      "cell_type": "code",
      "metadata": {
        "colab": {
          "base_uri": "https://localhost:8080/"
        },
        "id": "Xr34A5tpNwn0",
        "outputId": "3ab49d2d-8e2a-499a-b86d-66b4a061be21"
      },
      "source": [
        "dataset.info()"
      ],
      "execution_count": 966,
      "outputs": [
        {
          "output_type": "stream",
          "name": "stdout",
          "text": [
            "<class 'pandas.core.frame.DataFrame'>\n",
            "RangeIndex: 3390 entries, 0 to 3389\n",
            "Data columns (total 17 columns):\n",
            " #   Column           Non-Null Count  Dtype  \n",
            "---  ------           --------------  -----  \n",
            " 0   id               3390 non-null   int64  \n",
            " 1   age              3390 non-null   int64  \n",
            " 2   education        3303 non-null   float64\n",
            " 3   sex              3390 non-null   object \n",
            " 4   is_smoking       3390 non-null   object \n",
            " 5   cigsPerDay       3368 non-null   float64\n",
            " 6   BPMeds           3346 non-null   float64\n",
            " 7   prevalentStroke  3390 non-null   int64  \n",
            " 8   prevalentHyp     3390 non-null   int64  \n",
            " 9   diabetes         3390 non-null   int64  \n",
            " 10  totChol          3352 non-null   float64\n",
            " 11  sysBP            3390 non-null   float64\n",
            " 12  diaBP            3390 non-null   float64\n",
            " 13  BMI              3376 non-null   float64\n",
            " 14  heartRate        3389 non-null   float64\n",
            " 15  glucose          3086 non-null   float64\n",
            " 16  TenYearCHD       3390 non-null   int64  \n",
            "dtypes: float64(9), int64(6), object(2)\n",
            "memory usage: 450.4+ KB\n"
          ]
        }
      ]
    },
    {
      "cell_type": "code",
      "metadata": {
        "colab": {
          "base_uri": "https://localhost:8080/",
          "height": 320
        },
        "id": "TBO-wxXCNcI7",
        "outputId": "07955d9a-52fd-45db-80ef-785691174cb9"
      },
      "source": [
        "dataset.describe()"
      ],
      "execution_count": 967,
      "outputs": [
        {
          "output_type": "execute_result",
          "data": {
            "text/html": [
              "<div>\n",
              "<style scoped>\n",
              "    .dataframe tbody tr th:only-of-type {\n",
              "        vertical-align: middle;\n",
              "    }\n",
              "\n",
              "    .dataframe tbody tr th {\n",
              "        vertical-align: top;\n",
              "    }\n",
              "\n",
              "    .dataframe thead th {\n",
              "        text-align: right;\n",
              "    }\n",
              "</style>\n",
              "<table border=\"1\" class=\"dataframe\">\n",
              "  <thead>\n",
              "    <tr style=\"text-align: right;\">\n",
              "      <th></th>\n",
              "      <th>id</th>\n",
              "      <th>age</th>\n",
              "      <th>education</th>\n",
              "      <th>cigsPerDay</th>\n",
              "      <th>BPMeds</th>\n",
              "      <th>prevalentStroke</th>\n",
              "      <th>prevalentHyp</th>\n",
              "      <th>diabetes</th>\n",
              "      <th>totChol</th>\n",
              "      <th>sysBP</th>\n",
              "      <th>diaBP</th>\n",
              "      <th>BMI</th>\n",
              "      <th>heartRate</th>\n",
              "      <th>glucose</th>\n",
              "      <th>TenYearCHD</th>\n",
              "    </tr>\n",
              "  </thead>\n",
              "  <tbody>\n",
              "    <tr>\n",
              "      <th>count</th>\n",
              "      <td>3390.000000</td>\n",
              "      <td>3390.000000</td>\n",
              "      <td>3303.000000</td>\n",
              "      <td>3368.000000</td>\n",
              "      <td>3346.000000</td>\n",
              "      <td>3390.000000</td>\n",
              "      <td>3390.000000</td>\n",
              "      <td>3390.000000</td>\n",
              "      <td>3352.000000</td>\n",
              "      <td>3390.00000</td>\n",
              "      <td>3390.000000</td>\n",
              "      <td>3376.000000</td>\n",
              "      <td>3389.000000</td>\n",
              "      <td>3086.000000</td>\n",
              "      <td>3390.000000</td>\n",
              "    </tr>\n",
              "    <tr>\n",
              "      <th>mean</th>\n",
              "      <td>1694.500000</td>\n",
              "      <td>49.542183</td>\n",
              "      <td>1.970936</td>\n",
              "      <td>9.069477</td>\n",
              "      <td>0.029886</td>\n",
              "      <td>0.006490</td>\n",
              "      <td>0.315339</td>\n",
              "      <td>0.025664</td>\n",
              "      <td>237.074284</td>\n",
              "      <td>132.60118</td>\n",
              "      <td>82.883038</td>\n",
              "      <td>25.794964</td>\n",
              "      <td>75.977279</td>\n",
              "      <td>82.086520</td>\n",
              "      <td>0.150737</td>\n",
              "    </tr>\n",
              "    <tr>\n",
              "      <th>std</th>\n",
              "      <td>978.753033</td>\n",
              "      <td>8.592878</td>\n",
              "      <td>1.019081</td>\n",
              "      <td>11.879078</td>\n",
              "      <td>0.170299</td>\n",
              "      <td>0.080309</td>\n",
              "      <td>0.464719</td>\n",
              "      <td>0.158153</td>\n",
              "      <td>45.247430</td>\n",
              "      <td>22.29203</td>\n",
              "      <td>12.023581</td>\n",
              "      <td>4.115449</td>\n",
              "      <td>11.971868</td>\n",
              "      <td>24.244753</td>\n",
              "      <td>0.357846</td>\n",
              "    </tr>\n",
              "    <tr>\n",
              "      <th>min</th>\n",
              "      <td>0.000000</td>\n",
              "      <td>32.000000</td>\n",
              "      <td>1.000000</td>\n",
              "      <td>0.000000</td>\n",
              "      <td>0.000000</td>\n",
              "      <td>0.000000</td>\n",
              "      <td>0.000000</td>\n",
              "      <td>0.000000</td>\n",
              "      <td>107.000000</td>\n",
              "      <td>83.50000</td>\n",
              "      <td>48.000000</td>\n",
              "      <td>15.960000</td>\n",
              "      <td>45.000000</td>\n",
              "      <td>40.000000</td>\n",
              "      <td>0.000000</td>\n",
              "    </tr>\n",
              "    <tr>\n",
              "      <th>25%</th>\n",
              "      <td>847.250000</td>\n",
              "      <td>42.000000</td>\n",
              "      <td>1.000000</td>\n",
              "      <td>0.000000</td>\n",
              "      <td>0.000000</td>\n",
              "      <td>0.000000</td>\n",
              "      <td>0.000000</td>\n",
              "      <td>0.000000</td>\n",
              "      <td>206.000000</td>\n",
              "      <td>117.00000</td>\n",
              "      <td>74.500000</td>\n",
              "      <td>23.020000</td>\n",
              "      <td>68.000000</td>\n",
              "      <td>71.000000</td>\n",
              "      <td>0.000000</td>\n",
              "    </tr>\n",
              "    <tr>\n",
              "      <th>50%</th>\n",
              "      <td>1694.500000</td>\n",
              "      <td>49.000000</td>\n",
              "      <td>2.000000</td>\n",
              "      <td>0.000000</td>\n",
              "      <td>0.000000</td>\n",
              "      <td>0.000000</td>\n",
              "      <td>0.000000</td>\n",
              "      <td>0.000000</td>\n",
              "      <td>234.000000</td>\n",
              "      <td>128.50000</td>\n",
              "      <td>82.000000</td>\n",
              "      <td>25.380000</td>\n",
              "      <td>75.000000</td>\n",
              "      <td>78.000000</td>\n",
              "      <td>0.000000</td>\n",
              "    </tr>\n",
              "    <tr>\n",
              "      <th>75%</th>\n",
              "      <td>2541.750000</td>\n",
              "      <td>56.000000</td>\n",
              "      <td>3.000000</td>\n",
              "      <td>20.000000</td>\n",
              "      <td>0.000000</td>\n",
              "      <td>0.000000</td>\n",
              "      <td>1.000000</td>\n",
              "      <td>0.000000</td>\n",
              "      <td>264.000000</td>\n",
              "      <td>144.00000</td>\n",
              "      <td>90.000000</td>\n",
              "      <td>28.040000</td>\n",
              "      <td>83.000000</td>\n",
              "      <td>87.000000</td>\n",
              "      <td>0.000000</td>\n",
              "    </tr>\n",
              "    <tr>\n",
              "      <th>max</th>\n",
              "      <td>3389.000000</td>\n",
              "      <td>70.000000</td>\n",
              "      <td>4.000000</td>\n",
              "      <td>70.000000</td>\n",
              "      <td>1.000000</td>\n",
              "      <td>1.000000</td>\n",
              "      <td>1.000000</td>\n",
              "      <td>1.000000</td>\n",
              "      <td>696.000000</td>\n",
              "      <td>295.00000</td>\n",
              "      <td>142.500000</td>\n",
              "      <td>56.800000</td>\n",
              "      <td>143.000000</td>\n",
              "      <td>394.000000</td>\n",
              "      <td>1.000000</td>\n",
              "    </tr>\n",
              "  </tbody>\n",
              "</table>\n",
              "</div>"
            ],
            "text/plain": [
              "                id          age  ...      glucose   TenYearCHD\n",
              "count  3390.000000  3390.000000  ...  3086.000000  3390.000000\n",
              "mean   1694.500000    49.542183  ...    82.086520     0.150737\n",
              "std     978.753033     8.592878  ...    24.244753     0.357846\n",
              "min       0.000000    32.000000  ...    40.000000     0.000000\n",
              "25%     847.250000    42.000000  ...    71.000000     0.000000\n",
              "50%    1694.500000    49.000000  ...    78.000000     0.000000\n",
              "75%    2541.750000    56.000000  ...    87.000000     0.000000\n",
              "max    3389.000000    70.000000  ...   394.000000     1.000000\n",
              "\n",
              "[8 rows x 15 columns]"
            ]
          },
          "metadata": {},
          "execution_count": 967
        }
      ]
    },
    {
      "cell_type": "code",
      "metadata": {
        "colab": {
          "base_uri": "https://localhost:8080/"
        },
        "id": "cG3Q9gj6N_0B",
        "outputId": "814d2dd5-8c7d-4f2a-b205-7804f08fec3e"
      },
      "source": [
        "dataset.columns"
      ],
      "execution_count": 968,
      "outputs": [
        {
          "output_type": "execute_result",
          "data": {
            "text/plain": [
              "Index(['id', 'age', 'education', 'sex', 'is_smoking', 'cigsPerDay', 'BPMeds',\n",
              "       'prevalentStroke', 'prevalentHyp', 'diabetes', 'totChol', 'sysBP',\n",
              "       'diaBP', 'BMI', 'heartRate', 'glucose', 'TenYearCHD'],\n",
              "      dtype='object')"
            ]
          },
          "metadata": {},
          "execution_count": 968
        }
      ]
    },
    {
      "cell_type": "code",
      "metadata": {
        "colab": {
          "base_uri": "https://localhost:8080/"
        },
        "id": "b2pbxY061vBy",
        "outputId": "d70af18d-425a-4a93-871b-4cceb0dda6fd"
      },
      "source": [
        "dataset.describe().columns"
      ],
      "execution_count": 969,
      "outputs": [
        {
          "output_type": "execute_result",
          "data": {
            "text/plain": [
              "Index(['id', 'age', 'education', 'cigsPerDay', 'BPMeds', 'prevalentStroke',\n",
              "       'prevalentHyp', 'diabetes', 'totChol', 'sysBP', 'diaBP', 'BMI',\n",
              "       'heartRate', 'glucose', 'TenYearCHD'],\n",
              "      dtype='object')"
            ]
          },
          "metadata": {},
          "execution_count": 969
        }
      ]
    },
    {
      "cell_type": "code",
      "metadata": {
        "id": "bvSDoG59o4Lo"
      },
      "source": [
        "df_1 = dataset[dataset['TenYearCHD'] == 1]"
      ],
      "execution_count": 970,
      "outputs": []
    },
    {
      "cell_type": "code",
      "metadata": {
        "colab": {
          "base_uri": "https://localhost:8080/",
          "height": 407
        },
        "id": "ExfRh6XK-Ibc",
        "outputId": "d0693602-e6cd-46ce-d575-6e8d0510829e"
      },
      "source": [
        "# visualize the target variable\n",
        "g = sns.countplot(dataset['TenYearCHD'])\n",
        "g.set_xticklabels(['No Risk of CHD','Risk of CHD'])"
      ],
      "execution_count": 971,
      "outputs": [
        {
          "output_type": "execute_result",
          "data": {
            "text/plain": [
              "[Text(0, 0, 'No Risk of CHD'), Text(0, 0, 'Risk of CHD')]"
            ]
          },
          "metadata": {},
          "execution_count": 971
        },
        {
          "output_type": "display_data",
          "data": {
            "image/png": "[encoded data removed]",
            "text/plain": [
              "<Figure size 720x432 with 1 Axes>"
            ]
          },
          "metadata": {
            "needs_background": "light"
          }
        }
      ]
    },
    {
      "cell_type": "markdown",
      "metadata": {
        "id": "YFl_p-sGJCxv"
      },
      "source": [
        "As we can see from the above figure, data set is **imbalanced!** Using simpler metrics like accuracy score can be misleading. In a dataset with highly unbalanced classes, the classifier will always “predict” the most common class without performing any analysis of the features and it will have a high accuracy rate, obviously not the correct one."
      ]
    },
    {
      "cell_type": "markdown",
      "metadata": {
        "id": "j3r5v5IgJbM2"
      },
      "source": [
        "Let's see how our models peform with this imbalanced data and also after balancing the data"
      ]
    },
    {
      "cell_type": "markdown",
      "metadata": {
        "id": "AAyq82nBPD1a"
      },
      "source": [
        "# <b> Data Cleansing"
      ]
    },
    {
      "cell_type": "markdown",
      "metadata": {
        "id": "gol4-UlAVq-s"
      },
      "source": [
        "> ## Removing unnecessary Column"
      ]
    },
    {
      "cell_type": "markdown",
      "metadata": {
        "id": "TRLeoIfaWFLh"
      },
      "source": [
        "'id' & 'education' column will not help predicting coronary heart disease"
      ]
    },
    {
      "cell_type": "code",
      "metadata": {
        "id": "zQgH8zfEPbUC"
      },
      "source": [
        "dataset.drop(['id', 'education'], inplace=True, axis=1)"
      ],
      "execution_count": 972,
      "outputs": []
    },
    {
      "cell_type": "code",
      "metadata": {
        "colab": {
          "base_uri": "https://localhost:8080/"
        },
        "id": "bHcgcY9HXVL_",
        "outputId": "94e6d235-70d6-4e4a-ec26-d07c84a5322b"
      },
      "source": [
        "dataset.shape"
      ],
      "execution_count": 973,
      "outputs": [
        {
          "output_type": "execute_result",
          "data": {
            "text/plain": [
              "(3390, 15)"
            ]
          },
          "metadata": {},
          "execution_count": 973
        }
      ]
    },
    {
      "cell_type": "markdown",
      "metadata": {
        "id": "eW5vQgH40q86"
      },
      "source": [
        "> ## Handling Missing Data"
      ]
    },
    {
      "cell_type": "markdown",
      "metadata": {
        "id": "y6AYQSTOZoIe"
      },
      "source": [
        "\n",
        "From the entry totals above, many of the features are missing a significant amount of data. Explore these columns further to determine the best approach for each."
      ]
    },
    {
      "cell_type": "code",
      "metadata": {
        "colab": {
          "base_uri": "https://localhost:8080/"
        },
        "id": "pJ_n4vfTOS6p",
        "outputId": "2a7c6223-04a5-49bd-8aab-82564127c5ac"
      },
      "source": [
        "# Missing Value Count Function\n",
        "def show_missing():\n",
        "    missing = dataset.columns[dataset.isnull().any()].tolist()\n",
        "    return missing\n",
        "\n",
        "# Missing data counts and percentage\n",
        "print('Missing Data Count')\n",
        "print(dataset[show_missing()].isnull().sum().sort_values(ascending = False))\n",
        "print('--'*50)\n",
        "print('Missing Data Percentage')\n",
        "print(round(dataset[show_missing()].isnull().sum().sort_values(ascending = False)/len(dataset)*100,2))"
      ],
      "execution_count": 974,
      "outputs": [
        {
          "output_type": "stream",
          "name": "stdout",
          "text": [
            "Missing Data Count\n",
            "glucose       304\n",
            "BPMeds         44\n",
            "totChol        38\n",
            "cigsPerDay     22\n",
            "BMI            14\n",
            "heartRate       1\n",
            "dtype: int64\n",
            "----------------------------------------------------------------------------------------------------\n",
            "Missing Data Percentage\n",
            "glucose       8.97\n",
            "BPMeds        1.30\n",
            "totChol       1.12\n",
            "cigsPerDay    0.65\n",
            "BMI           0.41\n",
            "heartRate     0.03\n",
            "dtype: float64\n"
          ]
        }
      ]
    },
    {
      "cell_type": "code",
      "metadata": {
        "id": "oK56XV77ZnzY",
        "colab": {
          "base_uri": "https://localhost:8080/"
        },
        "outputId": "7167d7a0-f594-4194-96cf-c2ce6900b209"
      },
      "source": [
        "print(len(dataset[dataset['cigsPerDay'].isna()][['is_smoking','cigsPerDay']]))"
      ],
      "execution_count": 975,
      "outputs": [
        {
          "output_type": "stream",
          "name": "stdout",
          "text": [
            "22\n"
          ]
        }
      ]
    },
    {
      "cell_type": "markdown",
      "metadata": {
        "id": "5CGGniitDwee"
      },
      "source": [
        ">### Feature Glucose"
      ]
    },
    {
      "cell_type": "code",
      "metadata": {
        "id": "ljoaPe73azY1",
        "colab": {
          "base_uri": "https://localhost:8080/",
          "height": 0
        },
        "outputId": "00d070a9-bc99-428c-ed19-b2408250606f"
      },
      "source": [
        "sns.distplot(dataset['glucose'].dropna())"
      ],
      "execution_count": 976,
      "outputs": [
        {
          "output_type": "execute_result",
          "data": {
            "text/plain": [
              "<matplotlib.axes._subplots.AxesSubplot at 0x7f7a0d439090>"
            ]
          },
          "metadata": {},
          "execution_count": 976
        },
        {
          "output_type": "display_data",
          "data": {
            "image/png": "[encoded data removed]",
            "text/plain": [
              "<Figure size 720x432 with 1 Axes>"
            ]
          },
          "metadata": {
            "needs_background": "light"
          }
        }
      ]
    },
    {
      "cell_type": "markdown",
      "metadata": {
        "id": "ICDUs3pHZoIi"
      },
      "source": [
        "#### Positively Skewed - So we will impute it with Median"
      ]
    },
    {
      "cell_type": "code",
      "metadata": {
        "id": "L_DISh3mZoIi",
        "colab": {
          "base_uri": "https://localhost:8080/"
        },
        "outputId": "e8fd470b-8e80-4b0c-8975-f57d3bf901c8"
      },
      "source": [
        "dataset['glucose'] = dataset['glucose'].fillna(dataset['glucose'].median())\n",
        "print('Glucose value missing after filling with median:', dataset['glucose'].isnull().sum())"
      ],
      "execution_count": 977,
      "outputs": [
        {
          "output_type": "stream",
          "name": "stdout",
          "text": [
            "Glucose value missing after filling with median: 0\n"
          ]
        }
      ]
    },
    {
      "cell_type": "markdown",
      "metadata": {
        "id": "xJ_je-EaGJN0"
      },
      "source": [
        ">### Feature BPMeds, totChol, cigsPerDay, BMI, heartRate"
      ]
    },
    {
      "cell_type": "markdown",
      "metadata": {
        "id": "207T6yGdGv0E"
      },
      "source": [
        "As missing data is less than 2% so well drop the rows with missing value"
      ]
    },
    {
      "cell_type": "code",
      "metadata": {
        "id": "cpkYswcOc81u"
      },
      "source": [
        "dataset.dropna(axis=0, inplace=True)"
      ],
      "execution_count": 978,
      "outputs": []
    },
    {
      "cell_type": "code",
      "metadata": {
        "colab": {
          "base_uri": "https://localhost:8080/"
        },
        "id": "0RPuGfc8HSj8",
        "outputId": "173fa25c-6c18-4183-e1d5-5dccfe63cdb9"
      },
      "source": [
        "dataset.info()"
      ],
      "execution_count": 979,
      "outputs": [
        {
          "output_type": "stream",
          "name": "stdout",
          "text": [
            "<class 'pandas.core.frame.DataFrame'>\n",
            "Int64Index: 3272 entries, 1 to 3389\n",
            "Data columns (total 15 columns):\n",
            " #   Column           Non-Null Count  Dtype  \n",
            "---  ------           --------------  -----  \n",
            " 0   age              3272 non-null   int64  \n",
            " 1   sex              3272 non-null   object \n",
            " 2   is_smoking       3272 non-null   object \n",
            " 3   cigsPerDay       3272 non-null   float64\n",
            " 4   BPMeds           3272 non-null   float64\n",
            " 5   prevalentStroke  3272 non-null   int64  \n",
            " 6   prevalentHyp     3272 non-null   int64  \n",
            " 7   diabetes         3272 non-null   int64  \n",
            " 8   totChol          3272 non-null   float64\n",
            " 9   sysBP            3272 non-null   float64\n",
            " 10  diaBP            3272 non-null   float64\n",
            " 11  BMI              3272 non-null   float64\n",
            " 12  heartRate        3272 non-null   float64\n",
            " 13  glucose          3272 non-null   float64\n",
            " 14  TenYearCHD       3272 non-null   int64  \n",
            "dtypes: float64(8), int64(5), object(2)\n",
            "memory usage: 409.0+ KB\n"
          ]
        }
      ]
    },
    {
      "cell_type": "code",
      "metadata": {
        "id": "0Lj6q1SwHUyi",
        "colab": {
          "base_uri": "https://localhost:8080/"
        },
        "outputId": "1183040a-c253-42d7-b857-eec6c356c541"
      },
      "source": [
        "dataset.shape"
      ],
      "execution_count": 980,
      "outputs": [
        {
          "output_type": "execute_result",
          "data": {
            "text/plain": [
              "(3272, 15)"
            ]
          },
          "metadata": {},
          "execution_count": 980
        }
      ]
    },
    {
      "cell_type": "code",
      "metadata": {
        "colab": {
          "base_uri": "https://localhost:8080/",
          "height": 0
        },
        "id": "0XPmnZ4lyHuf",
        "outputId": "d32069d6-1699-4328-8dfa-28734bc2130f"
      },
      "source": [
        "dataset.head()"
      ],
      "execution_count": 981,
      "outputs": [
        {
          "output_type": "execute_result",
          "data": {
            "text/html": [
              "<div>\n",
              "<style scoped>\n",
              "    .dataframe tbody tr th:only-of-type {\n",
              "        vertical-align: middle;\n",
              "    }\n",
              "\n",
              "    .dataframe tbody tr th {\n",
              "        vertical-align: top;\n",
              "    }\n",
              "\n",
              "    .dataframe thead th {\n",
              "        text-align: right;\n",
              "    }\n",
              "</style>\n",
              "<table border=\"1\" class=\"dataframe\">\n",
              "  <thead>\n",
              "    <tr style=\"text-align: right;\">\n",
              "      <th></th>\n",
              "      <th>age</th>\n",
              "      <th>sex</th>\n",
              "      <th>is_smoking</th>\n",
              "      <th>cigsPerDay</th>\n",
              "      <th>BPMeds</th>\n",
              "      <th>prevalentStroke</th>\n",
              "      <th>prevalentHyp</th>\n",
              "      <th>diabetes</th>\n",
              "      <th>totChol</th>\n",
              "      <th>sysBP</th>\n",
              "      <th>diaBP</th>\n",
              "      <th>BMI</th>\n",
              "      <th>heartRate</th>\n",
              "      <th>glucose</th>\n",
              "      <th>TenYearCHD</th>\n",
              "    </tr>\n",
              "  </thead>\n",
              "  <tbody>\n",
              "    <tr>\n",
              "      <th>1</th>\n",
              "      <td>36</td>\n",
              "      <td>M</td>\n",
              "      <td>NO</td>\n",
              "      <td>0.0</td>\n",
              "      <td>0.0</td>\n",
              "      <td>0</td>\n",
              "      <td>1</td>\n",
              "      <td>0</td>\n",
              "      <td>212.0</td>\n",
              "      <td>168.0</td>\n",
              "      <td>98.0</td>\n",
              "      <td>29.77</td>\n",
              "      <td>72.0</td>\n",
              "      <td>75.0</td>\n",
              "      <td>0</td>\n",
              "    </tr>\n",
              "    <tr>\n",
              "      <th>2</th>\n",
              "      <td>46</td>\n",
              "      <td>F</td>\n",
              "      <td>YES</td>\n",
              "      <td>10.0</td>\n",
              "      <td>0.0</td>\n",
              "      <td>0</td>\n",
              "      <td>0</td>\n",
              "      <td>0</td>\n",
              "      <td>250.0</td>\n",
              "      <td>116.0</td>\n",
              "      <td>71.0</td>\n",
              "      <td>20.35</td>\n",
              "      <td>88.0</td>\n",
              "      <td>94.0</td>\n",
              "      <td>0</td>\n",
              "    </tr>\n",
              "    <tr>\n",
              "      <th>3</th>\n",
              "      <td>50</td>\n",
              "      <td>M</td>\n",
              "      <td>YES</td>\n",
              "      <td>20.0</td>\n",
              "      <td>0.0</td>\n",
              "      <td>0</td>\n",
              "      <td>1</td>\n",
              "      <td>0</td>\n",
              "      <td>233.0</td>\n",
              "      <td>158.0</td>\n",
              "      <td>88.0</td>\n",
              "      <td>28.26</td>\n",
              "      <td>68.0</td>\n",
              "      <td>94.0</td>\n",
              "      <td>1</td>\n",
              "    </tr>\n",
              "    <tr>\n",
              "      <th>4</th>\n",
              "      <td>64</td>\n",
              "      <td>F</td>\n",
              "      <td>YES</td>\n",
              "      <td>30.0</td>\n",
              "      <td>0.0</td>\n",
              "      <td>0</td>\n",
              "      <td>0</td>\n",
              "      <td>0</td>\n",
              "      <td>241.0</td>\n",
              "      <td>136.5</td>\n",
              "      <td>85.0</td>\n",
              "      <td>26.42</td>\n",
              "      <td>70.0</td>\n",
              "      <td>77.0</td>\n",
              "      <td>0</td>\n",
              "    </tr>\n",
              "    <tr>\n",
              "      <th>5</th>\n",
              "      <td>61</td>\n",
              "      <td>F</td>\n",
              "      <td>NO</td>\n",
              "      <td>0.0</td>\n",
              "      <td>0.0</td>\n",
              "      <td>0</td>\n",
              "      <td>1</td>\n",
              "      <td>0</td>\n",
              "      <td>272.0</td>\n",
              "      <td>182.0</td>\n",
              "      <td>121.0</td>\n",
              "      <td>32.80</td>\n",
              "      <td>85.0</td>\n",
              "      <td>65.0</td>\n",
              "      <td>1</td>\n",
              "    </tr>\n",
              "  </tbody>\n",
              "</table>\n",
              "</div>"
            ],
            "text/plain": [
              "   age sex is_smoking  cigsPerDay  ...    BMI  heartRate  glucose  TenYearCHD\n",
              "1   36   M         NO         0.0  ...  29.77       72.0     75.0           0\n",
              "2   46   F        YES        10.0  ...  20.35       88.0     94.0           0\n",
              "3   50   M        YES        20.0  ...  28.26       68.0     94.0           1\n",
              "4   64   F        YES        30.0  ...  26.42       70.0     77.0           0\n",
              "5   61   F         NO         0.0  ...  32.80       85.0     65.0           1\n",
              "\n",
              "[5 rows x 15 columns]"
            ]
          },
          "metadata": {},
          "execution_count": 981
        }
      ]
    },
    {
      "cell_type": "markdown",
      "metadata": {
        "id": "Nzd5Al_7ZoIp"
      },
      "source": [
        ">## Handling Outliers"
      ]
    },
    {
      "cell_type": "code",
      "metadata": {
        "id": "aLR82XyIZoIp",
        "colab": {
          "base_uri": "https://localhost:8080/"
        },
        "outputId": "4a10ccad-5603-4467-9397-b202d635e467"
      },
      "source": [
        "# find categorical variables\n",
        "categorical = [var for var in dataset.columns if dataset[var].dtype=='O']\n",
        "print('There are {} categorical variables'.format(len(categorical)))"
      ],
      "execution_count": 982,
      "outputs": [
        {
          "output_type": "stream",
          "name": "stdout",
          "text": [
            "There are 2 categorical variables\n"
          ]
        }
      ]
    },
    {
      "cell_type": "code",
      "metadata": {
        "id": "NyRGPTkPZoIp",
        "colab": {
          "base_uri": "https://localhost:8080/"
        },
        "outputId": "c6ad39a2-6106-4a96-cade-577fdd8e05a1"
      },
      "source": [
        "# find Numerical variables\n",
        "numerical = [var for var in dataset.columns if dataset[var].dtype!='O']\n",
        "print('There are {} numerical variables'.format(len(numerical)))"
      ],
      "execution_count": 983,
      "outputs": [
        {
          "output_type": "stream",
          "name": "stdout",
          "text": [
            "There are 13 numerical variables\n"
          ]
        }
      ]
    },
    {
      "cell_type": "code",
      "metadata": {
        "id": "bxQRAAyzZoIp",
        "colab": {
          "base_uri": "https://localhost:8080/"
        },
        "outputId": "397537f5-706c-4a52-ff1b-2e8bb87410d0"
      },
      "source": [
        "discrete = []\n",
        "for var in numerical:\n",
        "    if len(dataset[var].unique())<20:\n",
        "        print(var, ' values: ', dataset[var].unique())\n",
        "        discrete.append(var)\n",
        "        \n",
        "print('There are {} discrete variables'.format(len(discrete)))"
      ],
      "execution_count": 984,
      "outputs": [
        {
          "output_type": "stream",
          "name": "stdout",
          "text": [
            "BPMeds  values:  [0. 1.]\n",
            "prevalentStroke  values:  [0 1]\n",
            "prevalentHyp  values:  [1 0]\n",
            "diabetes  values:  [0 1]\n",
            "TenYearCHD  values:  [0 1]\n",
            "There are 5 discrete variables\n"
          ]
        }
      ]
    },
    {
      "cell_type": "code",
      "metadata": {
        "id": "aPQM665_ZoIq"
      },
      "source": [
        "continuous = [var for var in numerical if var not in discrete and var not in ['TenYearCHD']]"
      ],
      "execution_count": 985,
      "outputs": []
    },
    {
      "cell_type": "code",
      "metadata": {
        "id": "zfboes3aZoIq",
        "colab": {
          "base_uri": "https://localhost:8080/",
          "height": 0
        },
        "outputId": "a7542252-39ce-467a-e429-db339d365e8d"
      },
      "source": [
        "for var in continuous:\n",
        "    plt.figure(figsize=(15,6))\n",
        "    plt.subplot(1, 2, 1)\n",
        "    fig = sns.boxplot(y=dataset[var])\n",
        "    fig.set_title('')\n",
        "    fig.set_ylabel(var)\n",
        "    \n",
        "    plt.subplot(1, 2, 2)\n",
        "    fig = sns.distplot(dataset[var].dropna())\n",
        "    fig.set_ylabel('Count')\n",
        "    fig.set_xlabel(var)\n",
        "\n",
        "    plt.show()"
      ],
      "execution_count": 986,
      "outputs": [
        {
          "output_type": "display_data",
          "data": {
            "image/png": "[encoded data removed]",
            "text/plain": [
              "<Figure size 1080x432 with 2 Axes>"
            ]
          },
          "metadata": {
            "needs_background": "light"
          }
        },
        {
          "output_type": "display_data",
          "data": {
            "image/png": "[encoded data removed]",
            "text/plain": [
              "<Figure size 1080x432 with 2 Axes>"
            ]
          },
          "metadata": {
            "needs_background": "light"
          }
        },
        {
          "output_type": "display_data",
          "data": {
            "image/png": "[encoded data removed]",
            "text/plain": [
              "<Figure size 1080x432 with 2 Axes>"
            ]
          },
          "metadata": {
            "needs_background": "light"
          }
        },
        {
          "output_type": "display_data",
          "data": {
            "image/png": "[encoded data removed]",
            "text/plain": [
              "<Figure size 1080x432 with 2 Axes>"
            ]
          },
          "metadata": {
            "needs_background": "light"
          }
        },
        {
          "output_type": "display_data",
          "data": {
            "image/png": "[encoded data removed]",
            "text/plain": [
              "<Figure size 1080x432 with 2 Axes>"
            ]
          },
          "metadata": {
            "needs_background": "light"
          }
        },
        {
          "output_type": "display_data",
          "data": {
            "image/png": "[encoded data removed]",
            "text/plain": [
              "<Figure size 1080x432 with 2 Axes>"
            ]
          },
          "metadata": {
            "needs_background": "light"
          }
        },
        {
          "output_type": "display_data",
          "data": {
            "image/png": "[encoded data removed]",
            "text/plain": [
              "<Figure size 1080x432 with 2 Axes>"
            ]
          },
          "metadata": {
            "needs_background": "light"
          }
        },
        {
          "output_type": "display_data",
          "data": {
            "image/png": "[encoded data removed]",
            "text/plain": [
              "<Figure size 1080x432 with 2 Axes>"
            ]
          },
          "metadata": {
            "needs_background": "light"
          }
        }
      ]
    },
    {
      "cell_type": "markdown",
      "metadata": {
        "id": "ix2qb1bFq-eE"
      },
      "source": [
        "There are outlier but these outliers will help us to predict CHD"
      ]
    },
    {
      "cell_type": "code",
      "metadata": {
        "colab": {
          "base_uri": "https://localhost:8080/"
        },
        "id": "d6HFFkNCrb35",
        "outputId": "0126b446-2997-46dd-b64c-c92d2485eab2"
      },
      "source": [
        "dataset.shape"
      ],
      "execution_count": 987,
      "outputs": [
        {
          "output_type": "execute_result",
          "data": {
            "text/plain": [
              "(3272, 15)"
            ]
          },
          "metadata": {},
          "execution_count": 987
        }
      ]
    },
    {
      "cell_type": "markdown",
      "metadata": {
        "id": "fvUfDq9IZoIt"
      },
      "source": [
        ">## Feature Encoding"
      ]
    },
    {
      "cell_type": "code",
      "metadata": {
        "id": "EddrbTFZuB5G"
      },
      "source": [
        "# Encode Categorical Variables\n",
        "dataset['is_smoking'] = dataset['is_smoking'].map({'NO':0,'YES':1})"
      ],
      "execution_count": 988,
      "outputs": []
    },
    {
      "cell_type": "code",
      "metadata": {
        "id": "NJGkGgoP30uh"
      },
      "source": [
        "# One hot encoding\n",
        "dataset = pd.get_dummies(dataset, columns=['sex'])"
      ],
      "execution_count": 989,
      "outputs": []
    },
    {
      "cell_type": "code",
      "metadata": {
        "colab": {
          "base_uri": "https://localhost:8080/",
          "height": 0
        },
        "id": "XKInHQ-v4Fvk",
        "outputId": "4ca2498b-21f0-42e0-bf91-95c58c0d7fea"
      },
      "source": [
        "dataset"
      ],
      "execution_count": 990,
      "outputs": [
        {
          "output_type": "execute_result",
          "data": {
            "text/html": [
              "<div>\n",
              "<style scoped>\n",
              "    .dataframe tbody tr th:only-of-type {\n",
              "        vertical-align: middle;\n",
              "    }\n",
              "\n",
              "    .dataframe tbody tr th {\n",
              "        vertical-align: top;\n",
              "    }\n",
              "\n",
              "    .dataframe thead th {\n",
              "        text-align: right;\n",
              "    }\n",
              "</style>\n",
              "<table border=\"1\" class=\"dataframe\">\n",
              "  <thead>\n",
              "    <tr style=\"text-align: right;\">\n",
              "      <th></th>\n",
              "      <th>age</th>\n",
              "      <th>is_smoking</th>\n",
              "      <th>cigsPerDay</th>\n",
              "      <th>BPMeds</th>\n",
              "      <th>prevalentStroke</th>\n",
              "      <th>prevalentHyp</th>\n",
              "      <th>diabetes</th>\n",
              "      <th>totChol</th>\n",
              "      <th>sysBP</th>\n",
              "      <th>diaBP</th>\n",
              "      <th>BMI</th>\n",
              "      <th>heartRate</th>\n",
              "      <th>glucose</th>\n",
              "      <th>TenYearCHD</th>\n",
              "      <th>sex_F</th>\n",
              "      <th>sex_M</th>\n",
              "    </tr>\n",
              "  </thead>\n",
              "  <tbody>\n",
              "    <tr>\n",
              "      <th>1</th>\n",
              "      <td>36</td>\n",
              "      <td>0</td>\n",
              "      <td>0.0</td>\n",
              "      <td>0.0</td>\n",
              "      <td>0</td>\n",
              "      <td>1</td>\n",
              "      <td>0</td>\n",
              "      <td>212.0</td>\n",
              "      <td>168.0</td>\n",
              "      <td>98.0</td>\n",
              "      <td>29.77</td>\n",
              "      <td>72.0</td>\n",
              "      <td>75.0</td>\n",
              "      <td>0</td>\n",
              "      <td>0</td>\n",
              "      <td>1</td>\n",
              "    </tr>\n",
              "    <tr>\n",
              "      <th>2</th>\n",
              "      <td>46</td>\n",
              "      <td>1</td>\n",
              "      <td>10.0</td>\n",
              "      <td>0.0</td>\n",
              "      <td>0</td>\n",
              "      <td>0</td>\n",
              "      <td>0</td>\n",
              "      <td>250.0</td>\n",
              "      <td>116.0</td>\n",
              "      <td>71.0</td>\n",
              "      <td>20.35</td>\n",
              "      <td>88.0</td>\n",
              "      <td>94.0</td>\n",
              "      <td>0</td>\n",
              "      <td>1</td>\n",
              "      <td>0</td>\n",
              "    </tr>\n",
              "    <tr>\n",
              "      <th>3</th>\n",
              "      <td>50</td>\n",
              "      <td>1</td>\n",
              "      <td>20.0</td>\n",
              "      <td>0.0</td>\n",
              "      <td>0</td>\n",
              "      <td>1</td>\n",
              "      <td>0</td>\n",
              "      <td>233.0</td>\n",
              "      <td>158.0</td>\n",
              "      <td>88.0</td>\n",
              "      <td>28.26</td>\n",
              "      <td>68.0</td>\n",
              "      <td>94.0</td>\n",
              "      <td>1</td>\n",
              "      <td>0</td>\n",
              "      <td>1</td>\n",
              "    </tr>\n",
              "    <tr>\n",
              "      <th>4</th>\n",
              "      <td>64</td>\n",
              "      <td>1</td>\n",
              "      <td>30.0</td>\n",
              "      <td>0.0</td>\n",
              "      <td>0</td>\n",
              "      <td>0</td>\n",
              "      <td>0</td>\n",
              "      <td>241.0</td>\n",
              "      <td>136.5</td>\n",
              "      <td>85.0</td>\n",
              "      <td>26.42</td>\n",
              "      <td>70.0</td>\n",
              "      <td>77.0</td>\n",
              "      <td>0</td>\n",
              "      <td>1</td>\n",
              "      <td>0</td>\n",
              "    </tr>\n",
              "    <tr>\n",
              "      <th>5</th>\n",
              "      <td>61</td>\n",
              "      <td>0</td>\n",
              "      <td>0.0</td>\n",
              "      <td>0.0</td>\n",
              "      <td>0</td>\n",
              "      <td>1</td>\n",
              "      <td>0</td>\n",
              "      <td>272.0</td>\n",
              "      <td>182.0</td>\n",
              "      <td>121.0</td>\n",
              "      <td>32.80</td>\n",
              "      <td>85.0</td>\n",
              "      <td>65.0</td>\n",
              "      <td>1</td>\n",
              "      <td>1</td>\n",
              "      <td>0</td>\n",
              "    </tr>\n",
              "    <tr>\n",
              "      <th>...</th>\n",
              "      <td>...</td>\n",
              "      <td>...</td>\n",
              "      <td>...</td>\n",
              "      <td>...</td>\n",
              "      <td>...</td>\n",
              "      <td>...</td>\n",
              "      <td>...</td>\n",
              "      <td>...</td>\n",
              "      <td>...</td>\n",
              "      <td>...</td>\n",
              "      <td>...</td>\n",
              "      <td>...</td>\n",
              "      <td>...</td>\n",
              "      <td>...</td>\n",
              "      <td>...</td>\n",
              "      <td>...</td>\n",
              "    </tr>\n",
              "    <tr>\n",
              "      <th>3384</th>\n",
              "      <td>61</td>\n",
              "      <td>0</td>\n",
              "      <td>0.0</td>\n",
              "      <td>0.0</td>\n",
              "      <td>0</td>\n",
              "      <td>1</td>\n",
              "      <td>0</td>\n",
              "      <td>217.0</td>\n",
              "      <td>182.0</td>\n",
              "      <td>86.0</td>\n",
              "      <td>26.98</td>\n",
              "      <td>105.0</td>\n",
              "      <td>113.0</td>\n",
              "      <td>0</td>\n",
              "      <td>1</td>\n",
              "      <td>0</td>\n",
              "    </tr>\n",
              "    <tr>\n",
              "      <th>3385</th>\n",
              "      <td>60</td>\n",
              "      <td>0</td>\n",
              "      <td>0.0</td>\n",
              "      <td>0.0</td>\n",
              "      <td>0</td>\n",
              "      <td>0</td>\n",
              "      <td>0</td>\n",
              "      <td>261.0</td>\n",
              "      <td>123.5</td>\n",
              "      <td>79.0</td>\n",
              "      <td>29.28</td>\n",
              "      <td>70.0</td>\n",
              "      <td>103.0</td>\n",
              "      <td>0</td>\n",
              "      <td>1</td>\n",
              "      <td>0</td>\n",
              "    </tr>\n",
              "    <tr>\n",
              "      <th>3386</th>\n",
              "      <td>46</td>\n",
              "      <td>0</td>\n",
              "      <td>0.0</td>\n",
              "      <td>0.0</td>\n",
              "      <td>0</td>\n",
              "      <td>0</td>\n",
              "      <td>0</td>\n",
              "      <td>199.0</td>\n",
              "      <td>102.0</td>\n",
              "      <td>56.0</td>\n",
              "      <td>21.96</td>\n",
              "      <td>80.0</td>\n",
              "      <td>84.0</td>\n",
              "      <td>0</td>\n",
              "      <td>1</td>\n",
              "      <td>0</td>\n",
              "    </tr>\n",
              "    <tr>\n",
              "      <th>3387</th>\n",
              "      <td>44</td>\n",
              "      <td>1</td>\n",
              "      <td>3.0</td>\n",
              "      <td>0.0</td>\n",
              "      <td>0</td>\n",
              "      <td>1</td>\n",
              "      <td>0</td>\n",
              "      <td>352.0</td>\n",
              "      <td>164.0</td>\n",
              "      <td>119.0</td>\n",
              "      <td>28.92</td>\n",
              "      <td>73.0</td>\n",
              "      <td>72.0</td>\n",
              "      <td>1</td>\n",
              "      <td>0</td>\n",
              "      <td>1</td>\n",
              "    </tr>\n",
              "    <tr>\n",
              "      <th>3389</th>\n",
              "      <td>54</td>\n",
              "      <td>0</td>\n",
              "      <td>0.0</td>\n",
              "      <td>0.0</td>\n",
              "      <td>0</td>\n",
              "      <td>0</td>\n",
              "      <td>0</td>\n",
              "      <td>288.0</td>\n",
              "      <td>124.0</td>\n",
              "      <td>77.0</td>\n",
              "      <td>29.88</td>\n",
              "      <td>79.0</td>\n",
              "      <td>92.0</td>\n",
              "      <td>0</td>\n",
              "      <td>1</td>\n",
              "      <td>0</td>\n",
              "    </tr>\n",
              "  </tbody>\n",
              "</table>\n",
              "<p>3272 rows × 16 columns</p>\n",
              "</div>"
            ],
            "text/plain": [
              "      age  is_smoking  cigsPerDay  BPMeds  ...  glucose  TenYearCHD  sex_F  sex_M\n",
              "1      36           0         0.0     0.0  ...     75.0           0      0      1\n",
              "2      46           1        10.0     0.0  ...     94.0           0      1      0\n",
              "3      50           1        20.0     0.0  ...     94.0           1      0      1\n",
              "4      64           1        30.0     0.0  ...     77.0           0      1      0\n",
              "5      61           0         0.0     0.0  ...     65.0           1      1      0\n",
              "...   ...         ...         ...     ...  ...      ...         ...    ...    ...\n",
              "3384   61           0         0.0     0.0  ...    113.0           0      1      0\n",
              "3385   60           0         0.0     0.0  ...    103.0           0      1      0\n",
              "3386   46           0         0.0     0.0  ...     84.0           0      1      0\n",
              "3387   44           1         3.0     0.0  ...     72.0           1      0      1\n",
              "3389   54           0         0.0     0.0  ...     92.0           0      1      0\n",
              "\n",
              "[3272 rows x 16 columns]"
            ]
          },
          "metadata": {},
          "execution_count": 990
        }
      ]
    },
    {
      "cell_type": "code",
      "metadata": {
        "colab": {
          "base_uri": "https://localhost:8080/"
        },
        "id": "N44bmR-mvHZ2",
        "outputId": "6e9dd45e-32f9-478f-db5a-24e3dbda37fb"
      },
      "source": [
        "dataset.shape"
      ],
      "execution_count": 991,
      "outputs": [
        {
          "output_type": "execute_result",
          "data": {
            "text/plain": [
              "(3272, 16)"
            ]
          },
          "metadata": {},
          "execution_count": 991
        }
      ]
    },
    {
      "cell_type": "code",
      "metadata": {
        "colab": {
          "base_uri": "https://localhost:8080/"
        },
        "id": "-ARqvjChvVD9",
        "outputId": "63712e84-4649-466b-be6b-f7b2066b32d8"
      },
      "source": [
        "dataset.info()"
      ],
      "execution_count": 992,
      "outputs": [
        {
          "output_type": "stream",
          "name": "stdout",
          "text": [
            "<class 'pandas.core.frame.DataFrame'>\n",
            "Int64Index: 3272 entries, 1 to 3389\n",
            "Data columns (total 16 columns):\n",
            " #   Column           Non-Null Count  Dtype  \n",
            "---  ------           --------------  -----  \n",
            " 0   age              3272 non-null   int64  \n",
            " 1   is_smoking       3272 non-null   int64  \n",
            " 2   cigsPerDay       3272 non-null   float64\n",
            " 3   BPMeds           3272 non-null   float64\n",
            " 4   prevalentStroke  3272 non-null   int64  \n",
            " 5   prevalentHyp     3272 non-null   int64  \n",
            " 6   diabetes         3272 non-null   int64  \n",
            " 7   totChol          3272 non-null   float64\n",
            " 8   sysBP            3272 non-null   float64\n",
            " 9   diaBP            3272 non-null   float64\n",
            " 10  BMI              3272 non-null   float64\n",
            " 11  heartRate        3272 non-null   float64\n",
            " 12  glucose          3272 non-null   float64\n",
            " 13  TenYearCHD       3272 non-null   int64  \n",
            " 14  sex_F            3272 non-null   uint8  \n",
            " 15  sex_M            3272 non-null   uint8  \n",
            "dtypes: float64(8), int64(6), uint8(2)\n",
            "memory usage: 389.8 KB\n"
          ]
        }
      ]
    },
    {
      "cell_type": "code",
      "metadata": {
        "colab": {
          "base_uri": "https://localhost:8080/"
        },
        "id": "xLE2Kf4N5ynh",
        "outputId": "356edb90-fcf6-482c-c8cb-8fabe3a69695"
      },
      "source": [
        "dataset.columns.values"
      ],
      "execution_count": 993,
      "outputs": [
        {
          "output_type": "execute_result",
          "data": {
            "text/plain": [
              "array(['age', 'is_smoking', 'cigsPerDay', 'BPMeds', 'prevalentStroke',\n",
              "       'prevalentHyp', 'diabetes', 'totChol', 'sysBP', 'diaBP', 'BMI',\n",
              "       'heartRate', 'glucose', 'TenYearCHD', 'sex_F', 'sex_M'],\n",
              "      dtype=object)"
            ]
          },
          "metadata": {},
          "execution_count": 993
        }
      ]
    },
    {
      "cell_type": "code",
      "metadata": {
        "id": "P8BZUBSL5dio"
      },
      "source": [
        "# Move the Dependent Variable in the last place\n",
        "dataset = dataset[['age', 'is_smoking', 'cigsPerDay', 'BPMeds', 'prevalentStroke',\n",
        "       'prevalentHyp', 'diabetes', 'totChol', 'sysBP', 'diaBP', 'BMI',\n",
        "       'heartRate', 'glucose', 'sex_F', 'sex_M','TenYearCHD']]"
      ],
      "execution_count": 994,
      "outputs": []
    },
    {
      "cell_type": "code",
      "metadata": {
        "id": "xeQLqNdB57fQ",
        "colab": {
          "base_uri": "https://localhost:8080/",
          "height": 0
        },
        "outputId": "22b38ff4-691c-4324-c669-eb172a226d17"
      },
      "source": [
        "dataset.head()"
      ],
      "execution_count": 995,
      "outputs": [
        {
          "output_type": "execute_result",
          "data": {
            "text/html": [
              "<div>\n",
              "<style scoped>\n",
              "    .dataframe tbody tr th:only-of-type {\n",
              "        vertical-align: middle;\n",
              "    }\n",
              "\n",
              "    .dataframe tbody tr th {\n",
              "        vertical-align: top;\n",
              "    }\n",
              "\n",
              "    .dataframe thead th {\n",
              "        text-align: right;\n",
              "    }\n",
              "</style>\n",
              "<table border=\"1\" class=\"dataframe\">\n",
              "  <thead>\n",
              "    <tr style=\"text-align: right;\">\n",
              "      <th></th>\n",
              "      <th>age</th>\n",
              "      <th>is_smoking</th>\n",
              "      <th>cigsPerDay</th>\n",
              "      <th>BPMeds</th>\n",
              "      <th>prevalentStroke</th>\n",
              "      <th>prevalentHyp</th>\n",
              "      <th>diabetes</th>\n",
              "      <th>totChol</th>\n",
              "      <th>sysBP</th>\n",
              "      <th>diaBP</th>\n",
              "      <th>BMI</th>\n",
              "      <th>heartRate</th>\n",
              "      <th>glucose</th>\n",
              "      <th>sex_F</th>\n",
              "      <th>sex_M</th>\n",
              "      <th>TenYearCHD</th>\n",
              "    </tr>\n",
              "  </thead>\n",
              "  <tbody>\n",
              "    <tr>\n",
              "      <th>1</th>\n",
              "      <td>36</td>\n",
              "      <td>0</td>\n",
              "      <td>0.0</td>\n",
              "      <td>0.0</td>\n",
              "      <td>0</td>\n",
              "      <td>1</td>\n",
              "      <td>0</td>\n",
              "      <td>212.0</td>\n",
              "      <td>168.0</td>\n",
              "      <td>98.0</td>\n",
              "      <td>29.77</td>\n",
              "      <td>72.0</td>\n",
              "      <td>75.0</td>\n",
              "      <td>0</td>\n",
              "      <td>1</td>\n",
              "      <td>0</td>\n",
              "    </tr>\n",
              "    <tr>\n",
              "      <th>2</th>\n",
              "      <td>46</td>\n",
              "      <td>1</td>\n",
              "      <td>10.0</td>\n",
              "      <td>0.0</td>\n",
              "      <td>0</td>\n",
              "      <td>0</td>\n",
              "      <td>0</td>\n",
              "      <td>250.0</td>\n",
              "      <td>116.0</td>\n",
              "      <td>71.0</td>\n",
              "      <td>20.35</td>\n",
              "      <td>88.0</td>\n",
              "      <td>94.0</td>\n",
              "      <td>1</td>\n",
              "      <td>0</td>\n",
              "      <td>0</td>\n",
              "    </tr>\n",
              "    <tr>\n",
              "      <th>3</th>\n",
              "      <td>50</td>\n",
              "      <td>1</td>\n",
              "      <td>20.0</td>\n",
              "      <td>0.0</td>\n",
              "      <td>0</td>\n",
              "      <td>1</td>\n",
              "      <td>0</td>\n",
              "      <td>233.0</td>\n",
              "      <td>158.0</td>\n",
              "      <td>88.0</td>\n",
              "      <td>28.26</td>\n",
              "      <td>68.0</td>\n",
              "      <td>94.0</td>\n",
              "      <td>0</td>\n",
              "      <td>1</td>\n",
              "      <td>1</td>\n",
              "    </tr>\n",
              "    <tr>\n",
              "      <th>4</th>\n",
              "      <td>64</td>\n",
              "      <td>1</td>\n",
              "      <td>30.0</td>\n",
              "      <td>0.0</td>\n",
              "      <td>0</td>\n",
              "      <td>0</td>\n",
              "      <td>0</td>\n",
              "      <td>241.0</td>\n",
              "      <td>136.5</td>\n",
              "      <td>85.0</td>\n",
              "      <td>26.42</td>\n",
              "      <td>70.0</td>\n",
              "      <td>77.0</td>\n",
              "      <td>1</td>\n",
              "      <td>0</td>\n",
              "      <td>0</td>\n",
              "    </tr>\n",
              "    <tr>\n",
              "      <th>5</th>\n",
              "      <td>61</td>\n",
              "      <td>0</td>\n",
              "      <td>0.0</td>\n",
              "      <td>0.0</td>\n",
              "      <td>0</td>\n",
              "      <td>1</td>\n",
              "      <td>0</td>\n",
              "      <td>272.0</td>\n",
              "      <td>182.0</td>\n",
              "      <td>121.0</td>\n",
              "      <td>32.80</td>\n",
              "      <td>85.0</td>\n",
              "      <td>65.0</td>\n",
              "      <td>1</td>\n",
              "      <td>0</td>\n",
              "      <td>1</td>\n",
              "    </tr>\n",
              "  </tbody>\n",
              "</table>\n",
              "</div>"
            ],
            "text/plain": [
              "   age  is_smoking  cigsPerDay  BPMeds  ...  glucose  sex_F  sex_M  TenYearCHD\n",
              "1   36           0         0.0     0.0  ...     75.0      0      1           0\n",
              "2   46           1        10.0     0.0  ...     94.0      1      0           0\n",
              "3   50           1        20.0     0.0  ...     94.0      0      1           1\n",
              "4   64           1        30.0     0.0  ...     77.0      1      0           0\n",
              "5   61           0         0.0     0.0  ...     65.0      1      0           1\n",
              "\n",
              "[5 rows x 16 columns]"
            ]
          },
          "metadata": {},
          "execution_count": 995
        }
      ]
    },
    {
      "cell_type": "code",
      "metadata": {
        "id": "yfhncJT159Km"
      },
      "source": [
        ""
      ],
      "execution_count": 995,
      "outputs": []
    },
    {
      "cell_type": "markdown",
      "metadata": {
        "id": "eshUOjpbAG56"
      },
      "source": [
        "# <b> Creating Independent and Dependent variables"
      ]
    },
    {
      "cell_type": "code",
      "metadata": {
        "id": "M52QDmyzhh9s"
      },
      "source": [
        "X = dataset.iloc[:, :-1]\n",
        "y = dataset.iloc[:, -1]"
      ],
      "execution_count": 996,
      "outputs": []
    },
    {
      "cell_type": "markdown",
      "metadata": {
        "id": "YvxIPVyMhmKp"
      },
      "source": [
        "# <b>Splitting the dataset into the Training set and Test set"
      ]
    },
    {
      "cell_type": "code",
      "metadata": {
        "id": "AVzJWAXIhxoC"
      },
      "source": [
        "from sklearn.model_selection import train_test_split\n",
        "X_train, X_test, y_train, y_test = train_test_split(X, y, test_size = 0.2, random_state = 0)"
      ],
      "execution_count": 997,
      "outputs": []
    },
    {
      "cell_type": "code",
      "metadata": {
        "colab": {
          "base_uri": "https://localhost:8080/"
        },
        "id": "lz6IGBCpMyJP",
        "outputId": "71eb5cb0-1dea-4e72-be4b-90bdda7375df"
      },
      "source": [
        "print(\"Distribution of classes of dependent variable in train :\")\n",
        "print(y_train.value_counts())\n",
        "\n",
        "print(\"\\n Distribution of classes of dependent variable in test :\")\n",
        "print(y_test.value_counts())"
      ],
      "execution_count": 998,
      "outputs": [
        {
          "output_type": "stream",
          "name": "stdout",
          "text": [
            "Distribution of classes of dependent variable in train :\n",
            "0    2212\n",
            "1     405\n",
            "Name: TenYearCHD, dtype: int64\n",
            "\n",
            " Distribution of classes of dependent variable in test :\n",
            "0    572\n",
            "1     83\n",
            "Name: TenYearCHD, dtype: int64\n"
          ]
        }
      ]
    },
    {
      "cell_type": "markdown",
      "metadata": {
        "id": "kW3c7UYih0hT"
      },
      "source": [
        "# <b>Feature Scaling"
      ]
    },
    {
      "cell_type": "code",
      "metadata": {
        "id": "9fQlDPKCh8sc"
      },
      "source": [
        "from sklearn.preprocessing import StandardScaler\n",
        "sc = StandardScaler()\n",
        "X_train = sc.fit_transform(X_train)\n",
        "X_test = sc.transform(X_test)"
      ],
      "execution_count": 999,
      "outputs": []
    },
    {
      "cell_type": "markdown",
      "metadata": {
        "id": "pTjfAcx8Kt9t"
      },
      "source": [
        "# <b> Balancing the data"
      ]
    },
    {
      "cell_type": "markdown",
      "metadata": {
        "id": "0zywdohJ8OGJ"
      },
      "source": [
        "Let’s implement this with the credit card fraud detection example.\n",
        "\n",
        "We will start by separating the class that will be 0 and class 1."
      ]
    },
    {
      "cell_type": "code",
      "metadata": {
        "colab": {
          "base_uri": "https://localhost:8080/"
        },
        "id": "-D_aOBCJ8NwF",
        "outputId": "a6c21e12-21f8-4e35-b862-40ac7dd12670"
      },
      "source": [
        "# Class count\n",
        "class_count_0, class_count_1 = dataset['TenYearCHD'].value_counts()\n",
        "\n",
        "# Separate class\n",
        "class_0 = dataset[dataset['TenYearCHD'] == 0]\n",
        "class_1 = dataset[dataset['TenYearCHD'] == 1]\n",
        "print('class 0:', class_0.shape)\n",
        "print('class 1:', class_1.shape)"
      ],
      "execution_count": 1000,
      "outputs": [
        {
          "output_type": "stream",
          "name": "stdout",
          "text": [
            "class 0: (2784, 16)\n",
            "class 1: (488, 16)\n"
          ]
        }
      ]
    },
    {
      "cell_type": "markdown",
      "metadata": {
        "id": "r-e1Fo3JPUoH"
      },
      "source": [
        ">## Synthetic Minority Oversampling Technique (SMOTE)"
      ]
    },
    {
      "cell_type": "code",
      "metadata": {
        "colab": {
          "base_uri": "https://localhost:8080/"
        },
        "id": "l_u8XnZRPB95",
        "outputId": "ce5b7c53-b3b9-4b41-8c6c-cf8107ad84b3"
      },
      "source": [
        "from imblearn.over_sampling import SMOTE\n",
        "\n",
        "smote = SMOTE()\n",
        "\n",
        "# fit predictor and target variable\n",
        "x_train_smote, y_train_smote = smote.fit_resample(dataset.iloc[:,0:-1], dataset['TenYearCHD'])\n",
        "\n",
        "print('Original dataset shape', len(dataset))\n",
        "print('Resampled dataset shape', len(y_train_smote))"
      ],
      "execution_count": 1001,
      "outputs": [
        {
          "output_type": "stream",
          "name": "stdout",
          "text": [
            "Original dataset shape 3272\n",
            "Resampled dataset shape 5568\n"
          ]
        }
      ]
    },
    {
      "cell_type": "markdown",
      "metadata": {
        "id": "RbVogncLT_ax"
      },
      "source": [
        "## Feature Scaling on balanced data"
      ]
    },
    {
      "cell_type": "code",
      "metadata": {
        "id": "2uP1tg2ET_ay"
      },
      "source": [
        "x_train_smote = sc.fit_transform(x_train_smote)"
      ],
      "execution_count": 1002,
      "outputs": []
    },
    {
      "cell_type": "markdown",
      "metadata": {
        "id": "a1JdJcYzfaKy"
      },
      "source": [
        "# <b> Model Testing"
      ]
    },
    {
      "cell_type": "markdown",
      "metadata": {
        "id": "TXqpR_3Qf-bb"
      },
      "source": [
        ">## <b>Logistic Regression model"
      ]
    },
    {
      "cell_type": "markdown",
      "metadata": {
        "id": "A28l6m10g6J6"
      },
      "source": [
        ">### Training the Logistic Regression model on the Training set"
      ]
    },
    {
      "cell_type": "code",
      "metadata": {
        "colab": {
          "base_uri": "https://localhost:8080/"
        },
        "id": "SHnT-pfwg6J9",
        "outputId": "cff48cd3-7adb-4cb5-e58d-5f5709b96b90"
      },
      "source": [
        "from sklearn.linear_model import LogisticRegression\n",
        "classifier = LogisticRegression(random_state = 0)\n",
        "classifier.fit(X_train, y_train)"
      ],
      "execution_count": 1003,
      "outputs": [
        {
          "output_type": "execute_result",
          "data": {
            "text/plain": [
              "LogisticRegression(C=1.0, class_weight=None, dual=False, fit_intercept=True,\n",
              "                   intercept_scaling=1, l1_ratio=None, max_iter=100,\n",
              "                   multi_class='auto', n_jobs=None, penalty='l2',\n",
              "                   random_state=0, solver='lbfgs', tol=0.0001, verbose=0,\n",
              "                   warm_start=False)"
            ]
          },
          "metadata": {},
          "execution_count": 1003
        }
      ]
    },
    {
      "cell_type": "markdown",
      "metadata": {
        "id": "rfaTXnOpUcX1"
      },
      "source": [
        ">### Training the Logistic Regression model on the Training set (Balanced Data)"
      ]
    },
    {
      "cell_type": "code",
      "metadata": {
        "colab": {
          "base_uri": "https://localhost:8080/"
        },
        "id": "x6PQq8yeUcX2",
        "outputId": "28e7c859-0fb9-4cd1-a0e7-325e65aa601e"
      },
      "source": [
        "from sklearn.linear_model import LogisticRegression\n",
        "classifier_smote = LogisticRegression(random_state = 0)\n",
        "classifier_smote.fit(x_train_smote, y_train_smote)"
      ],
      "execution_count": 1004,
      "outputs": [
        {
          "output_type": "execute_result",
          "data": {
            "text/plain": [
              "LogisticRegression(C=1.0, class_weight=None, dual=False, fit_intercept=True,\n",
              "                   intercept_scaling=1, l1_ratio=None, max_iter=100,\n",
              "                   multi_class='auto', n_jobs=None, penalty='l2',\n",
              "                   random_state=0, solver='lbfgs', tol=0.0001, verbose=0,\n",
              "                   warm_start=False)"
            ]
          },
          "metadata": {},
          "execution_count": 1004
        }
      ]
    },
    {
      "cell_type": "markdown",
      "metadata": {
        "id": "1Ha_VQD7X-yq"
      },
      "source": [
        ">Function for fetching confusion matrix of imbalance and balanced data"
      ]
    },
    {
      "cell_type": "markdown",
      "metadata": {
        "id": "BHYqPn5XMoy8"
      },
      "source": [
        ">### Evaluating the Model Performance"
      ]
    },
    {
      "cell_type": "code",
      "metadata": {
        "id": "sO3E_7f2Pf4i"
      },
      "source": [
        "# Function for fetching confusion matrix of imbalance and balanced data\n",
        "def model_evolution(classifier, classifier_smote, X_test,y_test):\n",
        "  y_pred = classifier.predict(X_test)\n",
        "  cm = confusion_matrix(y_test, y_pred)\n",
        "  print(\"Confusion Matrix on Imbalanced Data:\")\n",
        "  print(cm)\n",
        "\n",
        "  y_pred_smote = classifier_smote.predict(X_test)\n",
        "  cm_smote = confusion_matrix(y_test, y_pred_smote)\n",
        "  print()\n",
        "  print(\"Confusion Matrix on Balanced Data:\")\n",
        "  print(cm_smote)\n",
        "  print()\n",
        "  print('=====================================================')\n",
        "  print()\n",
        "  print(\"Imbalanced Data :\")\n",
        "  print(classification_report(y_test, y_pred))\n",
        "  print()\n",
        "  print(\"Balanced Data:\")\n",
        "  print(classification_report(y_test, y_pred_smote))\n",
        "  print()\n",
        "  print('=====================================================')\n",
        "  print()\n",
        "\n",
        "  \n",
        "  # Calculate roc_auc score on test set\n",
        "  print(\"Imbalanced Data :\")\n",
        "  print(\"ROC-AUC Score:\",round(roc_auc_score(y_test, y_pred), 2))\n",
        "  print()\n",
        "  print(\"Balanced Data:\")\n",
        "  print(\"ROC-AUC Score:\",round(roc_auc_score(y_test, y_pred_smote), 2))\n",
        "  return"
      ],
      "execution_count": 1005,
      "outputs": []
    },
    {
      "cell_type": "code",
      "metadata": {
        "colab": {
          "base_uri": "https://localhost:8080/"
        },
        "id": "SSG_Dfb1Moy6",
        "outputId": "2376a0b6-c0b3-4c96-b811-ab258a4812c0"
      },
      "source": [
        "model_evolution(classifier, classifier_smote, X_test,y_test)"
      ],
      "execution_count": 1006,
      "outputs": [
        {
          "output_type": "stream",
          "name": "stdout",
          "text": [
            "Confusion Matrix on Imbalanced Data:\n",
            "[[567   5]\n",
            " [ 79   4]]\n",
            "\n",
            "Confusion Matrix on Balanced Data:\n",
            "[[334 238]\n",
            " [ 14  69]]\n",
            "\n",
            "=====================================================\n",
            "\n",
            "Imbalanced Data :\n",
            "              precision    recall  f1-score   support\n",
            "\n",
            "           0       0.88      0.99      0.93       572\n",
            "           1       0.44      0.05      0.09        83\n",
            "\n",
            "    accuracy                           0.87       655\n",
            "   macro avg       0.66      0.52      0.51       655\n",
            "weighted avg       0.82      0.87      0.82       655\n",
            "\n",
            "\n",
            "Balanced Data:\n",
            "              precision    recall  f1-score   support\n",
            "\n",
            "           0       0.96      0.58      0.73       572\n",
            "           1       0.22      0.83      0.35        83\n",
            "\n",
            "    accuracy                           0.62       655\n",
            "   macro avg       0.59      0.71      0.54       655\n",
            "weighted avg       0.87      0.62      0.68       655\n",
            "\n",
            "\n",
            "=====================================================\n",
            "\n",
            "Imbalanced Data :\n",
            "ROC-AUC Score: 0.52\n",
            "\n",
            "Balanced Data:\n",
            "ROC-AUC Score: 0.71\n"
          ]
        }
      ]
    },
    {
      "cell_type": "markdown",
      "metadata": {
        "id": "c5BxK1w_BCnF"
      },
      "source": [
        ">## <b>Decision Tree Classification model"
      ]
    },
    {
      "cell_type": "markdown",
      "metadata": {
        "id": "bb6jCOCQiAmP"
      },
      "source": [
        ">### Training the Decision Tree Classification model on the Training set"
      ]
    },
    {
      "cell_type": "code",
      "metadata": {
        "id": "e0pFVAmciHQs",
        "colab": {
          "base_uri": "https://localhost:8080/"
        },
        "outputId": "4b9fea94-592d-4982-ff24-e1ad9532a2bb"
      },
      "source": [
        "from sklearn.tree import DecisionTreeClassifier\n",
        "classifier = DecisionTreeClassifier(criterion = 'entropy', random_state = 0)\n",
        "classifier.fit(X_train, y_train)"
      ],
      "execution_count": 1007,
      "outputs": [
        {
          "output_type": "execute_result",
          "data": {
            "text/plain": [
              "DecisionTreeClassifier(ccp_alpha=0.0, class_weight=None, criterion='entropy',\n",
              "                       max_depth=None, max_features=None, max_leaf_nodes=None,\n",
              "                       min_impurity_decrease=0.0, min_impurity_split=None,\n",
              "                       min_samples_leaf=1, min_samples_split=2,\n",
              "                       min_weight_fraction_leaf=0.0, presort='deprecated',\n",
              "                       random_state=0, splitter='best')"
            ]
          },
          "metadata": {},
          "execution_count": 1007
        }
      ]
    },
    {
      "cell_type": "markdown",
      "metadata": {
        "id": "0B9gMh8ZZT20"
      },
      "source": [
        ">### Training the Decision Tree Classifier model on the Training set (Balanced Data)"
      ]
    },
    {
      "cell_type": "code",
      "metadata": {
        "colab": {
          "base_uri": "https://localhost:8080/"
        },
        "id": "T4LFlAUBZT21",
        "outputId": "1b4e73bc-37c3-4bde-ec36-91e17213a255"
      },
      "source": [
        "from sklearn.linear_model import LogisticRegression\n",
        "classifier_smote = DecisionTreeClassifier(criterion = 'entropy', random_state = 0)\n",
        "classifier_smote.fit(x_train_smote, y_train_smote)"
      ],
      "execution_count": 1008,
      "outputs": [
        {
          "output_type": "execute_result",
          "data": {
            "text/plain": [
              "DecisionTreeClassifier(ccp_alpha=0.0, class_weight=None, criterion='entropy',\n",
              "                       max_depth=None, max_features=None, max_leaf_nodes=None,\n",
              "                       min_impurity_decrease=0.0, min_impurity_split=None,\n",
              "                       min_samples_leaf=1, min_samples_split=2,\n",
              "                       min_weight_fraction_leaf=0.0, presort='deprecated',\n",
              "                       random_state=0, splitter='best')"
            ]
          },
          "metadata": {},
          "execution_count": 1008
        }
      ]
    },
    {
      "cell_type": "markdown",
      "metadata": {
        "id": "lqOdYvftRPlf"
      },
      "source": [
        ">### Evaluating the Model Performance"
      ]
    },
    {
      "cell_type": "code",
      "metadata": {
        "colab": {
          "base_uri": "https://localhost:8080/"
        },
        "id": "9hQG4t49RPli",
        "outputId": "19f53472-356d-4786-9ddc-20e5c623d72b"
      },
      "source": [
        "model_evolution(classifier, classifier_smote, X_test,y_test)"
      ],
      "execution_count": 1009,
      "outputs": [
        {
          "output_type": "stream",
          "name": "stdout",
          "text": [
            "Confusion Matrix on Imbalanced Data:\n",
            "[[486  86]\n",
            " [ 56  27]]\n",
            "\n",
            "Confusion Matrix on Balanced Data:\n",
            "[[142 430]\n",
            " [  5  78]]\n",
            "\n",
            "=====================================================\n",
            "\n",
            "Imbalanced Data :\n",
            "              precision    recall  f1-score   support\n",
            "\n",
            "           0       0.90      0.85      0.87       572\n",
            "           1       0.24      0.33      0.28        83\n",
            "\n",
            "    accuracy                           0.78       655\n",
            "   macro avg       0.57      0.59      0.57       655\n",
            "weighted avg       0.81      0.78      0.80       655\n",
            "\n",
            "\n",
            "Balanced Data:\n",
            "              precision    recall  f1-score   support\n",
            "\n",
            "           0       0.97      0.25      0.39       572\n",
            "           1       0.15      0.94      0.26        83\n",
            "\n",
            "    accuracy                           0.34       655\n",
            "   macro avg       0.56      0.59      0.33       655\n",
            "weighted avg       0.86      0.34      0.38       655\n",
            "\n",
            "\n",
            "=====================================================\n",
            "\n",
            "Imbalanced Data :\n",
            "ROC-AUC Score: 0.59\n",
            "\n",
            "Balanced Data:\n",
            "ROC-AUC Score: 0.59\n"
          ]
        }
      ]
    },
    {
      "cell_type": "markdown",
      "metadata": {
        "id": "Xe8zyw1XBe1_"
      },
      "source": [
        ">## <b>Random Forest Classification model"
      ]
    },
    {
      "cell_type": "markdown",
      "metadata": {
        "id": "e1MIOeVnBxeL"
      },
      "source": [
        ">### Training the Random Forest Classification model on the Training set"
      ]
    },
    {
      "cell_type": "code",
      "metadata": {
        "colab": {
          "base_uri": "https://localhost:8080/"
        },
        "id": "mmmPyTkPBxeN",
        "outputId": "bbf727a4-a23c-42af-c84a-be920ae0d717"
      },
      "source": [
        "from sklearn.ensemble import RandomForestClassifier, GradientBoostingClassifier\n",
        "classifier = RandomForestClassifier(n_estimators = 10, random_state = 0)\n",
        "classifier.fit(X_train, y_train)"
      ],
      "execution_count": 1010,
      "outputs": [
        {
          "output_type": "execute_result",
          "data": {
            "text/plain": [
              "RandomForestClassifier(bootstrap=True, ccp_alpha=0.0, class_weight=None,\n",
              "                       criterion='gini', max_depth=None, max_features='auto',\n",
              "                       max_leaf_nodes=None, max_samples=None,\n",
              "                       min_impurity_decrease=0.0, min_impurity_split=None,\n",
              "                       min_samples_leaf=1, min_samples_split=2,\n",
              "                       min_weight_fraction_leaf=0.0, n_estimators=10,\n",
              "                       n_jobs=None, oob_score=False, random_state=0, verbose=0,\n",
              "                       warm_start=False)"
            ]
          },
          "metadata": {},
          "execution_count": 1010
        }
      ]
    },
    {
      "cell_type": "markdown",
      "metadata": {
        "id": "p-0tbmFzk84R"
      },
      "source": [
        ">### Feature importance check"
      ]
    },
    {
      "cell_type": "code",
      "metadata": {
        "colab": {
          "base_uri": "https://localhost:8080/",
          "height": 391
        },
        "id": "o-f-Ahjgip-O",
        "outputId": "1a9b699e-8977-4c6f-8dc5-c2493c580888"
      },
      "source": [
        "(pd.Series(classifier.feature_importances_, index=X.columns).plot(kind='barh',color='teal')) "
      ],
      "execution_count": 1011,
      "outputs": [
        {
          "output_type": "execute_result",
          "data": {
            "text/plain": [
              "<matplotlib.axes._subplots.AxesSubplot at 0x7f7a0d6fa550>"
            ]
          },
          "metadata": {},
          "execution_count": 1011
        },
        {
          "output_type": "display_data",
          "data": {
            "image/png": "[encoded data removed]",
            "text/plain": [
              "<Figure size 720x432 with 1 Axes>"
            ]
          },
          "metadata": {
            "needs_background": "light"
          }
        }
      ]
    },
    {
      "cell_type": "markdown",
      "metadata": {
        "id": "gX2Wj5w7ZVIX"
      },
      "source": [
        ">### Training the Random Forest Classification on the Training set (Balanced Data)"
      ]
    },
    {
      "cell_type": "code",
      "metadata": {
        "colab": {
          "base_uri": "https://localhost:8080/"
        },
        "id": "4uOCZG2IZVIZ",
        "outputId": "1b7460a7-97bc-44fc-885d-6d22c2de5aef"
      },
      "source": [
        "from sklearn.linear_model import LogisticRegression\n",
        "classifier_smote = RandomForestClassifier(n_estimators = 10, random_state = 0)\n",
        "classifier_smote.fit(x_train_smote, y_train_smote)"
      ],
      "execution_count": 1012,
      "outputs": [
        {
          "output_type": "execute_result",
          "data": {
            "text/plain": [
              "RandomForestClassifier(bootstrap=True, ccp_alpha=0.0, class_weight=None,\n",
              "                       criterion='gini', max_depth=None, max_features='auto',\n",
              "                       max_leaf_nodes=None, max_samples=None,\n",
              "                       min_impurity_decrease=0.0, min_impurity_split=None,\n",
              "                       min_samples_leaf=1, min_samples_split=2,\n",
              "                       min_weight_fraction_leaf=0.0, n_estimators=10,\n",
              "                       n_jobs=None, oob_score=False, random_state=0, verbose=0,\n",
              "                       warm_start=False)"
            ]
          },
          "metadata": {},
          "execution_count": 1012
        }
      ]
    },
    {
      "cell_type": "markdown",
      "metadata": {
        "id": "ylZHHE6tlFDx"
      },
      "source": [
        ">### Feature importance check"
      ]
    },
    {
      "cell_type": "code",
      "metadata": {
        "colab": {
          "base_uri": "https://localhost:8080/",
          "height": 391
        },
        "id": "R_VxkHQnkdyS",
        "outputId": "b5de2fae-599c-406c-c118-f8999d83a33a"
      },
      "source": [
        "(pd.Series(classifier_smote.feature_importances_, index=X.columns).plot(kind='barh',color='olive')) "
      ],
      "execution_count": 1013,
      "outputs": [
        {
          "output_type": "execute_result",
          "data": {
            "text/plain": [
              "<matplotlib.axes._subplots.AxesSubplot at 0x7f7a0d23c1d0>"
            ]
          },
          "metadata": {},
          "execution_count": 1013
        },
        {
          "output_type": "display_data",
          "data": {
            "image/png": "[encoded data removed]",
            "text/plain": [
              "<Figure size 720x432 with 1 Axes>"
            ]
          },
          "metadata": {
            "needs_background": "light"
          }
        }
      ]
    },
    {
      "cell_type": "markdown",
      "metadata": {
        "id": "p4iZmHWQRRrS"
      },
      "source": [
        ">### Evaluating the Model Performance"
      ]
    },
    {
      "cell_type": "code",
      "metadata": {
        "colab": {
          "base_uri": "https://localhost:8080/"
        },
        "id": "M4Ex8jhPRRrU",
        "outputId": "b6e36dc1-baa5-4fd0-cdb4-a8ab58852b2b"
      },
      "source": [
        "model_evolution(classifier, classifier_smote, X_test,y_test)"
      ],
      "execution_count": 1014,
      "outputs": [
        {
          "output_type": "stream",
          "name": "stdout",
          "text": [
            "Confusion Matrix on Imbalanced Data:\n",
            "[[562  10]\n",
            " [ 73  10]]\n",
            "\n",
            "Confusion Matrix on Balanced Data:\n",
            "[[ 90 482]\n",
            " [  4  79]]\n",
            "\n",
            "=====================================================\n",
            "\n",
            "Imbalanced Data :\n",
            "              precision    recall  f1-score   support\n",
            "\n",
            "           0       0.89      0.98      0.93       572\n",
            "           1       0.50      0.12      0.19        83\n",
            "\n",
            "    accuracy                           0.87       655\n",
            "   macro avg       0.69      0.55      0.56       655\n",
            "weighted avg       0.84      0.87      0.84       655\n",
            "\n",
            "\n",
            "Balanced Data:\n",
            "              precision    recall  f1-score   support\n",
            "\n",
            "           0       0.96      0.16      0.27       572\n",
            "           1       0.14      0.95      0.25        83\n",
            "\n",
            "    accuracy                           0.26       655\n",
            "   macro avg       0.55      0.55      0.26       655\n",
            "weighted avg       0.85      0.26      0.27       655\n",
            "\n",
            "\n",
            "=====================================================\n",
            "\n",
            "Imbalanced Data :\n",
            "ROC-AUC Score: 0.55\n",
            "\n",
            "Balanced Data:\n",
            "ROC-AUC Score: 0.55\n"
          ]
        }
      ]
    },
    {
      "cell_type": "markdown",
      "metadata": {
        "id": "1VjD15pbhXb4"
      },
      "source": [
        ">## <b>K-Nearest Neighbor model"
      ]
    },
    {
      "cell_type": "markdown",
      "metadata": {
        "id": "A3YDTgZviSZD"
      },
      "source": [
        ">### Training the K-NN model on the Training set"
      ]
    },
    {
      "cell_type": "code",
      "metadata": {
        "id": "6q_hd8zHiSZg",
        "colab": {
          "base_uri": "https://localhost:8080/"
        },
        "outputId": "3b829f78-09be-4118-c9fb-0cc673a8f8f6"
      },
      "source": [
        "from sklearn.neighbors import KNeighborsClassifier\n",
        "classifier = KNeighborsClassifier(n_neighbors = 5, metric = 'minkowski', p = 2)\n",
        "classifier.fit(X_train, y_train)"
      ],
      "execution_count": 1015,
      "outputs": [
        {
          "output_type": "execute_result",
          "data": {
            "text/plain": [
              "KNeighborsClassifier(algorithm='auto', leaf_size=30, metric='minkowski',\n",
              "                     metric_params=None, n_jobs=None, n_neighbors=5, p=2,\n",
              "                     weights='uniform')"
            ]
          },
          "metadata": {},
          "execution_count": 1015
        }
      ]
    },
    {
      "cell_type": "markdown",
      "metadata": {
        "id": "f-5n34WuZWDN"
      },
      "source": [
        ">### Training the K-NN model model on the Training set (Balanced Data)"
      ]
    },
    {
      "cell_type": "code",
      "metadata": {
        "colab": {
          "base_uri": "https://localhost:8080/"
        },
        "id": "eM4xsMW9ZWDO",
        "outputId": "207fbc83-85a1-4044-ecff-7c5de30eee8d"
      },
      "source": [
        "from sklearn.linear_model import LogisticRegression\n",
        "classifier_smote = KNeighborsClassifier(n_neighbors = 5, metric = 'minkowski', p = 2)\n",
        "classifier_smote.fit(x_train_smote, y_train_smote)"
      ],
      "execution_count": 1016,
      "outputs": [
        {
          "output_type": "execute_result",
          "data": {
            "text/plain": [
              "KNeighborsClassifier(algorithm='auto', leaf_size=30, metric='minkowski',\n",
              "                     metric_params=None, n_jobs=None, n_neighbors=5, p=2,\n",
              "                     weights='uniform')"
            ]
          },
          "metadata": {},
          "execution_count": 1016
        }
      ]
    },
    {
      "cell_type": "markdown",
      "metadata": {
        "id": "mUjOq1fSRUka"
      },
      "source": [
        ">### Evaluating the Model Performance"
      ]
    },
    {
      "cell_type": "code",
      "metadata": {
        "colab": {
          "base_uri": "https://localhost:8080/"
        },
        "id": "pvjgPxV5RUkc",
        "outputId": "1031e677-d265-4baf-a70d-9beef556df4d"
      },
      "source": [
        "model_evolution(classifier, classifier_smote, X_test,y_test)"
      ],
      "execution_count": 1017,
      "outputs": [
        {
          "output_type": "stream",
          "name": "stdout",
          "text": [
            "Confusion Matrix on Imbalanced Data:\n",
            "[[555  17]\n",
            " [ 74   9]]\n",
            "\n",
            "Confusion Matrix on Balanced Data:\n",
            "[[441 131]\n",
            " [  5  78]]\n",
            "\n",
            "=====================================================\n",
            "\n",
            "Imbalanced Data :\n",
            "              precision    recall  f1-score   support\n",
            "\n",
            "           0       0.88      0.97      0.92       572\n",
            "           1       0.35      0.11      0.17        83\n",
            "\n",
            "    accuracy                           0.86       655\n",
            "   macro avg       0.61      0.54      0.54       655\n",
            "weighted avg       0.81      0.86      0.83       655\n",
            "\n",
            "\n",
            "Balanced Data:\n",
            "              precision    recall  f1-score   support\n",
            "\n",
            "           0       0.99      0.77      0.87       572\n",
            "           1       0.37      0.94      0.53        83\n",
            "\n",
            "    accuracy                           0.79       655\n",
            "   macro avg       0.68      0.86      0.70       655\n",
            "weighted avg       0.91      0.79      0.82       655\n",
            "\n",
            "\n",
            "=====================================================\n",
            "\n",
            "Imbalanced Data :\n",
            "ROC-AUC Score: 0.54\n",
            "\n",
            "Balanced Data:\n",
            "ROC-AUC Score: 0.86\n"
          ]
        }
      ]
    },
    {
      "cell_type": "markdown",
      "metadata": {
        "id": "5ZPPTobqw6Yd"
      },
      "source": [
        ">### Hyperparameter tuning\n"
      ]
    },
    {
      "cell_type": "code",
      "metadata": {
        "colab": {
          "base_uri": "https://localhost:8080/"
        },
        "id": "nwYBiCMdpKPD",
        "outputId": "0735a7c8-225f-41e1-8d97-91fa04e87277"
      },
      "source": [
        "k_range = list(range(1,31))\n",
        "\n",
        "estimator_KNN = KNeighborsClassifier(algorithm='auto')\n",
        "parameters_KNN = {\n",
        "    'n_neighbors': k_range,\n",
        "    'leaf_size': (10,20,30),\n",
        "    'p': (1,2),\n",
        "    'weights': ('uniform', 'distance'),\n",
        "    'metric': ('minkowski', 'chebyshev')}\n",
        "                   \n",
        "# with GridSearch\n",
        "grid_search_KNN = GridSearchCV(\n",
        "    estimator=estimator_KNN,\n",
        "    param_grid=parameters_KNN,\n",
        "    scoring = 'accuracy',\n",
        "    n_jobs = -1,\n",
        "    cv = 5,\n",
        "    verbose=3\n",
        ")\n",
        "grid_search_KNN.fit(x_train_smote,y_train_smote)"
      ],
      "execution_count": 1019,
      "outputs": [
        {
          "output_type": "stream",
          "name": "stdout",
          "text": [
            "Fitting 5 folds for each of 720 candidates, totalling 3600 fits\n"
          ]
        },
        {
          "output_type": "stream",
          "name": "stderr",
          "text": [
            "[Parallel(n_jobs=-1)]: Using backend LokyBackend with 2 concurrent workers.\n",
            "[Parallel(n_jobs=-1)]: Done  28 tasks      | elapsed:    4.6s\n",
            "[Parallel(n_jobs=-1)]: Done 124 tasks      | elapsed:   20.6s\n",
            "[Parallel(n_jobs=-1)]: Done 284 tasks      | elapsed:   52.2s\n",
            "[Parallel(n_jobs=-1)]: Done 508 tasks      | elapsed:  1.7min\n",
            "[Parallel(n_jobs=-1)]: Done 796 tasks      | elapsed:  2.3min\n",
            "[Parallel(n_jobs=-1)]: Done 1148 tasks      | elapsed:  3.0min\n",
            "[Parallel(n_jobs=-1)]: Done 1564 tasks      | elapsed:  4.1min\n",
            "[Parallel(n_jobs=-1)]: Done 2044 tasks      | elapsed:  5.1min\n",
            "[Parallel(n_jobs=-1)]: Done 2588 tasks      | elapsed:  6.3min\n",
            "[Parallel(n_jobs=-1)]: Done 3196 tasks      | elapsed:  7.8min\n",
            "[Parallel(n_jobs=-1)]: Done 3600 out of 3600 | elapsed:  8.5min finished\n"
          ]
        },
        {
          "output_type": "execute_result",
          "data": {
            "text/plain": [
              "GridSearchCV(cv=5, error_score=nan,\n",
              "             estimator=KNeighborsClassifier(algorithm='auto', leaf_size=30,\n",
              "                                            metric='minkowski',\n",
              "                                            metric_params=None, n_jobs=None,\n",
              "                                            n_neighbors=5, p=2,\n",
              "                                            weights='uniform'),\n",
              "             iid='deprecated', n_jobs=-1,\n",
              "             param_grid={'leaf_size': (10, 20, 30),\n",
              "                         'metric': ('minkowski', 'chebyshev'),\n",
              "                         'n_neighbors': [1, 2, 3, 4, 5, 6, 7, 8, 9, 10, 11, 12,\n",
              "                                         13, 14, 15, 16, 17, 18, 19, 20, 21, 22,\n",
              "                                         23, 24, 25, 26, 27, 28, 29, 30],\n",
              "                         'p': (1, 2), 'weights': ('uniform', 'distance')},\n",
              "             pre_dispatch='2*n_jobs', refit=True, return_train_score=False,\n",
              "             scoring='accuracy', verbose=3)"
            ]
          },
          "metadata": {},
          "execution_count": 1019
        }
      ]
    },
    {
      "cell_type": "code",
      "metadata": {
        "colab": {
          "base_uri": "https://localhost:8080/"
        },
        "id": "hDhHpR8fuZ5K",
        "outputId": "875008ac-aecb-4922-8bd0-b42a2324be95"
      },
      "source": [
        "print(grid_search_KNN.best_score_)\n",
        "print()\n",
        "print(grid_search_KNN.best_params_)\n",
        "print()\n",
        "print(grid_search_KNN.best_estimator_)"
      ],
      "execution_count": 1020,
      "outputs": [
        {
          "output_type": "stream",
          "name": "stdout",
          "text": [
            "0.9148722217114209\n",
            "\n",
            "{'leaf_size': 10, 'metric': 'minkowski', 'n_neighbors': 2, 'p': 1, 'weights': 'uniform'}\n",
            "\n",
            "KNeighborsClassifier(algorithm='auto', leaf_size=10, metric='minkowski',\n",
            "                     metric_params=None, n_jobs=None, n_neighbors=2, p=1,\n",
            "                     weights='uniform')\n"
          ]
        }
      ]
    },
    {
      "cell_type": "code",
      "metadata": {
        "id": "Ds0NVlEjz8Ke"
      },
      "source": [
        "y_pred_knn = grid_search_KNN.best_estimator_.predict(X_test)"
      ],
      "execution_count": 1021,
      "outputs": []
    },
    {
      "cell_type": "markdown",
      "metadata": {
        "id": "lYly6l3uwyaI"
      },
      "source": [
        ">### Evaluating the Model Performance"
      ]
    },
    {
      "cell_type": "code",
      "metadata": {
        "colab": {
          "base_uri": "https://localhost:8080/"
        },
        "id": "SwCCk4q8wyaJ",
        "outputId": "4415ec09-809a-4083-f681-4177a76a77a9"
      },
      "source": [
        "# Function for fetching confusion matrix of imbalance and balanced data\n",
        "cm_smote = confusion_matrix(y_test, y_pred_knn)\n",
        "print()\n",
        "print(\"Confusion Matrix on Balanced Data:\")\n",
        "print(cm_smote)\n",
        "print()\n",
        "print('=====================================================')\n",
        "print()\n",
        "print(\"Balanced Data:\")\n",
        "print(classification_report(y_test, y_pred_knn))\n",
        "print()\n",
        "print('=====================================================')\n",
        "print()\n",
        "\n",
        "\n",
        "# Calculate roc_auc score on test set\n",
        "print(\"Balanced Data:\")\n",
        "print(\"ROC-AUC Score:\",round(roc_auc_score(y_test, y_pred_knn), 2))"
      ],
      "execution_count": 1022,
      "outputs": [
        {
          "output_type": "stream",
          "name": "stdout",
          "text": [
            "\n",
            "Confusion Matrix on Balanced Data:\n",
            "[[572   0]\n",
            " [  3  80]]\n",
            "\n",
            "=====================================================\n",
            "\n",
            "Balanced Data:\n",
            "              precision    recall  f1-score   support\n",
            "\n",
            "           0       0.99      1.00      1.00       572\n",
            "           1       1.00      0.96      0.98        83\n",
            "\n",
            "    accuracy                           1.00       655\n",
            "   macro avg       1.00      0.98      0.99       655\n",
            "weighted avg       1.00      1.00      1.00       655\n",
            "\n",
            "\n",
            "=====================================================\n",
            "\n",
            "Balanced Data:\n",
            "ROC-AUC Score: 0.98\n"
          ]
        }
      ]
    },
    {
      "cell_type": "markdown",
      "metadata": {
        "id": "gNTdGI02hXmf"
      },
      "source": [
        ">## <b>Naive Bayes Classifier model"
      ]
    },
    {
      "cell_type": "markdown",
      "metadata": {
        "id": "EGq9jsA8ijQG"
      },
      "source": [
        ">### Training the Naive Bayes model on the Training set"
      ]
    },
    {
      "cell_type": "code",
      "metadata": {
        "id": "twUvQnhWijQI"
      },
      "source": [
        "from sklearn.naive_bayes import GaussianNB\n",
        "classifier = GaussianNB()\n",
        "classifier.fit(X_train, y_train)"
      ],
      "execution_count": null,
      "outputs": []
    },
    {
      "cell_type": "markdown",
      "metadata": {
        "id": "5FOopvIAZXEe"
      },
      "source": [
        ">### Training the Naive Bayes model on the Training set (Balanced Data)"
      ]
    },
    {
      "cell_type": "code",
      "metadata": {
        "id": "D3bDi-5YZXEi"
      },
      "source": [
        "from sklearn.linear_model import LogisticRegression\n",
        "classifier_smote = GaussianNB()\n",
        "classifier_smote.fit(x_train_smote, y_train_smote)"
      ],
      "execution_count": null,
      "outputs": []
    },
    {
      "cell_type": "markdown",
      "metadata": {
        "id": "y20omnbkRWzS"
      },
      "source": [
        ">### Evaluating the Model Performance"
      ]
    },
    {
      "cell_type": "code",
      "metadata": {
        "id": "CrgFgROWRWzU"
      },
      "source": [
        "model_evolution(classifier, classifier_smote, X_test,y_test)"
      ],
      "execution_count": null,
      "outputs": []
    },
    {
      "cell_type": "markdown",
      "metadata": {
        "id": "97jxnjJChX3N"
      },
      "source": [
        ">## <b>Support Vector Machine model"
      ]
    },
    {
      "cell_type": "markdown",
      "metadata": {
        "id": "kOjUEOM4iyLc"
      },
      "source": [
        ">### Training the SVM (Linear) model on the Training set"
      ]
    },
    {
      "cell_type": "code",
      "metadata": {
        "id": "VYEdReQRiyLg"
      },
      "source": [
        "from sklearn.svm import SVC\n",
        "classifier = SVC(kernel = 'linear', random_state = 0)\n",
        "classifier.fit(X_train, y_train)"
      ],
      "execution_count": null,
      "outputs": []
    },
    {
      "cell_type": "markdown",
      "metadata": {
        "id": "hPcLf1DhZYNB"
      },
      "source": [
        ">### Training the SVM (Linear) model on the Training set (Balanced Data)\n",
        "\n"
      ]
    },
    {
      "cell_type": "code",
      "metadata": {
        "id": "Bh9FC3poZYND"
      },
      "source": [
        "from sklearn.linear_model import LogisticRegression\n",
        "classifier_smote = SVC(kernel = 'linear', random_state = 0)\n",
        "classifier_smote.fit(x_train_smote, y_train_smote)"
      ],
      "execution_count": null,
      "outputs": []
    },
    {
      "cell_type": "markdown",
      "metadata": {
        "id": "1jczsVq4RZVN"
      },
      "source": [
        ">### Evaluating the Model Performance"
      ]
    },
    {
      "cell_type": "code",
      "metadata": {
        "id": "IKo--wZ4RZVP"
      },
      "source": [
        "model_evolution(classifier, classifier_smote, X_test,y_test)"
      ],
      "execution_count": null,
      "outputs": []
    },
    {
      "cell_type": "markdown",
      "metadata": {
        "id": "Ibu9pZN8iyoF"
      },
      "source": [
        ">### Training the SVM (rbf) model on the Training set"
      ]
    },
    {
      "cell_type": "code",
      "metadata": {
        "id": "I3Py6RK_iyoJ"
      },
      "source": [
        "from sklearn.svm import SVC\n",
        "classifier = SVC(kernel = 'rbf', random_state = 0)\n",
        "classifier.fit(X_train, y_train)"
      ],
      "execution_count": null,
      "outputs": []
    },
    {
      "cell_type": "markdown",
      "metadata": {
        "id": "cU7J1Gx2aqAZ"
      },
      "source": [
        ">### Training the SVM (rbf) model on the Training set (Balanced Data)\n",
        "\n"
      ]
    },
    {
      "cell_type": "code",
      "metadata": {
        "id": "gNfeYsxpaqAd"
      },
      "source": [
        "from sklearn.linear_model import LogisticRegression\n",
        "classifier_smote = SVC(kernel = 'rbf', random_state = 0)\n",
        "classifier_smote.fit(x_train_smote, y_train_smote)"
      ],
      "execution_count": null,
      "outputs": []
    },
    {
      "cell_type": "markdown",
      "metadata": {
        "id": "LZ-wBkukRdag"
      },
      "source": [
        ">### Evaluating the Model Performance"
      ]
    },
    {
      "cell_type": "code",
      "metadata": {
        "id": "9vqOPgkFRdaj"
      },
      "source": [
        "model_evolution(classifier, classifier_smote, X_test,y_test)"
      ],
      "execution_count": null,
      "outputs": []
    },
    {
      "cell_type": "markdown",
      "metadata": {
        "id": "1O6DDUrdC3qa"
      },
      "source": [
        ">### Hyperparameter tuning\n"
      ]
    },
    {
      "cell_type": "code",
      "metadata": {
        "id": "rBNGUTILC3qf"
      },
      "source": [
        "# defining parameter range\n",
        "param_grid = {'C': [ 0.1, 1, 10, 100, 1000], \n",
        "              'gamma': [1, 0.1, 0.01, 0.001, 0.0001],\n",
        "              'kernel': ['rbf']} "
      ],
      "execution_count": null,
      "outputs": []
    },
    {
      "cell_type": "code",
      "metadata": {
        "id": "gzEehwmnC3qt"
      },
      "source": [
        "# # Create an instance of the RandomForestClassifier\n",
        "# svc_model = SVC()\n",
        "# # Grid search\n",
        "# svc_grid = GridSearchCV(svc_model, param_grid, refit = True, verbose = 3)\n",
        "\n",
        "# # fitting the model for grid search\n",
        "# svc_grid.fit(x_train_smote,y_train_smote)"
      ],
      "execution_count": null,
      "outputs": []
    },
    {
      "cell_type": "code",
      "metadata": {
        "id": "TcTq2URFC3qx"
      },
      "source": [
        "svc_grid.best_estimator_"
      ],
      "execution_count": null,
      "outputs": []
    },
    {
      "cell_type": "code",
      "metadata": {
        "id": "RjFISxlkC3qz"
      },
      "source": [
        "svc_optimal_model = svc_grid.best_estimator_"
      ],
      "execution_count": null,
      "outputs": []
    },
    {
      "cell_type": "code",
      "metadata": {
        "id": "PuimNK9tC3q2"
      },
      "source": [
        "svc_grid.best_params_"
      ],
      "execution_count": null,
      "outputs": []
    },
    {
      "cell_type": "code",
      "metadata": {
        "id": "kQVeooPWC3q5"
      },
      "source": [
        "# Making predictions on train and test data\n",
        "\n",
        "train_class_preds = svc_optimal_model = svc_grid.best_estimator_.predict(x_train_smote)\n",
        "y_pred = svc_optimal_model = svc_grid.best_estimator_.predict(X_test)"
      ],
      "execution_count": null,
      "outputs": []
    },
    {
      "cell_type": "markdown",
      "metadata": {
        "id": "yF4Z2WiKRf8-"
      },
      "source": [
        ">### Evaluating the Model Performance"
      ]
    },
    {
      "cell_type": "code",
      "metadata": {
        "id": "GRZQ85YtRf9A"
      },
      "source": [
        "# Function for fetching confusion matrix of imbalance and balanced data\n",
        "cm_smote = confusion_matrix(y_test, y_pred)\n",
        "print()\n",
        "print(\"Confusion Matrix on Balanced Data:\")\n",
        "print(cm_smote)\n",
        "print()\n",
        "print('=====================================================')\n",
        "print()\n",
        "print(\"Balanced Data:\")\n",
        "print(classification_report(y_test, y_pred))\n",
        "print()\n",
        "print('=====================================================')\n",
        "print()\n",
        "\n",
        "\n",
        "# Calculate roc_auc score on test set\n",
        "print(\"Balanced Data:\")\n",
        "print(\"ROC-AUC Score:\",round(roc_auc_score(y_test, y_pred), 2))"
      ],
      "execution_count": null,
      "outputs": []
    }
  ]
}